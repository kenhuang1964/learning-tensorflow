{
  "nbformat": 4,
  "nbformat_minor": 0,
  "metadata": {
    "colab": {
      "provenance": [],
      "authorship_tag": "ABX9TyPg6zil/C0ogmy4cmNtRUes",
      "include_colab_link": true
    },
    "kernelspec": {
      "name": "python3",
      "display_name": "Python 3"
    },
    "language_info": {
      "name": "python"
    },
    "accelerator": "GPU",
    "gpuClass": "standard"
  },
  "cells": [
    {
      "cell_type": "markdown",
      "metadata": {
        "id": "view-in-github",
        "colab_type": "text"
      },
      "source": [
        "<a href=\"https://colab.research.google.com/github/kenhuangsy/learning-tensorflow/blob/main/04_exercises.ipynb\" target=\"_parent\"><img src=\"https://colab.research.google.com/assets/colab-badge.svg\" alt=\"Open In Colab\"/></a>"
      ]
    },
    {
      "cell_type": "markdown",
      "source": [
        "## Building and fitting a model using the same data but with MobileNetV2 architecture feature extraction\n",
        "\n"
      ],
      "metadata": {
        "id": "n3QzGO-DyMEn"
      }
    },
    {
      "cell_type": "markdown",
      "source": [
        "## Downloading the data"
      ],
      "metadata": {
        "id": "O6K75hQTyUo_"
      }
    },
    {
      "cell_type": "code",
      "execution_count": 1,
      "metadata": {
        "colab": {
          "base_uri": "https://localhost:8080/"
        },
        "id": "QlMw8OgpyAmI",
        "outputId": "dae9d069-458b-4596-b17a-30569aa57b7a"
      },
      "outputs": [
        {
          "output_type": "stream",
          "name": "stdout",
          "text": [
            "--2022-11-14 02:14:39--  https://storage.googleapis.com/ztm_tf_course/food_vision/10_food_classes_10_percent.zip\n",
            "Resolving storage.googleapis.com (storage.googleapis.com)... 108.177.119.128, 108.177.126.128, 108.177.127.128, ...\n",
            "Connecting to storage.googleapis.com (storage.googleapis.com)|108.177.119.128|:443... connected.\n",
            "HTTP request sent, awaiting response... 200 OK\n",
            "Length: 168546183 (161M) [application/zip]\n",
            "Saving to: ‘10_food_classes_10_percent.zip’\n",
            "\n",
            "10_food_classes_10_ 100%[===================>] 160.74M  38.2MB/s    in 4.8s    \n",
            "\n",
            "2022-11-14 02:14:44 (33.6 MB/s) - ‘10_food_classes_10_percent.zip’ saved [168546183/168546183]\n",
            "\n"
          ]
        }
      ],
      "source": [
        "import zipfile\n",
        "\n",
        "!wget https://storage.googleapis.com/ztm_tf_course/food_vision/10_food_classes_10_percent.zip\n",
        "\n",
        "zip_ref = zipfile.ZipFile(\"10_food_classes_10_percent.zip\")\n",
        "zip_ref.extractall()\n",
        "zip_ref.close()"
      ]
    },
    {
      "cell_type": "code",
      "source": [
        "import os\n",
        "\n",
        "os.listdir()"
      ],
      "metadata": {
        "colab": {
          "base_uri": "https://localhost:8080/"
        },
        "id": "EXZPliSwz1vN",
        "outputId": "02fe41ed-9834-4efa-ebd5-c524af2919ec"
      },
      "execution_count": 2,
      "outputs": [
        {
          "output_type": "execute_result",
          "data": {
            "text/plain": [
              "['.config',\n",
              " '__MACOSX',\n",
              " '10_food_classes_10_percent.zip',\n",
              " '10_food_classes_10_percent',\n",
              " 'sample_data']"
            ]
          },
          "metadata": {},
          "execution_count": 2
        }
      ]
    },
    {
      "cell_type": "code",
      "source": [
        "os.walk"
      ],
      "metadata": {
        "colab": {
          "base_uri": "https://localhost:8080/"
        },
        "id": "0ynql_kp0DBT",
        "outputId": "1d19d782-d35f-4d12-eaf2-07302cfd9fcf"
      },
      "execution_count": 3,
      "outputs": [
        {
          "output_type": "execute_result",
          "data": {
            "text/plain": [
              "<function os.walk(top, topdown=True, onerror=None, followlinks=False)>"
            ]
          },
          "metadata": {},
          "execution_count": 3
        }
      ]
    },
    {
      "cell_type": "code",
      "source": [
        "import os\n",
        "\n",
        "for dirpath, dirnames, filenames in os.walk(\"10_food_classes_10_percent\"):\n",
        "  print(f\"There are {len(dirnames)} directories and {len(filenames)} images in {dirpath}.\")"
      ],
      "metadata": {
        "colab": {
          "base_uri": "https://localhost:8080/"
        },
        "id": "ASXFZPRmyjpP",
        "outputId": "ad4debd3-6dcd-4ee4-a547-49170033da4e"
      },
      "execution_count": 4,
      "outputs": [
        {
          "output_type": "stream",
          "name": "stdout",
          "text": [
            "There are 2 directories and 0 images in 10_food_classes_10_percent.\n",
            "There are 10 directories and 0 images in 10_food_classes_10_percent/train.\n",
            "There are 0 directories and 75 images in 10_food_classes_10_percent/train/hamburger.\n",
            "There are 0 directories and 75 images in 10_food_classes_10_percent/train/steak.\n",
            "There are 0 directories and 75 images in 10_food_classes_10_percent/train/chicken_wings.\n",
            "There are 0 directories and 75 images in 10_food_classes_10_percent/train/chicken_curry.\n",
            "There are 0 directories and 75 images in 10_food_classes_10_percent/train/ice_cream.\n",
            "There are 0 directories and 75 images in 10_food_classes_10_percent/train/sushi.\n",
            "There are 0 directories and 75 images in 10_food_classes_10_percent/train/fried_rice.\n",
            "There are 0 directories and 75 images in 10_food_classes_10_percent/train/ramen.\n",
            "There are 0 directories and 75 images in 10_food_classes_10_percent/train/pizza.\n",
            "There are 0 directories and 75 images in 10_food_classes_10_percent/train/grilled_salmon.\n",
            "There are 10 directories and 0 images in 10_food_classes_10_percent/test.\n",
            "There are 0 directories and 250 images in 10_food_classes_10_percent/test/hamburger.\n",
            "There are 0 directories and 250 images in 10_food_classes_10_percent/test/steak.\n",
            "There are 0 directories and 250 images in 10_food_classes_10_percent/test/chicken_wings.\n",
            "There are 0 directories and 250 images in 10_food_classes_10_percent/test/chicken_curry.\n",
            "There are 0 directories and 250 images in 10_food_classes_10_percent/test/ice_cream.\n",
            "There are 0 directories and 250 images in 10_food_classes_10_percent/test/sushi.\n",
            "There are 0 directories and 250 images in 10_food_classes_10_percent/test/fried_rice.\n",
            "There are 0 directories and 250 images in 10_food_classes_10_percent/test/ramen.\n",
            "There are 0 directories and 250 images in 10_food_classes_10_percent/test/pizza.\n",
            "There are 0 directories and 250 images in 10_food_classes_10_percent/test/grilled_salmon.\n"
          ]
        }
      ]
    },
    {
      "cell_type": "markdown",
      "source": [
        "## Creating data loaders (preparing the data)"
      ],
      "metadata": {
        "id": "dMC94VOL0cLo"
      }
    },
    {
      "cell_type": "code",
      "source": [
        "from tensorflow.keras.preprocessing.image import ImageDataGenerator\n",
        "\n",
        "IMAGE_SHAPE = (224, 224)\n",
        "BATCH_SIZE = 32\n",
        "\n",
        "train_dir = \"10_food_classes_10_percent/train/\"\n",
        "test_dir = \"10_food_classes_10_percent/test/\"\n",
        "\n",
        "train_datagen = ImageDataGenerator(rescale = 1/255.)\n",
        "test_datagen = ImageDataGenerator(rescale = 1/255.)\n",
        "\n",
        "print(\"Training images:\")\n",
        "train_data_10_percent = train_datagen.flow_from_directory(train_dir,\n",
        "                                                          target_size = IMAGE_SHAPE,\n",
        "                                                          batch_size = BATCH_SIZE,\n",
        "                                                          class_mode = \"categorical\")\n",
        "\n",
        "print(\"Testing images:\")\n",
        "test_data = test_datagen.flow_from_directory(test_dir,\n",
        "                                             target_size = IMAGE_SHAPE,\n",
        "                                             batch_size = BATCH_SIZE,\n",
        "                                             class_mode = \"categorical\")"
      ],
      "metadata": {
        "colab": {
          "base_uri": "https://localhost:8080/"
        },
        "id": "GC-QwauS0QmQ",
        "outputId": "732442f2-940b-47bd-8a95-348a8757cb08"
      },
      "execution_count": 5,
      "outputs": [
        {
          "output_type": "stream",
          "name": "stdout",
          "text": [
            "Training images:\n",
            "Found 750 images belonging to 10 classes.\n",
            "Testing images:\n",
            "Found 2500 images belonging to 10 classes.\n"
          ]
        }
      ]
    },
    {
      "cell_type": "markdown",
      "source": [
        "### Setting up callbacks"
      ],
      "metadata": {
        "id": "hLDFBLU92s1f"
      }
    },
    {
      "cell_type": "code",
      "source": [
        "import tensorflow as tf\n",
        "\n",
        "import datetime as dt\n",
        "\n",
        "def create_tensorboard_callback(dir_name, experiment_name):\n",
        "  log_dir = dir_name + \"/\" + experiment_name + \"/\" + dt.datetime.now().strftime(\"%Y%m%d-%H%M%S\")\n",
        "  tensorboard_callback = tf.keras.callbacks.TensorBoard(log_dir = log_dir)\n",
        "  print(f\"Saving TensorBoard log files to: {log_dir}\")\n",
        "  return tensorboard_callback"
      ],
      "metadata": {
        "id": "Uc_1XYO42pcp"
      },
      "execution_count": 6,
      "outputs": []
    },
    {
      "cell_type": "markdown",
      "source": [
        "### Creating model"
      ],
      "metadata": {
        "id": "dUItb0bX4Vvw"
      }
    },
    {
      "cell_type": "code",
      "source": [
        "mobilenet_url = \"https://tfhub.dev/google/imagenet/mobilenet_v2_100_224/feature_vector/5\"\n"
      ],
      "metadata": {
        "id": "ojDzlvdr3wmg"
      },
      "execution_count": 7,
      "outputs": []
    },
    {
      "cell_type": "code",
      "source": [
        "import tensorflow_hub as hub\n",
        "from tensorflow.keras import layers"
      ],
      "metadata": {
        "id": "BQMVSlBL4aJC"
      },
      "execution_count": 8,
      "outputs": []
    },
    {
      "cell_type": "code",
      "source": [
        "def create_model(model_url: str, num_classes = 10) -> tf.keras.Sequential:\n",
        "  \"\"\"\n",
        "  Takes a TensorFlow Hub URL and creataes a keras sequential model with it\n",
        "\n",
        "  Args:\n",
        "    model_url (str): A tensorflow hub feature extraction URL\n",
        "    num_classes (int): Number of output neurons in the output layer = 10 as default\n",
        "\n",
        "  Returns:\n",
        "    An uncompiled Keras Sequential model with model_url as feature extractor layer\n",
        "    and Dense output layer with num_classes output neurons\n",
        "  \"\"\"\n",
        "  feature_extraction_layer = hub.KerasLayer(model_url,\n",
        "                                            trainable = False,\n",
        "                                            name = \"feature_extraction_layer\",\n",
        "                                            input_shape = IMAGE_SHAPE + (3,))\n",
        "  \n",
        "  model = tf.keras.Sequential([\n",
        "      feature_extraction_layer,\n",
        "      layers.Dense(num_classes, activation = \"softmax\", name = \"output_layer\")\n",
        "  ])\n",
        "  return model"
      ],
      "metadata": {
        "id": "Q0l3LTGj4fdM"
      },
      "execution_count": 9,
      "outputs": []
    },
    {
      "cell_type": "code",
      "source": [
        "# Create mobilenet model\n",
        "\n",
        "mobilenet_model = create_model(mobilenet_url)"
      ],
      "metadata": {
        "id": "WsXfvQdG5ZQ1"
      },
      "execution_count": 10,
      "outputs": []
    },
    {
      "cell_type": "code",
      "source": [
        "mobilenet_model.summary()"
      ],
      "metadata": {
        "colab": {
          "base_uri": "https://localhost:8080/"
        },
        "id": "Xq7ztPom5hCE",
        "outputId": "5b09a0c8-f1b8-4fab-89cb-5715eff3c0bd"
      },
      "execution_count": 11,
      "outputs": [
        {
          "output_type": "stream",
          "name": "stdout",
          "text": [
            "Model: \"sequential\"\n",
            "_________________________________________________________________\n",
            " Layer (type)                Output Shape              Param #   \n",
            "=================================================================\n",
            " feature_extraction_layer (K  (None, 1280)             2257984   \n",
            " erasLayer)                                                      \n",
            "                                                                 \n",
            " output_layer (Dense)        (None, 10)                12810     \n",
            "                                                                 \n",
            "=================================================================\n",
            "Total params: 2,270,794\n",
            "Trainable params: 12,810\n",
            "Non-trainable params: 2,257,984\n",
            "_________________________________________________________________\n"
          ]
        }
      ]
    },
    {
      "cell_type": "code",
      "source": [
        "# Compile our model\n",
        "mobilenet_model.compile(loss = \"categorical_crossentropy\",\n",
        "                        optimizer = tf.keras.optimizers.Adam(),\n",
        "                        metrics= [\"accuracy\"])"
      ],
      "metadata": {
        "id": "8J4OoW8n5nVS"
      },
      "execution_count": 12,
      "outputs": []
    },
    {
      "cell_type": "code",
      "source": [
        "# Fit our model\n",
        "mobilenet_history = mobilenet_model.fit(train_data_10_percent,\n",
        "                                        epochs = 10,\n",
        "                                        steps_per_epoch = len(train_data_10_percent),\n",
        "                                        validation_data = test_data,\n",
        "                                        validation_steps = len(test_data),\n",
        "                                        callbacks = [create_tensorboard_callback(dir_name = \"tensorflow_hub\",\n",
        "                                                                                 experiment_name = \"mobilenet_v2\")])"
      ],
      "metadata": {
        "colab": {
          "base_uri": "https://localhost:8080/"
        },
        "id": "s0s77HfX56dG",
        "outputId": "dfef199a-ef3c-4da3-a9bb-0fe4af55dcbc"
      },
      "execution_count": 17,
      "outputs": [
        {
          "output_type": "stream",
          "name": "stdout",
          "text": [
            "Saving TensorBoard log files to: tensorflow_hub/mobilenet_v2/20221114-022305\n",
            "Epoch 1/10\n",
            "24/24 [==============================] - 15s 634ms/step - loss: 0.2062 - accuracy: 0.9813 - val_loss: 0.5628 - val_accuracy: 0.8196\n",
            "Epoch 2/10\n",
            "24/24 [==============================] - 15s 665ms/step - loss: 0.1849 - accuracy: 0.9853 - val_loss: 0.5633 - val_accuracy: 0.8160\n",
            "Epoch 3/10\n",
            "24/24 [==============================] - 15s 630ms/step - loss: 0.1641 - accuracy: 0.9920 - val_loss: 0.5552 - val_accuracy: 0.8204\n",
            "Epoch 4/10\n",
            "24/24 [==============================] - 15s 631ms/step - loss: 0.1477 - accuracy: 0.9933 - val_loss: 0.5540 - val_accuracy: 0.8188\n",
            "Epoch 5/10\n",
            "24/24 [==============================] - 15s 662ms/step - loss: 0.1345 - accuracy: 0.9933 - val_loss: 0.5513 - val_accuracy: 0.8188\n",
            "Epoch 6/10\n",
            "24/24 [==============================] - 15s 626ms/step - loss: 0.1205 - accuracy: 0.9947 - val_loss: 0.5517 - val_accuracy: 0.8196\n",
            "Epoch 7/10\n",
            "24/24 [==============================] - 15s 628ms/step - loss: 0.1102 - accuracy: 0.9960 - val_loss: 0.5482 - val_accuracy: 0.8224\n",
            "Epoch 8/10\n",
            "24/24 [==============================] - 15s 626ms/step - loss: 0.1005 - accuracy: 0.9973 - val_loss: 0.5475 - val_accuracy: 0.8224\n",
            "Epoch 9/10\n",
            "24/24 [==============================] - 15s 663ms/step - loss: 0.0927 - accuracy: 0.9987 - val_loss: 0.5511 - val_accuracy: 0.8176\n",
            "Epoch 10/10\n",
            "24/24 [==============================] - 15s 626ms/step - loss: 0.0861 - accuracy: 1.0000 - val_loss: 0.5449 - val_accuracy: 0.8216\n"
          ]
        }
      ]
    },
    {
      "cell_type": "code",
      "source": [
        "!tensorboard dev upload --logdir ./tensorflow_hub/ \\\n",
        "  --name \"MobileNetV2\" \\\n",
        "  --description \"MobileNetV2 performance\" \\\n",
        "  --one_shot"
      ],
      "metadata": {
        "colab": {
          "base_uri": "https://localhost:8080/"
        },
        "id": "UV0qr7Sr6c3M",
        "outputId": "c7178480-924e-4dfc-c6ea-3fe1c22b79c2"
      },
      "execution_count": 18,
      "outputs": [
        {
          "output_type": "stream",
          "name": "stdout",
          "text": [
            "\n",
            "New experiment created. View your TensorBoard at: https://tensorboard.dev/experiment/kIgyUnBoQ3qmXgAaonn2kw/\n",
            "\n",
            "\u001b[1m[2022-11-14T02:26:03]\u001b[0m Started scanning logdir.\n",
            "\u001b[1m[2022-11-14T02:26:05]\u001b[0m Total uploaded: 60 scalars, 0 tensors, 1 binary objects (1.6 MB)\n",
            "\u001b[1m[2022-11-14T02:26:05]\u001b[0m Done scanning logdir.\n",
            "\n",
            "\n",
            "Done. View your TensorBoard at https://tensorboard.dev/experiment/kIgyUnBoQ3qmXgAaonn2kw/\n"
          ]
        }
      ]
    },
    {
      "cell_type": "code",
      "source": [],
      "metadata": {
        "id": "xpaLTyIt79DG"
      },
      "execution_count": null,
      "outputs": []
    }
  ]
}