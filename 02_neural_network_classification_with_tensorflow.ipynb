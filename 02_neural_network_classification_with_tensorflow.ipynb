{
  "nbformat": 4,
  "nbformat_minor": 0,
  "metadata": {
    "colab": {
      "provenance": [],
      "authorship_tag": "ABX9TyM+wBH22NQoOFbWwvwkC2OD",
      "include_colab_link": true
    },
    "kernelspec": {
      "name": "python3",
      "display_name": "Python 3"
    },
    "language_info": {
      "name": "python"
    }
  },
  "cells": [
    {
      "cell_type": "markdown",
      "metadata": {
        "id": "view-in-github",
        "colab_type": "text"
      },
      "source": [
        "<a href=\"https://colab.research.google.com/github/kenhuangsy/learning-tensorflow/blob/main/02_neural_network_classification_with_tensorflow.ipynb\" target=\"_parent\"><img src=\"https://colab.research.google.com/assets/colab-badge.svg\" alt=\"Open In Colab\"/></a>"
      ]
    },
    {
      "cell_type": "markdown",
      "source": [
        "# Introduction to neural network classification with TensorFlow\n",
        "\n",
        "In this notebook, w're going to learn how to write neural networks for classification problems\n",
        "* Binary classification\n",
        "* Multiclass classification\n",
        "* Multilabel classification\n"
      ],
      "metadata": {
        "id": "VM8oNBAbkAP2"
      }
    },
    {
      "cell_type": "markdown",
      "source": [
        "## Creating data to view and fit"
      ],
      "metadata": {
        "id": "q2NNNoSskYcq"
      }
    },
    {
      "cell_type": "code",
      "source": [
        "from sklearn.datasets import make_circles\n",
        "\n",
        "# Make 1000 examples\n",
        "n_samples = 1000\n",
        "# Create circles\n",
        "X, y = make_circles(n_samples,\n",
        "                    noise = 0.03,\n",
        "                    random_state = 42)"
      ],
      "metadata": {
        "id": "W9qOWbgXkNi9"
      },
      "execution_count": null,
      "outputs": []
    },
    {
      "cell_type": "code",
      "source": [
        "# Check out features\n",
        "X"
      ],
      "metadata": {
        "colab": {
          "base_uri": "https://localhost:8080/"
        },
        "id": "FwR9vlidkppg",
        "outputId": "74b5dac6-096f-41d4-ba8f-9b195dae1889"
      },
      "execution_count": null,
      "outputs": [
        {
          "output_type": "execute_result",
          "data": {
            "text/plain": [
              "array([[ 0.75424625,  0.23148074],\n",
              "       [-0.75615888,  0.15325888],\n",
              "       [-0.81539193,  0.17328203],\n",
              "       ...,\n",
              "       [-0.13690036, -0.81001183],\n",
              "       [ 0.67036156, -0.76750154],\n",
              "       [ 0.28105665,  0.96382443]])"
            ]
          },
          "metadata": {},
          "execution_count": 63
        }
      ]
    },
    {
      "cell_type": "code",
      "source": [
        "# Check the labels\n",
        "y"
      ],
      "metadata": {
        "colab": {
          "base_uri": "https://localhost:8080/"
        },
        "id": "HvnTbwSbk2Eu",
        "outputId": "e7f0c6a1-2cbd-474e-f83f-fe4bc5f02b60"
      },
      "execution_count": null,
      "outputs": [
        {
          "output_type": "execute_result",
          "data": {
            "text/plain": [
              "array([1, 1, 1, 1, 0, 1, 1, 1, 1, 0, 1, 0, 1, 1, 1, 1, 0, 1, 1, 0, 1, 0,\n",
              "       0, 1, 0, 0, 0, 1, 1, 1, 0, 0, 1, 0, 0, 0, 1, 1, 1, 0, 0, 0, 0, 1,\n",
              "       0, 0, 1, 1, 0, 1, 1, 1, 0, 1, 0, 0, 1, 0, 0, 1, 0, 0, 1, 0, 1, 1,\n",
              "       1, 1, 0, 1, 0, 0, 1, 1, 0, 0, 1, 0, 1, 0, 1, 0, 0, 0, 0, 1, 1, 1,\n",
              "       1, 0, 0, 0, 1, 0, 1, 0, 1, 0, 0, 1, 1, 0, 1, 0, 1, 1, 1, 1, 0, 1,\n",
              "       1, 1, 1, 1, 0, 0, 0, 1, 1, 0, 1, 0, 1, 0, 0, 1, 1, 0, 1, 1, 1, 1,\n",
              "       0, 1, 1, 0, 0, 0, 0, 0, 0, 0, 1, 0, 1, 1, 1, 0, 1, 0, 1, 0, 1, 0,\n",
              "       1, 0, 0, 1, 0, 1, 1, 1, 1, 1, 1, 1, 0, 1, 0, 0, 0, 0, 0, 1, 0, 0,\n",
              "       0, 0, 1, 1, 0, 1, 0, 1, 1, 0, 0, 0, 1, 1, 1, 1, 1, 0, 0, 0, 0, 0,\n",
              "       1, 0, 0, 1, 1, 1, 1, 1, 0, 1, 0, 1, 0, 0, 1, 1, 1, 0, 1, 0, 1, 1,\n",
              "       0, 1, 1, 0, 1, 0, 1, 0, 1, 1, 0, 1, 0, 1, 0, 0, 0, 1, 0, 0, 0, 0,\n",
              "       1, 1, 0, 0, 0, 0, 0, 0, 0, 1, 1, 1, 0, 0, 1, 1, 1, 0, 1, 0, 0, 0,\n",
              "       0, 1, 1, 0, 1, 0, 0, 0, 1, 0, 1, 0, 0, 1, 0, 1, 1, 1, 0, 0, 0, 1,\n",
              "       0, 0, 0, 1, 1, 1, 1, 0, 0, 0, 1, 0, 0, 0, 1, 0, 0, 0, 1, 1, 0, 1,\n",
              "       1, 1, 1, 1, 1, 1, 0, 0, 0, 0, 1, 0, 0, 0, 0, 1, 1, 1, 0, 0, 1, 0,\n",
              "       1, 0, 1, 1, 0, 0, 1, 1, 1, 1, 0, 0, 0, 0, 0, 0, 1, 1, 0, 1, 0, 0,\n",
              "       1, 0, 0, 0, 0, 0, 0, 0, 0, 1, 0, 0, 0, 0, 1, 0, 0, 1, 0, 1, 0, 0,\n",
              "       0, 1, 0, 0, 1, 1, 0, 0, 1, 0, 0, 1, 1, 0, 1, 1, 0, 0, 1, 0, 1, 0,\n",
              "       0, 0, 1, 1, 0, 0, 1, 1, 1, 1, 1, 0, 0, 1, 1, 1, 1, 0, 1, 1, 1, 1,\n",
              "       1, 0, 0, 1, 0, 1, 0, 0, 0, 0, 1, 0, 0, 0, 0, 0, 0, 0, 0, 0, 1, 1,\n",
              "       0, 1, 1, 1, 1, 1, 1, 0, 1, 1, 1, 1, 0, 0, 0, 1, 1, 1, 0, 0, 0, 0,\n",
              "       1, 1, 0, 0, 0, 0, 1, 0, 0, 0, 1, 0, 0, 1, 1, 1, 1, 1, 1, 0, 0, 0,\n",
              "       1, 0, 0, 0, 0, 0, 1, 1, 1, 0, 0, 0, 0, 0, 1, 1, 1, 0, 0, 1, 1, 1,\n",
              "       1, 0, 1, 1, 0, 1, 0, 0, 0, 1, 0, 0, 1, 0, 0, 1, 1, 0, 0, 1, 1, 0,\n",
              "       1, 0, 1, 0, 1, 0, 1, 0, 0, 0, 1, 0, 0, 0, 0, 0, 0, 1, 1, 1, 1, 0,\n",
              "       0, 0, 1, 0, 1, 1, 0, 0, 0, 0, 0, 1, 1, 1, 0, 0, 1, 0, 0, 1, 0, 0,\n",
              "       1, 0, 0, 1, 0, 0, 0, 1, 0, 0, 1, 1, 1, 0, 1, 1, 0, 0, 0, 1, 1, 1,\n",
              "       1, 0, 0, 1, 1, 1, 0, 0, 0, 0, 1, 1, 0, 0, 1, 1, 0, 0, 1, 1, 1, 1,\n",
              "       1, 1, 1, 0, 1, 0, 1, 0, 0, 1, 0, 1, 1, 1, 1, 0, 0, 1, 1, 0, 0, 1,\n",
              "       0, 1, 0, 0, 0, 1, 0, 0, 1, 1, 1, 1, 0, 1, 1, 1, 1, 1, 1, 1, 0, 1,\n",
              "       0, 1, 1, 1, 0, 0, 1, 0, 0, 0, 1, 1, 1, 1, 0, 0, 0, 0, 1, 0, 1, 1,\n",
              "       1, 0, 1, 0, 0, 1, 0, 0, 1, 1, 1, 1, 1, 0, 1, 0, 0, 0, 1, 1, 1, 1,\n",
              "       1, 0, 0, 0, 1, 1, 1, 1, 0, 0, 0, 0, 0, 1, 1, 0, 1, 0, 1, 0, 0, 0,\n",
              "       0, 0, 0, 0, 0, 0, 1, 1, 1, 1, 1, 0, 1, 0, 1, 1, 1, 1, 0, 1, 1, 1,\n",
              "       1, 1, 1, 1, 1, 0, 1, 1, 0, 1, 0, 0, 0, 1, 0, 1, 1, 1, 0, 1, 1, 0,\n",
              "       1, 1, 0, 1, 0, 1, 1, 0, 0, 1, 1, 1, 0, 0, 0, 0, 1, 1, 0, 0, 1, 1,\n",
              "       1, 1, 1, 1, 1, 1, 1, 1, 1, 1, 1, 1, 0, 0, 1, 0, 1, 0, 1, 0, 1, 1,\n",
              "       1, 1, 1, 1, 0, 1, 0, 1, 1, 1, 0, 1, 1, 0, 0, 1, 0, 1, 1, 0, 0, 1,\n",
              "       1, 1, 1, 1, 1, 1, 1, 0, 1, 1, 1, 0, 1, 0, 0, 1, 1, 0, 0, 0, 1, 0,\n",
              "       0, 1, 0, 0, 0, 1, 0, 1, 0, 0, 0, 0, 1, 0, 1, 1, 1, 1, 0, 1, 0, 0,\n",
              "       0, 0, 0, 0, 1, 0, 1, 0, 1, 0, 1, 1, 1, 0, 1, 0, 1, 0, 0, 1, 1, 1,\n",
              "       0, 0, 0, 1, 1, 0, 1, 0, 1, 1, 0, 1, 0, 0, 1, 1, 1, 0, 0, 0, 1, 1,\n",
              "       0, 0, 0, 0, 0, 1, 1, 0, 1, 0, 0, 0, 1, 0, 0, 0, 1, 1, 1, 1, 0, 1,\n",
              "       1, 1, 0, 1, 1, 1, 1, 0, 1, 1, 0, 1, 1, 0, 0, 1, 1, 1, 0, 0, 0, 0,\n",
              "       0, 0, 1, 0, 0, 1, 0, 0, 0, 1, 0, 1, 0, 1, 1, 0, 0, 0, 0, 0, 0, 0,\n",
              "       0, 1, 0, 1, 0, 0, 0, 1, 0, 0])"
            ]
          },
          "metadata": {},
          "execution_count": 64
        }
      ]
    },
    {
      "cell_type": "markdown",
      "source": [
        "Let's visualize our data"
      ],
      "metadata": {
        "id": "fHv_qGuHlLu9"
      }
    },
    {
      "cell_type": "code",
      "source": [
        "import pandas as pd\n",
        "circles = pd.DataFrame({\"X0\": X[:, 0], \"X1\": X[:, 1], \"label\":y})\n",
        "circles"
      ],
      "metadata": {
        "colab": {
          "base_uri": "https://localhost:8080/",
          "height": 423
        },
        "id": "fh5Jk9O7k4qO",
        "outputId": "b75994ba-7fb4-4817-d177-8062df2821b3"
      },
      "execution_count": null,
      "outputs": [
        {
          "output_type": "execute_result",
          "data": {
            "text/plain": [
              "           X0        X1  label\n",
              "0    0.754246  0.231481      1\n",
              "1   -0.756159  0.153259      1\n",
              "2   -0.815392  0.173282      1\n",
              "3   -0.393731  0.692883      1\n",
              "4    0.442208 -0.896723      0\n",
              "..        ...       ...    ...\n",
              "995  0.244054  0.944125      0\n",
              "996 -0.978655 -0.272373      0\n",
              "997 -0.136900 -0.810012      1\n",
              "998  0.670362 -0.767502      0\n",
              "999  0.281057  0.963824      0\n",
              "\n",
              "[1000 rows x 3 columns]"
            ],
            "text/html": [
              "\n",
              "  <div id=\"df-2e75836a-0248-44ea-b32c-e6f270ec491c\">\n",
              "    <div class=\"colab-df-container\">\n",
              "      <div>\n",
              "<style scoped>\n",
              "    .dataframe tbody tr th:only-of-type {\n",
              "        vertical-align: middle;\n",
              "    }\n",
              "\n",
              "    .dataframe tbody tr th {\n",
              "        vertical-align: top;\n",
              "    }\n",
              "\n",
              "    .dataframe thead th {\n",
              "        text-align: right;\n",
              "    }\n",
              "</style>\n",
              "<table border=\"1\" class=\"dataframe\">\n",
              "  <thead>\n",
              "    <tr style=\"text-align: right;\">\n",
              "      <th></th>\n",
              "      <th>X0</th>\n",
              "      <th>X1</th>\n",
              "      <th>label</th>\n",
              "    </tr>\n",
              "  </thead>\n",
              "  <tbody>\n",
              "    <tr>\n",
              "      <th>0</th>\n",
              "      <td>0.754246</td>\n",
              "      <td>0.231481</td>\n",
              "      <td>1</td>\n",
              "    </tr>\n",
              "    <tr>\n",
              "      <th>1</th>\n",
              "      <td>-0.756159</td>\n",
              "      <td>0.153259</td>\n",
              "      <td>1</td>\n",
              "    </tr>\n",
              "    <tr>\n",
              "      <th>2</th>\n",
              "      <td>-0.815392</td>\n",
              "      <td>0.173282</td>\n",
              "      <td>1</td>\n",
              "    </tr>\n",
              "    <tr>\n",
              "      <th>3</th>\n",
              "      <td>-0.393731</td>\n",
              "      <td>0.692883</td>\n",
              "      <td>1</td>\n",
              "    </tr>\n",
              "    <tr>\n",
              "      <th>4</th>\n",
              "      <td>0.442208</td>\n",
              "      <td>-0.896723</td>\n",
              "      <td>0</td>\n",
              "    </tr>\n",
              "    <tr>\n",
              "      <th>...</th>\n",
              "      <td>...</td>\n",
              "      <td>...</td>\n",
              "      <td>...</td>\n",
              "    </tr>\n",
              "    <tr>\n",
              "      <th>995</th>\n",
              "      <td>0.244054</td>\n",
              "      <td>0.944125</td>\n",
              "      <td>0</td>\n",
              "    </tr>\n",
              "    <tr>\n",
              "      <th>996</th>\n",
              "      <td>-0.978655</td>\n",
              "      <td>-0.272373</td>\n",
              "      <td>0</td>\n",
              "    </tr>\n",
              "    <tr>\n",
              "      <th>997</th>\n",
              "      <td>-0.136900</td>\n",
              "      <td>-0.810012</td>\n",
              "      <td>1</td>\n",
              "    </tr>\n",
              "    <tr>\n",
              "      <th>998</th>\n",
              "      <td>0.670362</td>\n",
              "      <td>-0.767502</td>\n",
              "      <td>0</td>\n",
              "    </tr>\n",
              "    <tr>\n",
              "      <th>999</th>\n",
              "      <td>0.281057</td>\n",
              "      <td>0.963824</td>\n",
              "      <td>0</td>\n",
              "    </tr>\n",
              "  </tbody>\n",
              "</table>\n",
              "<p>1000 rows × 3 columns</p>\n",
              "</div>\n",
              "      <button class=\"colab-df-convert\" onclick=\"convertToInteractive('df-2e75836a-0248-44ea-b32c-e6f270ec491c')\"\n",
              "              title=\"Convert this dataframe to an interactive table.\"\n",
              "              style=\"display:none;\">\n",
              "        \n",
              "  <svg xmlns=\"http://www.w3.org/2000/svg\" height=\"24px\"viewBox=\"0 0 24 24\"\n",
              "       width=\"24px\">\n",
              "    <path d=\"M0 0h24v24H0V0z\" fill=\"none\"/>\n",
              "    <path d=\"M18.56 5.44l.94 2.06.94-2.06 2.06-.94-2.06-.94-.94-2.06-.94 2.06-2.06.94zm-11 1L8.5 8.5l.94-2.06 2.06-.94-2.06-.94L8.5 2.5l-.94 2.06-2.06.94zm10 10l.94 2.06.94-2.06 2.06-.94-2.06-.94-.94-2.06-.94 2.06-2.06.94z\"/><path d=\"M17.41 7.96l-1.37-1.37c-.4-.4-.92-.59-1.43-.59-.52 0-1.04.2-1.43.59L10.3 9.45l-7.72 7.72c-.78.78-.78 2.05 0 2.83L4 21.41c.39.39.9.59 1.41.59.51 0 1.02-.2 1.41-.59l7.78-7.78 2.81-2.81c.8-.78.8-2.07 0-2.86zM5.41 20L4 18.59l7.72-7.72 1.47 1.35L5.41 20z\"/>\n",
              "  </svg>\n",
              "      </button>\n",
              "      \n",
              "  <style>\n",
              "    .colab-df-container {\n",
              "      display:flex;\n",
              "      flex-wrap:wrap;\n",
              "      gap: 12px;\n",
              "    }\n",
              "\n",
              "    .colab-df-convert {\n",
              "      background-color: #E8F0FE;\n",
              "      border: none;\n",
              "      border-radius: 50%;\n",
              "      cursor: pointer;\n",
              "      display: none;\n",
              "      fill: #1967D2;\n",
              "      height: 32px;\n",
              "      padding: 0 0 0 0;\n",
              "      width: 32px;\n",
              "    }\n",
              "\n",
              "    .colab-df-convert:hover {\n",
              "      background-color: #E2EBFA;\n",
              "      box-shadow: 0px 1px 2px rgba(60, 64, 67, 0.3), 0px 1px 3px 1px rgba(60, 64, 67, 0.15);\n",
              "      fill: #174EA6;\n",
              "    }\n",
              "\n",
              "    [theme=dark] .colab-df-convert {\n",
              "      background-color: #3B4455;\n",
              "      fill: #D2E3FC;\n",
              "    }\n",
              "\n",
              "    [theme=dark] .colab-df-convert:hover {\n",
              "      background-color: #434B5C;\n",
              "      box-shadow: 0px 1px 3px 1px rgba(0, 0, 0, 0.15);\n",
              "      filter: drop-shadow(0px 1px 2px rgba(0, 0, 0, 0.3));\n",
              "      fill: #FFFFFF;\n",
              "    }\n",
              "  </style>\n",
              "\n",
              "      <script>\n",
              "        const buttonEl =\n",
              "          document.querySelector('#df-2e75836a-0248-44ea-b32c-e6f270ec491c button.colab-df-convert');\n",
              "        buttonEl.style.display =\n",
              "          google.colab.kernel.accessAllowed ? 'block' : 'none';\n",
              "\n",
              "        async function convertToInteractive(key) {\n",
              "          const element = document.querySelector('#df-2e75836a-0248-44ea-b32c-e6f270ec491c');\n",
              "          const dataTable =\n",
              "            await google.colab.kernel.invokeFunction('convertToInteractive',\n",
              "                                                     [key], {});\n",
              "          if (!dataTable) return;\n",
              "\n",
              "          const docLinkHtml = 'Like what you see? Visit the ' +\n",
              "            '<a target=\"_blank\" href=https://colab.research.google.com/notebooks/data_table.ipynb>data table notebook</a>'\n",
              "            + ' to learn more about interactive tables.';\n",
              "          element.innerHTML = '';\n",
              "          dataTable['output_type'] = 'display_data';\n",
              "          await google.colab.output.renderOutput(dataTable, element);\n",
              "          const docLink = document.createElement('div');\n",
              "          docLink.innerHTML = docLinkHtml;\n",
              "          element.appendChild(docLink);\n",
              "        }\n",
              "      </script>\n",
              "    </div>\n",
              "  </div>\n",
              "  "
            ]
          },
          "metadata": {},
          "execution_count": 65
        }
      ]
    },
    {
      "cell_type": "code",
      "source": [
        "# Visualize with a plot\n",
        "import matplotlib.pyplot as plt\n",
        "plt.scatter(X[:, 0], X[:, 1], c = y, cmap = plt.cm.RdYlBu)"
      ],
      "metadata": {
        "colab": {
          "base_uri": "https://localhost:8080/",
          "height": 283
        },
        "id": "Whe1u8qglbYS",
        "outputId": "dcb8450e-3e0b-40f0-b64b-b714c923c549"
      },
      "execution_count": null,
      "outputs": [
        {
          "output_type": "execute_result",
          "data": {
            "text/plain": [
              "<matplotlib.collections.PathCollection at 0x7fd43500a2d0>"
            ]
          },
          "metadata": {},
          "execution_count": 66
        },
        {
          "output_type": "display_data",
          "data": {
            "text/plain": [
              "<Figure size 432x288 with 1 Axes>"
            ],
            "image/png": "[encoded data removed]"
          },
          "metadata": {
            "needs_background": "light"
          }
        }
      ]
    },
    {
      "cell_type": "markdown",
      "source": [
        "## Input and output shape"
      ],
      "metadata": {
        "id": "2T4PGt9IlyhQ"
      }
    },
    {
      "cell_type": "code",
      "source": [
        "X.shape, y.shape"
      ],
      "metadata": {
        "colab": {
          "base_uri": "https://localhost:8080/"
        },
        "id": "jk7bRz-gmiZX",
        "outputId": "87af521a-cec6-4180-dbb7-828a852873f3"
      },
      "execution_count": null,
      "outputs": [
        {
          "output_type": "execute_result",
          "data": {
            "text/plain": [
              "((1000, 2), (1000,))"
            ]
          },
          "metadata": {},
          "execution_count": 67
        }
      ]
    },
    {
      "cell_type": "code",
      "source": [
        "# View the first example of features and labels\n",
        "X[0], y[0]"
      ],
      "metadata": {
        "colab": {
          "base_uri": "https://localhost:8080/"
        },
        "id": "heSd0vRmmjYe",
        "outputId": "72d5eed3-3c90-4486-d0c5-5eb01b64e6be"
      },
      "execution_count": null,
      "outputs": [
        {
          "output_type": "execute_result",
          "data": {
            "text/plain": [
              "(array([0.75424625, 0.23148074]), 1)"
            ]
          },
          "metadata": {},
          "execution_count": 68
        }
      ]
    },
    {
      "cell_type": "markdown",
      "source": [
        "## Steps in modeling\n",
        "\n",
        "1. Create or import a model\n",
        "2. Compile the model\n",
        "3. Fit the model\n",
        "4. Evaluate the model\n",
        "5. Tweak\n",
        "6. Evaluate...\n"
      ],
      "metadata": {
        "id": "4I9ma_TtmtsU"
      }
    },
    {
      "cell_type": "code",
      "source": [
        "import tensorflow as tf"
      ],
      "metadata": {
        "id": "BOCvIHY6WUhV"
      },
      "execution_count": null,
      "outputs": []
    },
    {
      "cell_type": "code",
      "source": [
        "# Set random seed\n",
        "tf.random.set_seed(42)\n",
        "\n",
        "# 1. Create the model \n",
        "model_1 = tf.keras.Sequential([\n",
        "    tf.keras.layers.Dense(1)\n",
        "])\n",
        "\n",
        "# 2. Compile the app\n",
        "model_1.compile(loss = tf.keras.losses.BinaryCrossentropy(),\n",
        "                optimizer = tf.keras.optimizers.Adam(),\n",
        "                metrics = [\"accuracy\"])\n",
        "\n",
        "# 3. Fit the model\n",
        "model_1.fit(X, y, epochs = 5)"
      ],
      "metadata": {
        "colab": {
          "base_uri": "https://localhost:8080/"
        },
        "id": "7JiVMlzaWPhe",
        "outputId": "26dd1349-4f5c-46c9-ae2a-b50294cd29eb"
      },
      "execution_count": null,
      "outputs": [
        {
          "output_type": "stream",
          "name": "stdout",
          "text": [
            "Epoch 1/5\n",
            "32/32 [==============================] - 1s 2ms/step - loss: 4.2979 - accuracy: 0.4670\n",
            "Epoch 2/5\n",
            "32/32 [==============================] - 0s 1ms/step - loss: 4.2317 - accuracy: 0.4400\n",
            "Epoch 3/5\n",
            "32/32 [==============================] - 0s 2ms/step - loss: 4.1610 - accuracy: 0.4310\n",
            "Epoch 4/5\n",
            "32/32 [==============================] - 0s 2ms/step - loss: 4.1183 - accuracy: 0.4270\n",
            "Epoch 5/5\n",
            "32/32 [==============================] - 0s 2ms/step - loss: 4.0784 - accuracy: 0.4240\n"
          ]
        },
        {
          "output_type": "execute_result",
          "data": {
            "text/plain": [
              "<keras.callbacks.History at 0x7fd43608c090>"
            ]
          },
          "metadata": {},
          "execution_count": 70
        }
      ]
    },
    {
      "cell_type": "code",
      "source": [
        "# Let's train it for longer\n",
        "model_1.fit(X, y, epochs = 200)"
      ],
      "metadata": {
        "colab": {
          "base_uri": "https://localhost:8080/"
        },
        "id": "SmCYVZXJXDhW",
        "outputId": "d4beaad4-3c91-45f8-bb90-d04c81dec3dd"
      },
      "execution_count": null,
      "outputs": [
        {
          "output_type": "stream",
          "name": "stdout",
          "text": [
            "Epoch 1/200\n",
            "32/32 [==============================] - 0s 2ms/step - loss: 3.9453 - accuracy: 0.4180\n",
            "Epoch 2/200\n",
            "32/32 [==============================] - 0s 2ms/step - loss: 3.8491 - accuracy: 0.4130\n",
            "Epoch 3/200\n",
            "32/32 [==============================] - 0s 2ms/step - loss: 3.8110 - accuracy: 0.4140\n",
            "Epoch 4/200\n",
            "32/32 [==============================] - 0s 2ms/step - loss: 3.7890 - accuracy: 0.4190\n",
            "Epoch 5/200\n",
            "32/32 [==============================] - 0s 2ms/step - loss: 3.7608 - accuracy: 0.4210\n",
            "Epoch 6/200\n",
            "32/32 [==============================] - 0s 2ms/step - loss: 3.6151 - accuracy: 0.4370\n",
            "Epoch 7/200\n",
            "32/32 [==============================] - 0s 1ms/step - loss: 3.5480 - accuracy: 0.4440\n",
            "Epoch 8/200\n",
            "32/32 [==============================] - 0s 1ms/step - loss: 3.5293 - accuracy: 0.4430\n",
            "Epoch 9/200\n",
            "32/32 [==============================] - 0s 2ms/step - loss: 3.5047 - accuracy: 0.4450\n",
            "Epoch 10/200\n",
            "32/32 [==============================] - 0s 3ms/step - loss: 3.4199 - accuracy: 0.4470\n",
            "Epoch 11/200\n",
            "32/32 [==============================] - 0s 3ms/step - loss: 3.3609 - accuracy: 0.4480\n",
            "Epoch 12/200\n",
            "32/32 [==============================] - 0s 2ms/step - loss: 3.3243 - accuracy: 0.4490\n",
            "Epoch 13/200\n",
            "32/32 [==============================] - 0s 3ms/step - loss: 3.2654 - accuracy: 0.4480\n",
            "Epoch 14/200\n",
            "32/32 [==============================] - 0s 3ms/step - loss: 3.0750 - accuracy: 0.4520\n",
            "Epoch 15/200\n",
            "32/32 [==============================] - 0s 3ms/step - loss: 2.7310 - accuracy: 0.4520\n",
            "Epoch 16/200\n",
            "32/32 [==============================] - 0s 3ms/step - loss: 2.5522 - accuracy: 0.4510\n",
            "Epoch 17/200\n",
            "32/32 [==============================] - 0s 2ms/step - loss: 2.3645 - accuracy: 0.4450\n",
            "Epoch 18/200\n",
            "32/32 [==============================] - 0s 4ms/step - loss: 2.1894 - accuracy: 0.4430\n",
            "Epoch 19/200\n",
            "32/32 [==============================] - 0s 2ms/step - loss: 1.8855 - accuracy: 0.4420\n",
            "Epoch 20/200\n",
            "32/32 [==============================] - 0s 2ms/step - loss: 1.4086 - accuracy: 0.4380\n",
            "Epoch 21/200\n",
            "32/32 [==============================] - 0s 2ms/step - loss: 1.0151 - accuracy: 0.4170\n",
            "Epoch 22/200\n",
            "32/32 [==============================] - 0s 2ms/step - loss: 0.9725 - accuracy: 0.4150\n",
            "Epoch 23/200\n",
            "32/32 [==============================] - 0s 2ms/step - loss: 0.9529 - accuracy: 0.4130\n",
            "Epoch 24/200\n",
            "32/32 [==============================] - 0s 2ms/step - loss: 0.9380 - accuracy: 0.4110\n",
            "Epoch 25/200\n",
            "32/32 [==============================] - 0s 2ms/step - loss: 0.9257 - accuracy: 0.4120\n",
            "Epoch 26/200\n",
            "32/32 [==============================] - 0s 5ms/step - loss: 0.9147 - accuracy: 0.4110\n",
            "Epoch 27/200\n",
            "32/32 [==============================] - 0s 5ms/step - loss: 0.9052 - accuracy: 0.4110\n",
            "Epoch 28/200\n",
            "32/32 [==============================] - 0s 4ms/step - loss: 0.8965 - accuracy: 0.4110\n",
            "Epoch 29/200\n",
            "32/32 [==============================] - 0s 5ms/step - loss: 0.8885 - accuracy: 0.4120\n",
            "Epoch 30/200\n",
            "32/32 [==============================] - 0s 6ms/step - loss: 0.8811 - accuracy: 0.4120\n",
            "Epoch 31/200\n",
            "32/32 [==============================] - 0s 2ms/step - loss: 0.8743 - accuracy: 0.4110\n",
            "Epoch 32/200\n",
            "32/32 [==============================] - 0s 4ms/step - loss: 0.8676 - accuracy: 0.4110\n",
            "Epoch 33/200\n",
            "32/32 [==============================] - 0s 3ms/step - loss: 0.8617 - accuracy: 0.4110\n",
            "Epoch 34/200\n",
            "32/32 [==============================] - 0s 2ms/step - loss: 0.8561 - accuracy: 0.4110\n",
            "Epoch 35/200\n",
            "32/32 [==============================] - 0s 2ms/step - loss: 0.8506 - accuracy: 0.4110\n",
            "Epoch 36/200\n",
            "32/32 [==============================] - 0s 3ms/step - loss: 0.8454 - accuracy: 0.4110\n",
            "Epoch 37/200\n",
            "32/32 [==============================] - 0s 5ms/step - loss: 0.8406 - accuracy: 0.4110\n",
            "Epoch 38/200\n",
            "32/32 [==============================] - 0s 4ms/step - loss: 0.8361 - accuracy: 0.4100\n",
            "Epoch 39/200\n",
            "32/32 [==============================] - 0s 4ms/step - loss: 0.8316 - accuracy: 0.4100\n",
            "Epoch 40/200\n",
            "32/32 [==============================] - 0s 3ms/step - loss: 0.8274 - accuracy: 0.4110\n",
            "Epoch 41/200\n",
            "32/32 [==============================] - 0s 5ms/step - loss: 0.8232 - accuracy: 0.4130\n",
            "Epoch 42/200\n",
            "32/32 [==============================] - 0s 4ms/step - loss: 0.8192 - accuracy: 0.4130\n",
            "Epoch 43/200\n",
            "32/32 [==============================] - 0s 6ms/step - loss: 0.8152 - accuracy: 0.4130\n",
            "Epoch 44/200\n",
            "32/32 [==============================] - 0s 5ms/step - loss: 0.8116 - accuracy: 0.4130\n",
            "Epoch 45/200\n",
            "32/32 [==============================] - 0s 3ms/step - loss: 0.8081 - accuracy: 0.4130\n",
            "Epoch 46/200\n",
            "32/32 [==============================] - 0s 3ms/step - loss: 0.8046 - accuracy: 0.4130\n",
            "Epoch 47/200\n",
            "32/32 [==============================] - 0s 4ms/step - loss: 0.8014 - accuracy: 0.4130\n",
            "Epoch 48/200\n",
            "32/32 [==============================] - 0s 7ms/step - loss: 0.7981 - accuracy: 0.4130\n",
            "Epoch 49/200\n",
            "32/32 [==============================] - 0s 4ms/step - loss: 0.7950 - accuracy: 0.4120\n",
            "Epoch 50/200\n",
            "32/32 [==============================] - 0s 3ms/step - loss: 0.7919 - accuracy: 0.4110\n",
            "Epoch 51/200\n",
            "32/32 [==============================] - 0s 3ms/step - loss: 0.7890 - accuracy: 0.4110\n",
            "Epoch 52/200\n",
            "32/32 [==============================] - 0s 5ms/step - loss: 0.7862 - accuracy: 0.4120\n",
            "Epoch 53/200\n",
            "32/32 [==============================] - 0s 5ms/step - loss: 0.7834 - accuracy: 0.4120\n",
            "Epoch 54/200\n",
            "32/32 [==============================] - 0s 2ms/step - loss: 0.7807 - accuracy: 0.4110\n",
            "Epoch 55/200\n",
            "32/32 [==============================] - 0s 2ms/step - loss: 0.7781 - accuracy: 0.4120\n",
            "Epoch 56/200\n",
            "32/32 [==============================] - 0s 3ms/step - loss: 0.7755 - accuracy: 0.4120\n",
            "Epoch 57/200\n",
            "32/32 [==============================] - 0s 3ms/step - loss: 0.7730 - accuracy: 0.4130\n",
            "Epoch 58/200\n",
            "32/32 [==============================] - 0s 9ms/step - loss: 0.7706 - accuracy: 0.4120\n",
            "Epoch 59/200\n",
            "32/32 [==============================] - 0s 2ms/step - loss: 0.7683 - accuracy: 0.4130\n",
            "Epoch 60/200\n",
            "32/32 [==============================] - 0s 5ms/step - loss: 0.7660 - accuracy: 0.4130\n",
            "Epoch 61/200\n",
            "32/32 [==============================] - 0s 4ms/step - loss: 0.7639 - accuracy: 0.4130\n",
            "Epoch 62/200\n",
            "32/32 [==============================] - 0s 4ms/step - loss: 0.7618 - accuracy: 0.4130\n",
            "Epoch 63/200\n",
            "32/32 [==============================] - 0s 4ms/step - loss: 0.7596 - accuracy: 0.4120\n",
            "Epoch 64/200\n",
            "32/32 [==============================] - 0s 5ms/step - loss: 0.7577 - accuracy: 0.4120\n",
            "Epoch 65/200\n",
            "32/32 [==============================] - 0s 5ms/step - loss: 0.7557 - accuracy: 0.4120\n",
            "Epoch 66/200\n",
            "32/32 [==============================] - 0s 2ms/step - loss: 0.7537 - accuracy: 0.4110\n",
            "Epoch 67/200\n",
            "32/32 [==============================] - 0s 3ms/step - loss: 0.7518 - accuracy: 0.4110\n",
            "Epoch 68/200\n",
            "32/32 [==============================] - 0s 4ms/step - loss: 0.7500 - accuracy: 0.4120\n",
            "Epoch 69/200\n",
            "32/32 [==============================] - 0s 5ms/step - loss: 0.7481 - accuracy: 0.4120\n",
            "Epoch 70/200\n",
            "32/32 [==============================] - 0s 6ms/step - loss: 0.7464 - accuracy: 0.4130\n",
            "Epoch 71/200\n",
            "32/32 [==============================] - 0s 4ms/step - loss: 0.7446 - accuracy: 0.4130\n",
            "Epoch 72/200\n",
            "32/32 [==============================] - 0s 4ms/step - loss: 0.7429 - accuracy: 0.4120\n",
            "Epoch 73/200\n",
            "32/32 [==============================] - 0s 3ms/step - loss: 0.7413 - accuracy: 0.4110\n",
            "Epoch 74/200\n",
            "32/32 [==============================] - 0s 5ms/step - loss: 0.7397 - accuracy: 0.4110\n",
            "Epoch 75/200\n",
            "32/32 [==============================] - 0s 3ms/step - loss: 0.7381 - accuracy: 0.4130\n",
            "Epoch 76/200\n",
            "32/32 [==============================] - 0s 3ms/step - loss: 0.7366 - accuracy: 0.4120\n",
            "Epoch 77/200\n",
            "32/32 [==============================] - 0s 5ms/step - loss: 0.7351 - accuracy: 0.4120\n",
            "Epoch 78/200\n",
            "32/32 [==============================] - 0s 4ms/step - loss: 0.7337 - accuracy: 0.4100\n",
            "Epoch 79/200\n",
            "32/32 [==============================] - 0s 5ms/step - loss: 0.7323 - accuracy: 0.4100\n",
            "Epoch 80/200\n",
            "32/32 [==============================] - 0s 4ms/step - loss: 0.7309 - accuracy: 0.4120\n",
            "Epoch 81/200\n",
            "32/32 [==============================] - 0s 4ms/step - loss: 0.7295 - accuracy: 0.4110\n",
            "Epoch 82/200\n",
            "32/32 [==============================] - 0s 3ms/step - loss: 0.7282 - accuracy: 0.4130\n",
            "Epoch 83/200\n",
            "32/32 [==============================] - 0s 4ms/step - loss: 0.7270 - accuracy: 0.4130\n",
            "Epoch 84/200\n",
            "32/32 [==============================] - 0s 5ms/step - loss: 0.7258 - accuracy: 0.4130\n",
            "Epoch 85/200\n",
            "32/32 [==============================] - 0s 4ms/step - loss: 0.7246 - accuracy: 0.4150\n",
            "Epoch 86/200\n",
            "32/32 [==============================] - 0s 4ms/step - loss: 0.7235 - accuracy: 0.4150\n",
            "Epoch 87/200\n",
            "32/32 [==============================] - 0s 5ms/step - loss: 0.7224 - accuracy: 0.4180\n",
            "Epoch 88/200\n",
            "32/32 [==============================] - 0s 4ms/step - loss: 0.7213 - accuracy: 0.4170\n",
            "Epoch 89/200\n",
            "32/32 [==============================] - 0s 3ms/step - loss: 0.7203 - accuracy: 0.4170\n",
            "Epoch 90/200\n",
            "32/32 [==============================] - 0s 6ms/step - loss: 0.7192 - accuracy: 0.4170\n",
            "Epoch 91/200\n",
            "32/32 [==============================] - 0s 4ms/step - loss: 0.7182 - accuracy: 0.4160\n",
            "Epoch 92/200\n",
            "32/32 [==============================] - 0s 2ms/step - loss: 0.7173 - accuracy: 0.4160\n",
            "Epoch 93/200\n",
            "32/32 [==============================] - 0s 6ms/step - loss: 0.7164 - accuracy: 0.4160\n",
            "Epoch 94/200\n",
            "32/32 [==============================] - 0s 8ms/step - loss: 0.7155 - accuracy: 0.4170\n",
            "Epoch 95/200\n",
            "32/32 [==============================] - 0s 10ms/step - loss: 0.7146 - accuracy: 0.4180\n",
            "Epoch 96/200\n",
            "32/32 [==============================] - 0s 7ms/step - loss: 0.7137 - accuracy: 0.4190\n",
            "Epoch 97/200\n",
            "32/32 [==============================] - 0s 5ms/step - loss: 0.7129 - accuracy: 0.4210\n",
            "Epoch 98/200\n",
            "32/32 [==============================] - 0s 7ms/step - loss: 0.7121 - accuracy: 0.4220\n",
            "Epoch 99/200\n",
            "32/32 [==============================] - 0s 6ms/step - loss: 0.7113 - accuracy: 0.4250\n",
            "Epoch 100/200\n",
            "32/32 [==============================] - 0s 6ms/step - loss: 0.7105 - accuracy: 0.4260\n",
            "Epoch 101/200\n",
            "32/32 [==============================] - 0s 7ms/step - loss: 0.7098 - accuracy: 0.4250\n",
            "Epoch 102/200\n",
            "32/32 [==============================] - 0s 5ms/step - loss: 0.7090 - accuracy: 0.4260\n",
            "Epoch 103/200\n",
            "32/32 [==============================] - 0s 3ms/step - loss: 0.7083 - accuracy: 0.4250\n",
            "Epoch 104/200\n",
            "32/32 [==============================] - 0s 3ms/step - loss: 0.7076 - accuracy: 0.4240\n",
            "Epoch 105/200\n",
            "32/32 [==============================] - 0s 5ms/step - loss: 0.7070 - accuracy: 0.4250\n",
            "Epoch 106/200\n",
            "32/32 [==============================] - 0s 9ms/step - loss: 0.7063 - accuracy: 0.4260\n",
            "Epoch 107/200\n",
            "32/32 [==============================] - 0s 8ms/step - loss: 0.7057 - accuracy: 0.4230\n",
            "Epoch 108/200\n",
            "32/32 [==============================] - 0s 3ms/step - loss: 0.7052 - accuracy: 0.4260\n",
            "Epoch 109/200\n",
            "32/32 [==============================] - 0s 4ms/step - loss: 0.7046 - accuracy: 0.4290\n",
            "Epoch 110/200\n",
            "32/32 [==============================] - 0s 6ms/step - loss: 0.7041 - accuracy: 0.4300\n",
            "Epoch 111/200\n",
            "32/32 [==============================] - 0s 6ms/step - loss: 0.7035 - accuracy: 0.4330\n",
            "Epoch 112/200\n",
            "32/32 [==============================] - 0s 6ms/step - loss: 0.7031 - accuracy: 0.4330\n",
            "Epoch 113/200\n",
            "32/32 [==============================] - 0s 4ms/step - loss: 0.7025 - accuracy: 0.4350\n",
            "Epoch 114/200\n",
            "32/32 [==============================] - 0s 5ms/step - loss: 0.7021 - accuracy: 0.4350\n",
            "Epoch 115/200\n",
            "32/32 [==============================] - 0s 4ms/step - loss: 0.7016 - accuracy: 0.4380\n",
            "Epoch 116/200\n",
            "32/32 [==============================] - 0s 3ms/step - loss: 0.7012 - accuracy: 0.4370\n",
            "Epoch 117/200\n",
            "32/32 [==============================] - 0s 8ms/step - loss: 0.7008 - accuracy: 0.4400\n",
            "Epoch 118/200\n",
            "32/32 [==============================] - 0s 5ms/step - loss: 0.7004 - accuracy: 0.4450\n",
            "Epoch 119/200\n",
            "32/32 [==============================] - 0s 4ms/step - loss: 0.7000 - accuracy: 0.4420\n",
            "Epoch 120/200\n",
            "32/32 [==============================] - 0s 5ms/step - loss: 0.6997 - accuracy: 0.4480\n",
            "Epoch 121/200\n",
            "32/32 [==============================] - 0s 5ms/step - loss: 0.6993 - accuracy: 0.4500\n",
            "Epoch 122/200\n",
            "32/32 [==============================] - 0s 4ms/step - loss: 0.6989 - accuracy: 0.4550\n",
            "Epoch 123/200\n",
            "32/32 [==============================] - 0s 3ms/step - loss: 0.6986 - accuracy: 0.4540\n",
            "Epoch 124/200\n",
            "32/32 [==============================] - 0s 4ms/step - loss: 0.6983 - accuracy: 0.4580\n",
            "Epoch 125/200\n",
            "32/32 [==============================] - 0s 6ms/step - loss: 0.6981 - accuracy: 0.4570\n",
            "Epoch 126/200\n",
            "32/32 [==============================] - 0s 5ms/step - loss: 0.6978 - accuracy: 0.4560\n",
            "Epoch 127/200\n",
            "32/32 [==============================] - 0s 4ms/step - loss: 0.6975 - accuracy: 0.4570\n",
            "Epoch 128/200\n",
            "32/32 [==============================] - 0s 4ms/step - loss: 0.6973 - accuracy: 0.4560\n",
            "Epoch 129/200\n",
            "32/32 [==============================] - 0s 5ms/step - loss: 0.6970 - accuracy: 0.4530\n",
            "Epoch 130/200\n",
            "32/32 [==============================] - 0s 4ms/step - loss: 0.6968 - accuracy: 0.4550\n",
            "Epoch 131/200\n",
            "32/32 [==============================] - 0s 5ms/step - loss: 0.6965 - accuracy: 0.4600\n",
            "Epoch 132/200\n",
            "32/32 [==============================] - 0s 5ms/step - loss: 0.6963 - accuracy: 0.4590\n",
            "Epoch 133/200\n",
            "32/32 [==============================] - 0s 5ms/step - loss: 0.6961 - accuracy: 0.4610\n",
            "Epoch 134/200\n",
            "32/32 [==============================] - 0s 3ms/step - loss: 0.6960 - accuracy: 0.4610\n",
            "Epoch 135/200\n",
            "32/32 [==============================] - 0s 4ms/step - loss: 0.6958 - accuracy: 0.4640\n",
            "Epoch 136/200\n",
            "32/32 [==============================] - 0s 6ms/step - loss: 0.6956 - accuracy: 0.4600\n",
            "Epoch 137/200\n",
            "32/32 [==============================] - 0s 5ms/step - loss: 0.6955 - accuracy: 0.4670\n",
            "Epoch 138/200\n",
            "32/32 [==============================] - 0s 4ms/step - loss: 0.6954 - accuracy: 0.4630\n",
            "Epoch 139/200\n",
            "32/32 [==============================] - 0s 4ms/step - loss: 0.6952 - accuracy: 0.4650\n",
            "Epoch 140/200\n",
            "32/32 [==============================] - 0s 6ms/step - loss: 0.6951 - accuracy: 0.4670\n",
            "Epoch 141/200\n",
            "32/32 [==============================] - 0s 3ms/step - loss: 0.6950 - accuracy: 0.4700\n",
            "Epoch 142/200\n",
            "32/32 [==============================] - 0s 8ms/step - loss: 0.6948 - accuracy: 0.4680\n",
            "Epoch 143/200\n",
            "32/32 [==============================] - 0s 5ms/step - loss: 0.6947 - accuracy: 0.4670\n",
            "Epoch 144/200\n",
            "32/32 [==============================] - 0s 6ms/step - loss: 0.6946 - accuracy: 0.4670\n",
            "Epoch 145/200\n",
            "32/32 [==============================] - 0s 5ms/step - loss: 0.6945 - accuracy: 0.4680\n",
            "Epoch 146/200\n",
            "32/32 [==============================] - 0s 3ms/step - loss: 0.6944 - accuracy: 0.4690\n",
            "Epoch 147/200\n",
            "32/32 [==============================] - 0s 4ms/step - loss: 0.6943 - accuracy: 0.4670\n",
            "Epoch 148/200\n",
            "32/32 [==============================] - 0s 8ms/step - loss: 0.6942 - accuracy: 0.4680\n",
            "Epoch 149/200\n",
            "32/32 [==============================] - 0s 3ms/step - loss: 0.6941 - accuracy: 0.4710\n",
            "Epoch 150/200\n",
            "32/32 [==============================] - 0s 4ms/step - loss: 0.6941 - accuracy: 0.4690\n",
            "Epoch 151/200\n",
            "32/32 [==============================] - 0s 6ms/step - loss: 0.6940 - accuracy: 0.4710\n",
            "Epoch 152/200\n",
            "32/32 [==============================] - 0s 4ms/step - loss: 0.6940 - accuracy: 0.4700\n",
            "Epoch 153/200\n",
            "32/32 [==============================] - 0s 4ms/step - loss: 0.6939 - accuracy: 0.4720\n",
            "Epoch 154/200\n",
            "32/32 [==============================] - 0s 5ms/step - loss: 0.6939 - accuracy: 0.4730\n",
            "Epoch 155/200\n",
            "32/32 [==============================] - 0s 6ms/step - loss: 0.6938 - accuracy: 0.4710\n",
            "Epoch 156/200\n",
            "32/32 [==============================] - 0s 4ms/step - loss: 0.6937 - accuracy: 0.4720\n",
            "Epoch 157/200\n",
            "32/32 [==============================] - 0s 4ms/step - loss: 0.6937 - accuracy: 0.4790\n",
            "Epoch 158/200\n",
            "32/32 [==============================] - 0s 4ms/step - loss: 0.6936 - accuracy: 0.4750\n",
            "Epoch 159/200\n",
            "32/32 [==============================] - 0s 5ms/step - loss: 0.6936 - accuracy: 0.4790\n",
            "Epoch 160/200\n",
            "32/32 [==============================] - 0s 4ms/step - loss: 0.6936 - accuracy: 0.4760\n",
            "Epoch 161/200\n",
            "32/32 [==============================] - 0s 4ms/step - loss: 0.6935 - accuracy: 0.4750\n",
            "Epoch 162/200\n",
            "32/32 [==============================] - 0s 5ms/step - loss: 0.6935 - accuracy: 0.4750\n",
            "Epoch 163/200\n",
            "32/32 [==============================] - 0s 6ms/step - loss: 0.6935 - accuracy: 0.4760\n",
            "Epoch 164/200\n",
            "32/32 [==============================] - 0s 6ms/step - loss: 0.6935 - accuracy: 0.4690\n",
            "Epoch 165/200\n",
            "32/32 [==============================] - 0s 7ms/step - loss: 0.6934 - accuracy: 0.4770\n",
            "Epoch 166/200\n",
            "32/32 [==============================] - 0s 6ms/step - loss: 0.6934 - accuracy: 0.4760\n",
            "Epoch 167/200\n",
            "32/32 [==============================] - 0s 4ms/step - loss: 0.6934 - accuracy: 0.4770\n",
            "Epoch 168/200\n",
            "32/32 [==============================] - 0s 5ms/step - loss: 0.6934 - accuracy: 0.4760\n",
            "Epoch 169/200\n",
            "32/32 [==============================] - 0s 4ms/step - loss: 0.6933 - accuracy: 0.4770\n",
            "Epoch 170/200\n",
            "32/32 [==============================] - 0s 5ms/step - loss: 0.6933 - accuracy: 0.4760\n",
            "Epoch 171/200\n",
            "32/32 [==============================] - 0s 4ms/step - loss: 0.6933 - accuracy: 0.4830\n",
            "Epoch 172/200\n",
            "32/32 [==============================] - 0s 5ms/step - loss: 0.6934 - accuracy: 0.4760\n",
            "Epoch 173/200\n",
            "32/32 [==============================] - 0s 5ms/step - loss: 0.6933 - accuracy: 0.4840\n",
            "Epoch 174/200\n",
            "32/32 [==============================] - 0s 6ms/step - loss: 0.6933 - accuracy: 0.4830\n",
            "Epoch 175/200\n",
            "32/32 [==============================] - 0s 6ms/step - loss: 0.6933 - accuracy: 0.4800\n",
            "Epoch 176/200\n",
            "32/32 [==============================] - 0s 5ms/step - loss: 0.6933 - accuracy: 0.4890\n",
            "Epoch 177/200\n",
            "32/32 [==============================] - 0s 3ms/step - loss: 0.6932 - accuracy: 0.4840\n",
            "Epoch 178/200\n",
            "32/32 [==============================] - 0s 6ms/step - loss: 0.6932 - accuracy: 0.4830\n",
            "Epoch 179/200\n",
            "32/32 [==============================] - 0s 3ms/step - loss: 0.6932 - accuracy: 0.4880\n",
            "Epoch 180/200\n",
            "32/32 [==============================] - 0s 3ms/step - loss: 0.6933 - accuracy: 0.4880\n",
            "Epoch 181/200\n",
            "32/32 [==============================] - 0s 4ms/step - loss: 0.6932 - accuracy: 0.4940\n",
            "Epoch 182/200\n",
            "32/32 [==============================] - 0s 5ms/step - loss: 0.6933 - accuracy: 0.4840\n",
            "Epoch 183/200\n",
            "32/32 [==============================] - 0s 3ms/step - loss: 0.6932 - accuracy: 0.4910\n",
            "Epoch 184/200\n",
            "32/32 [==============================] - 0s 3ms/step - loss: 0.6932 - accuracy: 0.4970\n",
            "Epoch 185/200\n",
            "32/32 [==============================] - 0s 2ms/step - loss: 0.6932 - accuracy: 0.4970\n",
            "Epoch 186/200\n",
            "32/32 [==============================] - 0s 2ms/step - loss: 0.6932 - accuracy: 0.4950\n",
            "Epoch 187/200\n",
            "32/32 [==============================] - 0s 3ms/step - loss: 0.6932 - accuracy: 0.4980\n",
            "Epoch 188/200\n",
            "32/32 [==============================] - 0s 2ms/step - loss: 0.6932 - accuracy: 0.4960\n",
            "Epoch 189/200\n",
            "32/32 [==============================] - 0s 3ms/step - loss: 0.6932 - accuracy: 0.5160\n",
            "Epoch 190/200\n",
            "32/32 [==============================] - 0s 2ms/step - loss: 0.6933 - accuracy: 0.4870\n",
            "Epoch 191/200\n",
            "32/32 [==============================] - 0s 2ms/step - loss: 0.6932 - accuracy: 0.5040\n",
            "Epoch 192/200\n",
            "32/32 [==============================] - 0s 2ms/step - loss: 0.6932 - accuracy: 0.5030\n",
            "Epoch 193/200\n",
            "32/32 [==============================] - 0s 3ms/step - loss: 0.6932 - accuracy: 0.5010\n",
            "Epoch 194/200\n",
            "32/32 [==============================] - 0s 3ms/step - loss: 0.6932 - accuracy: 0.5160\n",
            "Epoch 195/200\n",
            "32/32 [==============================] - 0s 4ms/step - loss: 0.6932 - accuracy: 0.5100\n",
            "Epoch 196/200\n",
            "32/32 [==============================] - 0s 2ms/step - loss: 0.6932 - accuracy: 0.5010\n",
            "Epoch 197/200\n",
            "32/32 [==============================] - 0s 3ms/step - loss: 0.6932 - accuracy: 0.4990\n",
            "Epoch 198/200\n",
            "32/32 [==============================] - 0s 3ms/step - loss: 0.6933 - accuracy: 0.4700\n",
            "Epoch 199/200\n",
            "32/32 [==============================] - 0s 2ms/step - loss: 0.6933 - accuracy: 0.4890\n",
            "Epoch 200/200\n",
            "32/32 [==============================] - 0s 2ms/step - loss: 0.6932 - accuracy: 0.4840\n"
          ]
        },
        {
          "output_type": "execute_result",
          "data": {
            "text/plain": [
              "<keras.callbacks.History at 0x7fd438166e10>"
            ]
          },
          "metadata": {},
          "execution_count": 71
        }
      ]
    },
    {
      "cell_type": "code",
      "source": [
        "model_1.evaluate(X, y)"
      ],
      "metadata": {
        "colab": {
          "base_uri": "https://localhost:8080/"
        },
        "id": "BJ5JhteUXtE_",
        "outputId": "9bf9ef56-2de8-4288-af7f-29a9c0735a26"
      },
      "execution_count": null,
      "outputs": [
        {
          "output_type": "stream",
          "name": "stdout",
          "text": [
            "32/32 [==============================] - 0s 3ms/step - loss: 0.6932 - accuracy: 0.4910\n"
          ]
        },
        {
          "output_type": "execute_result",
          "data": {
            "text/plain": [
              "[0.6931543350219727, 0.4909999966621399]"
            ]
          },
          "metadata": {},
          "execution_count": 72
        }
      ]
    },
    {
      "cell_type": "code",
      "source": [
        "# Set random seed\n",
        "tf.random.set_seed(42)\n",
        "\n",
        "# 1. Create the model \n",
        "model_2 = tf.keras.Sequential([\n",
        "    tf.keras.layers.Dense(1),\n",
        "    tf.keras.layers.Dense(1)\n",
        "])\n",
        "\n",
        "# 2. Compile the app\n",
        "model_2.compile(loss = tf.keras.losses.BinaryCrossentropy(),\n",
        "                optimizer = tf.keras.optimizers.Adam(),\n",
        "                metrics = [\"accuracy\"])\n",
        "\n",
        "# 3. Fit the model\n",
        "model_2.fit(X, y, epochs = 100)"
      ],
      "metadata": {
        "colab": {
          "base_uri": "https://localhost:8080/"
        },
        "id": "8njueYXPX2LV",
        "outputId": "c30bdcb4-028f-444f-ba88-e0640d587835"
      },
      "execution_count": null,
      "outputs": [
        {
          "output_type": "stream",
          "name": "stdout",
          "text": [
            "Epoch 1/100\n",
            "32/32 [==============================] - 54s 2ms/step - loss: 4.2380 - accuracy: 0.5000\n",
            "Epoch 2/100\n",
            "32/32 [==============================] - 0s 1ms/step - loss: 4.0223 - accuracy: 0.5000\n",
            "Epoch 3/100\n",
            "32/32 [==============================] - 0s 1ms/step - loss: 3.8296 - accuracy: 0.5000\n",
            "Epoch 4/100\n",
            "32/32 [==============================] - 0s 1ms/step - loss: 3.7654 - accuracy: 0.5000\n",
            "Epoch 5/100\n",
            "32/32 [==============================] - 0s 2ms/step - loss: 3.6464 - accuracy: 0.5000\n",
            "Epoch 6/100\n",
            "32/32 [==============================] - 0s 2ms/step - loss: 3.4960 - accuracy: 0.5000\n",
            "Epoch 7/100\n",
            "32/32 [==============================] - 0s 1ms/step - loss: 3.3804 - accuracy: 0.5000\n",
            "Epoch 8/100\n",
            "32/32 [==============================] - 0s 2ms/step - loss: 3.2279 - accuracy: 0.5000\n",
            "Epoch 9/100\n",
            "32/32 [==============================] - 0s 2ms/step - loss: 2.7024 - accuracy: 0.5000\n",
            "Epoch 10/100\n",
            "32/32 [==============================] - 0s 1ms/step - loss: 2.4002 - accuracy: 0.5000\n",
            "Epoch 11/100\n",
            "32/32 [==============================] - 0s 2ms/step - loss: 2.1984 - accuracy: 0.5000\n",
            "Epoch 12/100\n",
            "32/32 [==============================] - 0s 2ms/step - loss: 1.3257 - accuracy: 0.5000\n",
            "Epoch 13/100\n",
            "32/32 [==============================] - 0s 2ms/step - loss: 1.0542 - accuracy: 0.5000\n",
            "Epoch 14/100\n",
            "32/32 [==============================] - 0s 2ms/step - loss: 1.0261 - accuracy: 0.5000\n",
            "Epoch 15/100\n",
            "32/32 [==============================] - 0s 2ms/step - loss: 1.0069 - accuracy: 0.5000\n",
            "Epoch 16/100\n",
            "32/32 [==============================] - 0s 2ms/step - loss: 0.9914 - accuracy: 0.5000\n",
            "Epoch 17/100\n",
            "32/32 [==============================] - 0s 2ms/step - loss: 0.9776 - accuracy: 0.5000\n",
            "Epoch 18/100\n",
            "32/32 [==============================] - 0s 2ms/step - loss: 0.9656 - accuracy: 0.5000\n",
            "Epoch 19/100\n",
            "32/32 [==============================] - 0s 2ms/step - loss: 0.9549 - accuracy: 0.5000\n",
            "Epoch 20/100\n",
            "32/32 [==============================] - 0s 1ms/step - loss: 0.9448 - accuracy: 0.5000\n",
            "Epoch 21/100\n",
            "32/32 [==============================] - 0s 2ms/step - loss: 0.9357 - accuracy: 0.5000\n",
            "Epoch 22/100\n",
            "32/32 [==============================] - 0s 1ms/step - loss: 0.9269 - accuracy: 0.5000\n",
            "Epoch 23/100\n",
            "32/32 [==============================] - 0s 2ms/step - loss: 0.9190 - accuracy: 0.5000\n",
            "Epoch 24/100\n",
            "32/32 [==============================] - 0s 2ms/step - loss: 0.9115 - accuracy: 0.5000\n",
            "Epoch 25/100\n",
            "32/32 [==============================] - 0s 2ms/step - loss: 0.9046 - accuracy: 0.5000\n",
            "Epoch 26/100\n",
            "32/32 [==============================] - 0s 1ms/step - loss: 0.8976 - accuracy: 0.5000\n",
            "Epoch 27/100\n",
            "32/32 [==============================] - 0s 2ms/step - loss: 0.8912 - accuracy: 0.4990\n",
            "Epoch 28/100\n",
            "32/32 [==============================] - 0s 1ms/step - loss: 0.8850 - accuracy: 0.4960\n",
            "Epoch 29/100\n",
            "32/32 [==============================] - 0s 2ms/step - loss: 0.8790 - accuracy: 0.4950\n",
            "Epoch 30/100\n",
            "32/32 [==============================] - 0s 2ms/step - loss: 0.8732 - accuracy: 0.4950\n",
            "Epoch 31/100\n",
            "32/32 [==============================] - 0s 1ms/step - loss: 0.8678 - accuracy: 0.4870\n",
            "Epoch 32/100\n",
            "32/32 [==============================] - 0s 2ms/step - loss: 0.8623 - accuracy: 0.4790\n",
            "Epoch 33/100\n",
            "32/32 [==============================] - 0s 2ms/step - loss: 0.8573 - accuracy: 0.4750\n",
            "Epoch 34/100\n",
            "32/32 [==============================] - 0s 2ms/step - loss: 0.8525 - accuracy: 0.4730\n",
            "Epoch 35/100\n",
            "32/32 [==============================] - 0s 1ms/step - loss: 0.8477 - accuracy: 0.4650\n",
            "Epoch 36/100\n",
            "32/32 [==============================] - 0s 1ms/step - loss: 0.8432 - accuracy: 0.4590\n",
            "Epoch 37/100\n",
            "32/32 [==============================] - 0s 2ms/step - loss: 0.8388 - accuracy: 0.4560\n",
            "Epoch 38/100\n",
            "32/32 [==============================] - 0s 1ms/step - loss: 0.8347 - accuracy: 0.4470\n",
            "Epoch 39/100\n",
            "32/32 [==============================] - 0s 2ms/step - loss: 0.8305 - accuracy: 0.4420\n",
            "Epoch 40/100\n",
            "32/32 [==============================] - 0s 2ms/step - loss: 0.8266 - accuracy: 0.4380\n",
            "Epoch 41/100\n",
            "32/32 [==============================] - 0s 2ms/step - loss: 0.8227 - accuracy: 0.4340\n",
            "Epoch 42/100\n",
            "32/32 [==============================] - 0s 1ms/step - loss: 0.8189 - accuracy: 0.4290\n",
            "Epoch 43/100\n",
            "32/32 [==============================] - 0s 2ms/step - loss: 0.8151 - accuracy: 0.4280\n",
            "Epoch 44/100\n",
            "32/32 [==============================] - 0s 2ms/step - loss: 0.8116 - accuracy: 0.4280\n",
            "Epoch 45/100\n",
            "32/32 [==============================] - 0s 1ms/step - loss: 0.8082 - accuracy: 0.4200\n",
            "Epoch 46/100\n",
            "32/32 [==============================] - 0s 1ms/step - loss: 0.8049 - accuracy: 0.4160\n",
            "Epoch 47/100\n",
            "32/32 [==============================] - 0s 2ms/step - loss: 0.8018 - accuracy: 0.4150\n",
            "Epoch 48/100\n",
            "32/32 [==============================] - 0s 2ms/step - loss: 0.7986 - accuracy: 0.4130\n",
            "Epoch 49/100\n",
            "32/32 [==============================] - 0s 2ms/step - loss: 0.7956 - accuracy: 0.4140\n",
            "Epoch 50/100\n",
            "32/32 [==============================] - 0s 2ms/step - loss: 0.7926 - accuracy: 0.4170\n",
            "Epoch 51/100\n",
            "32/32 [==============================] - 0s 2ms/step - loss: 0.7897 - accuracy: 0.4200\n",
            "Epoch 52/100\n",
            "32/32 [==============================] - 0s 1ms/step - loss: 0.7870 - accuracy: 0.4210\n",
            "Epoch 53/100\n",
            "32/32 [==============================] - 0s 2ms/step - loss: 0.7843 - accuracy: 0.4280\n",
            "Epoch 54/100\n",
            "32/32 [==============================] - 0s 2ms/step - loss: 0.7817 - accuracy: 0.4350\n",
            "Epoch 55/100\n",
            "32/32 [==============================] - 0s 1ms/step - loss: 0.7791 - accuracy: 0.4480\n",
            "Epoch 56/100\n",
            "32/32 [==============================] - 0s 1ms/step - loss: 0.7766 - accuracy: 0.4510\n",
            "Epoch 57/100\n",
            "32/32 [==============================] - 0s 1ms/step - loss: 0.7742 - accuracy: 0.4530\n",
            "Epoch 58/100\n",
            "32/32 [==============================] - 0s 2ms/step - loss: 0.7718 - accuracy: 0.4530\n",
            "Epoch 59/100\n",
            "32/32 [==============================] - 0s 1ms/step - loss: 0.7696 - accuracy: 0.4550\n",
            "Epoch 60/100\n",
            "32/32 [==============================] - 0s 2ms/step - loss: 0.7674 - accuracy: 0.4570\n",
            "Epoch 61/100\n",
            "32/32 [==============================] - 0s 2ms/step - loss: 0.7654 - accuracy: 0.4560\n",
            "Epoch 62/100\n",
            "32/32 [==============================] - 0s 2ms/step - loss: 0.7634 - accuracy: 0.4600\n",
            "Epoch 63/100\n",
            "32/32 [==============================] - 0s 2ms/step - loss: 0.7613 - accuracy: 0.4610\n",
            "Epoch 64/100\n",
            "32/32 [==============================] - 0s 2ms/step - loss: 0.7595 - accuracy: 0.4640\n",
            "Epoch 65/100\n",
            "32/32 [==============================] - 0s 1ms/step - loss: 0.7577 - accuracy: 0.4590\n",
            "Epoch 66/100\n",
            "32/32 [==============================] - 0s 1ms/step - loss: 0.7558 - accuracy: 0.4630\n",
            "Epoch 67/100\n",
            "32/32 [==============================] - 0s 2ms/step - loss: 0.7541 - accuracy: 0.4620\n",
            "Epoch 68/100\n",
            "32/32 [==============================] - 0s 2ms/step - loss: 0.7524 - accuracy: 0.4640\n",
            "Epoch 69/100\n",
            "32/32 [==============================] - 0s 1ms/step - loss: 0.7507 - accuracy: 0.4660\n",
            "Epoch 70/100\n",
            "32/32 [==============================] - 0s 2ms/step - loss: 0.7491 - accuracy: 0.4660\n",
            "Epoch 71/100\n",
            "32/32 [==============================] - 0s 2ms/step - loss: 0.7475 - accuracy: 0.4680\n",
            "Epoch 72/100\n",
            "32/32 [==============================] - 0s 2ms/step - loss: 0.7460 - accuracy: 0.4710\n",
            "Epoch 73/100\n",
            "32/32 [==============================] - 0s 2ms/step - loss: 0.7445 - accuracy: 0.4720\n",
            "Epoch 74/100\n",
            "32/32 [==============================] - 0s 2ms/step - loss: 0.7430 - accuracy: 0.4740\n",
            "Epoch 75/100\n",
            "32/32 [==============================] - 0s 2ms/step - loss: 0.7416 - accuracy: 0.4730\n",
            "Epoch 76/100\n",
            "32/32 [==============================] - 0s 1ms/step - loss: 0.7403 - accuracy: 0.4750\n",
            "Epoch 77/100\n",
            "32/32 [==============================] - 0s 2ms/step - loss: 0.7390 - accuracy: 0.4730\n",
            "Epoch 78/100\n",
            "32/32 [==============================] - 0s 2ms/step - loss: 0.7377 - accuracy: 0.4720\n",
            "Epoch 79/100\n",
            "32/32 [==============================] - 0s 2ms/step - loss: 0.7365 - accuracy: 0.4730\n",
            "Epoch 80/100\n",
            "32/32 [==============================] - 0s 1ms/step - loss: 0.7353 - accuracy: 0.4760\n",
            "Epoch 81/100\n",
            "32/32 [==============================] - 0s 2ms/step - loss: 0.7341 - accuracy: 0.4740\n",
            "Epoch 82/100\n",
            "32/32 [==============================] - 0s 2ms/step - loss: 0.7330 - accuracy: 0.4750\n",
            "Epoch 83/100\n",
            "32/32 [==============================] - 0s 2ms/step - loss: 0.7320 - accuracy: 0.4790\n",
            "Epoch 84/100\n",
            "32/32 [==============================] - 0s 1ms/step - loss: 0.7309 - accuracy: 0.4790\n",
            "Epoch 85/100\n",
            "32/32 [==============================] - 0s 1ms/step - loss: 0.7299 - accuracy: 0.4810\n",
            "Epoch 86/100\n",
            "32/32 [==============================] - 0s 2ms/step - loss: 0.7290 - accuracy: 0.4820\n",
            "Epoch 87/100\n",
            "32/32 [==============================] - 0s 2ms/step - loss: 0.7280 - accuracy: 0.4850\n",
            "Epoch 88/100\n",
            "32/32 [==============================] - 0s 1ms/step - loss: 0.7271 - accuracy: 0.4850\n",
            "Epoch 89/100\n",
            "32/32 [==============================] - 0s 1ms/step - loss: 0.7263 - accuracy: 0.4870\n",
            "Epoch 90/100\n",
            "32/32 [==============================] - 0s 1ms/step - loss: 0.7254 - accuracy: 0.4880\n",
            "Epoch 91/100\n",
            "32/32 [==============================] - 0s 2ms/step - loss: 0.7246 - accuracy: 0.4900\n",
            "Epoch 92/100\n",
            "32/32 [==============================] - 0s 2ms/step - loss: 0.7238 - accuracy: 0.4890\n",
            "Epoch 93/100\n",
            "32/32 [==============================] - 0s 1ms/step - loss: 0.7230 - accuracy: 0.4890\n",
            "Epoch 94/100\n",
            "32/32 [==============================] - 0s 2ms/step - loss: 0.7223 - accuracy: 0.4860\n",
            "Epoch 95/100\n",
            "32/32 [==============================] - 0s 2ms/step - loss: 0.7215 - accuracy: 0.4860\n",
            "Epoch 96/100\n",
            "32/32 [==============================] - 0s 1ms/step - loss: 0.7208 - accuracy: 0.4860\n",
            "Epoch 97/100\n",
            "32/32 [==============================] - 0s 2ms/step - loss: 0.7202 - accuracy: 0.4880\n",
            "Epoch 98/100\n",
            "32/32 [==============================] - 0s 2ms/step - loss: 0.7195 - accuracy: 0.4870\n",
            "Epoch 99/100\n",
            "32/32 [==============================] - 0s 2ms/step - loss: 0.7188 - accuracy: 0.4870\n",
            "Epoch 100/100\n",
            "32/32 [==============================] - 0s 2ms/step - loss: 0.7181 - accuracy: 0.4850\n"
          ]
        },
        {
          "output_type": "execute_result",
          "data": {
            "text/plain": [
              "<keras.callbacks.History at 0x7fd43571a110>"
            ]
          },
          "metadata": {},
          "execution_count": 73
        }
      ]
    },
    {
      "cell_type": "code",
      "source": [
        "model_2.evaluate(X, y)"
      ],
      "metadata": {
        "colab": {
          "base_uri": "https://localhost:8080/"
        },
        "id": "XBYenBMWYaHG",
        "outputId": "0fb7b67d-4800-4d63-f099-6f9cd4af89a5"
      },
      "execution_count": null,
      "outputs": [
        {
          "output_type": "stream",
          "name": "stdout",
          "text": [
            "32/32 [==============================] - 0s 1ms/step - loss: 0.7178 - accuracy: 0.4860\n"
          ]
        },
        {
          "output_type": "execute_result",
          "data": {
            "text/plain": [
              "[0.7177660465240479, 0.4860000014305115]"
            ]
          },
          "metadata": {},
          "execution_count": 74
        }
      ]
    },
    {
      "cell_type": "code",
      "source": [
        "# Set random seed\n",
        "tf.random.set_seed(42)\n",
        "\n",
        "# 1. Create the model (this time 3 layers)\n",
        "model_3 = tf.keras.Sequential([\n",
        "  # Before TensorFlow 2.7.0\n",
        "  # tf.keras.layers.Dense(100), # add 100 dense neurons\n",
        "\n",
        "  # With TensorFlow 2.7.0\n",
        "  # tf.keras.layers.Dense(100, input_shape=(None, 1)), # add 100 dense neurons\n",
        "\n",
        "  ## After TensorFlow 2.8.0 ##\n",
        "  tf.keras.layers.Dense(100), # add 100 dense neurons\n",
        "  tf.keras.layers.Dense(10), # add another layer with 10 neurons\n",
        "  tf.keras.layers.Dense(1)\n",
        "])\n",
        "\n",
        "# 2. Compile the model\n",
        "model_3.compile(loss=tf.keras.losses.BinaryCrossentropy(),\n",
        "                optimizer=tf.keras.optimizers.Adam(), # use Adam instead of SGD\n",
        "                metrics=['accuracy'])\n",
        "\n",
        "# 3. Fit the model\n",
        "model_3.fit(X, y, epochs=100, verbose=1) # fit for 100 passes of the data"
      ],
      "metadata": {
        "colab": {
          "base_uri": "https://localhost:8080/"
        },
        "id": "cS8WrlF3YmIx",
        "outputId": "64cc50b2-b15b-4bdf-c4ed-ceb004886516"
      },
      "execution_count": null,
      "outputs": [
        {
          "output_type": "stream",
          "name": "stdout",
          "text": [
            "Epoch 1/100\n",
            "32/32 [==============================] - 1s 2ms/step - loss: 2.9658 - accuracy: 0.4490\n",
            "Epoch 2/100\n",
            "32/32 [==============================] - 0s 2ms/step - loss: 0.7229 - accuracy: 0.4390\n",
            "Epoch 3/100\n",
            "32/32 [==============================] - 0s 2ms/step - loss: 0.6971 - accuracy: 0.4700\n",
            "Epoch 4/100\n",
            "32/32 [==============================] - 0s 2ms/step - loss: 0.6953 - accuracy: 0.4620\n",
            "Epoch 5/100\n",
            "32/32 [==============================] - 0s 2ms/step - loss: 0.6943 - accuracy: 0.4750\n",
            "Epoch 6/100\n",
            "32/32 [==============================] - 0s 2ms/step - loss: 0.6941 - accuracy: 0.4750\n",
            "Epoch 7/100\n",
            "32/32 [==============================] - 0s 2ms/step - loss: 0.6939 - accuracy: 0.5040\n",
            "Epoch 8/100\n",
            "32/32 [==============================] - 0s 2ms/step - loss: 0.6946 - accuracy: 0.4980\n",
            "Epoch 9/100\n",
            "32/32 [==============================] - 0s 2ms/step - loss: 0.6943 - accuracy: 0.4880\n",
            "Epoch 10/100\n",
            "32/32 [==============================] - 0s 2ms/step - loss: 0.6944 - accuracy: 0.4480\n",
            "Epoch 11/100\n",
            "32/32 [==============================] - 0s 2ms/step - loss: 0.6952 - accuracy: 0.4450\n",
            "Epoch 12/100\n",
            "32/32 [==============================] - 0s 2ms/step - loss: 0.6946 - accuracy: 0.4890\n",
            "Epoch 13/100\n",
            "32/32 [==============================] - 0s 2ms/step - loss: 0.6956 - accuracy: 0.4920\n",
            "Epoch 14/100\n",
            "32/32 [==============================] - 0s 2ms/step - loss: 0.6950 - accuracy: 0.5140\n",
            "Epoch 15/100\n",
            "32/32 [==============================] - 0s 2ms/step - loss: 0.6956 - accuracy: 0.4590\n",
            "Epoch 16/100\n",
            "32/32 [==============================] - 0s 2ms/step - loss: 0.6943 - accuracy: 0.4820\n",
            "Epoch 17/100\n",
            "32/32 [==============================] - 0s 2ms/step - loss: 0.6975 - accuracy: 0.4950\n",
            "Epoch 18/100\n",
            "32/32 [==============================] - 0s 2ms/step - loss: 0.6945 - accuracy: 0.4550\n",
            "Epoch 19/100\n",
            "32/32 [==============================] - 0s 2ms/step - loss: 0.6953 - accuracy: 0.5330\n",
            "Epoch 20/100\n",
            "32/32 [==============================] - 0s 2ms/step - loss: 0.6956 - accuracy: 0.4560\n",
            "Epoch 21/100\n",
            "32/32 [==============================] - 0s 2ms/step - loss: 0.6955 - accuracy: 0.4920\n",
            "Epoch 22/100\n",
            "32/32 [==============================] - 0s 2ms/step - loss: 0.6948 - accuracy: 0.4350\n",
            "Epoch 23/100\n",
            "32/32 [==============================] - 0s 2ms/step - loss: 0.6944 - accuracy: 0.4990\n",
            "Epoch 24/100\n",
            "32/32 [==============================] - 0s 2ms/step - loss: 0.6963 - accuracy: 0.4690\n",
            "Epoch 25/100\n",
            "32/32 [==============================] - 0s 2ms/step - loss: 0.6973 - accuracy: 0.4970\n",
            "Epoch 26/100\n",
            "32/32 [==============================] - 0s 2ms/step - loss: 0.6973 - accuracy: 0.4830\n",
            "Epoch 27/100\n",
            "32/32 [==============================] - 0s 2ms/step - loss: 0.6963 - accuracy: 0.5040\n",
            "Epoch 28/100\n",
            "32/32 [==============================] - 0s 2ms/step - loss: 0.6946 - accuracy: 0.4680\n",
            "Epoch 29/100\n",
            "32/32 [==============================] - 0s 2ms/step - loss: 0.6973 - accuracy: 0.4790\n",
            "Epoch 30/100\n",
            "32/32 [==============================] - 0s 2ms/step - loss: 0.6998 - accuracy: 0.4800\n",
            "Epoch 31/100\n",
            "32/32 [==============================] - 0s 2ms/step - loss: 0.6950 - accuracy: 0.5030\n",
            "Epoch 32/100\n",
            "32/32 [==============================] - 0s 2ms/step - loss: 0.6965 - accuracy: 0.4760\n",
            "Epoch 33/100\n",
            "32/32 [==============================] - 0s 2ms/step - loss: 0.6957 - accuracy: 0.4570\n",
            "Epoch 34/100\n",
            "32/32 [==============================] - 0s 2ms/step - loss: 0.6973 - accuracy: 0.4800\n",
            "Epoch 35/100\n",
            "32/32 [==============================] - 0s 2ms/step - loss: 0.6960 - accuracy: 0.5050\n",
            "Epoch 36/100\n",
            "32/32 [==============================] - 0s 2ms/step - loss: 0.6946 - accuracy: 0.4680\n",
            "Epoch 37/100\n",
            "32/32 [==============================] - 0s 2ms/step - loss: 0.6952 - accuracy: 0.4870\n",
            "Epoch 38/100\n",
            "32/32 [==============================] - 0s 2ms/step - loss: 0.6975 - accuracy: 0.4980\n",
            "Epoch 39/100\n",
            "32/32 [==============================] - 0s 2ms/step - loss: 0.6949 - accuracy: 0.4690\n",
            "Epoch 40/100\n",
            "32/32 [==============================] - 0s 2ms/step - loss: 0.6965 - accuracy: 0.4990\n",
            "Epoch 41/100\n",
            "32/32 [==============================] - 0s 2ms/step - loss: 0.6979 - accuracy: 0.4890\n",
            "Epoch 42/100\n",
            "32/32 [==============================] - 0s 2ms/step - loss: 0.6995 - accuracy: 0.4700\n",
            "Epoch 43/100\n",
            "32/32 [==============================] - 0s 2ms/step - loss: 0.6957 - accuracy: 0.5030\n",
            "Epoch 44/100\n",
            "32/32 [==============================] - 0s 2ms/step - loss: 0.6981 - accuracy: 0.4830\n",
            "Epoch 45/100\n",
            "32/32 [==============================] - 0s 2ms/step - loss: 0.6964 - accuracy: 0.5120\n",
            "Epoch 46/100\n",
            "32/32 [==============================] - 0s 2ms/step - loss: 0.6949 - accuracy: 0.4730\n",
            "Epoch 47/100\n",
            "32/32 [==============================] - 0s 2ms/step - loss: 0.6974 - accuracy: 0.5170\n",
            "Epoch 48/100\n",
            "32/32 [==============================] - 0s 2ms/step - loss: 0.6966 - accuracy: 0.4840\n",
            "Epoch 49/100\n",
            "32/32 [==============================] - 0s 2ms/step - loss: 0.6976 - accuracy: 0.4870\n",
            "Epoch 50/100\n",
            "32/32 [==============================] - 0s 2ms/step - loss: 0.6972 - accuracy: 0.4610\n",
            "Epoch 51/100\n",
            "32/32 [==============================] - 0s 2ms/step - loss: 0.6980 - accuracy: 0.4800\n",
            "Epoch 52/100\n",
            "32/32 [==============================] - 0s 2ms/step - loss: 0.6962 - accuracy: 0.5020\n",
            "Epoch 53/100\n",
            "32/32 [==============================] - 0s 2ms/step - loss: 0.6972 - accuracy: 0.4940\n",
            "Epoch 54/100\n",
            "32/32 [==============================] - 0s 2ms/step - loss: 0.6993 - accuracy: 0.5020\n",
            "Epoch 55/100\n",
            "32/32 [==============================] - 0s 2ms/step - loss: 0.6953 - accuracy: 0.5220\n",
            "Epoch 56/100\n",
            "32/32 [==============================] - 0s 3ms/step - loss: 0.6966 - accuracy: 0.4930\n",
            "Epoch 57/100\n",
            "32/32 [==============================] - 0s 2ms/step - loss: 0.6981 - accuracy: 0.4720\n",
            "Epoch 58/100\n",
            "32/32 [==============================] - 0s 2ms/step - loss: 0.6968 - accuracy: 0.4980\n",
            "Epoch 59/100\n",
            "32/32 [==============================] - 0s 2ms/step - loss: 0.7004 - accuracy: 0.4890\n",
            "Epoch 60/100\n",
            "32/32 [==============================] - 0s 2ms/step - loss: 0.7011 - accuracy: 0.4870\n",
            "Epoch 61/100\n",
            "32/32 [==============================] - 0s 2ms/step - loss: 0.6996 - accuracy: 0.4680\n",
            "Epoch 62/100\n",
            "32/32 [==============================] - 0s 2ms/step - loss: 0.6965 - accuracy: 0.4980\n",
            "Epoch 63/100\n",
            "32/32 [==============================] - 0s 2ms/step - loss: 0.6948 - accuracy: 0.4860\n",
            "Epoch 64/100\n",
            "32/32 [==============================] - 0s 2ms/step - loss: 0.6960 - accuracy: 0.4940\n",
            "Epoch 65/100\n",
            "32/32 [==============================] - 0s 2ms/step - loss: 0.6996 - accuracy: 0.4810\n",
            "Epoch 66/100\n",
            "32/32 [==============================] - 0s 2ms/step - loss: 0.6965 - accuracy: 0.5010\n",
            "Epoch 67/100\n",
            "32/32 [==============================] - 0s 2ms/step - loss: 0.6977 - accuracy: 0.4500\n",
            "Epoch 68/100\n",
            "32/32 [==============================] - 0s 2ms/step - loss: 0.6958 - accuracy: 0.5020\n",
            "Epoch 69/100\n",
            "32/32 [==============================] - 0s 6ms/step - loss: 0.6953 - accuracy: 0.5230\n",
            "Epoch 70/100\n",
            "32/32 [==============================] - 0s 6ms/step - loss: 0.6988 - accuracy: 0.4680\n",
            "Epoch 71/100\n",
            "32/32 [==============================] - 0s 5ms/step - loss: 0.6975 - accuracy: 0.4650\n",
            "Epoch 72/100\n",
            "32/32 [==============================] - 0s 2ms/step - loss: 0.6966 - accuracy: 0.5010\n",
            "Epoch 73/100\n",
            "32/32 [==============================] - 0s 2ms/step - loss: 0.6963 - accuracy: 0.4930\n",
            "Epoch 74/100\n",
            "32/32 [==============================] - 0s 2ms/step - loss: 0.6960 - accuracy: 0.5130\n",
            "Epoch 75/100\n",
            "32/32 [==============================] - 0s 2ms/step - loss: 0.6963 - accuracy: 0.4980\n",
            "Epoch 76/100\n",
            "32/32 [==============================] - 0s 2ms/step - loss: 0.6980 - accuracy: 0.4850\n",
            "Epoch 77/100\n",
            "32/32 [==============================] - 0s 2ms/step - loss: 0.6971 - accuracy: 0.5020\n",
            "Epoch 78/100\n",
            "32/32 [==============================] - 0s 2ms/step - loss: 0.6972 - accuracy: 0.4720\n",
            "Epoch 79/100\n",
            "32/32 [==============================] - 0s 10ms/step - loss: 0.7009 - accuracy: 0.5110\n",
            "Epoch 80/100\n",
            "32/32 [==============================] - 0s 5ms/step - loss: 0.6980 - accuracy: 0.4930\n",
            "Epoch 81/100\n",
            "32/32 [==============================] - 0s 3ms/step - loss: 0.6980 - accuracy: 0.5030\n",
            "Epoch 82/100\n",
            "32/32 [==============================] - 0s 2ms/step - loss: 0.6968 - accuracy: 0.4830\n",
            "Epoch 83/100\n",
            "32/32 [==============================] - 0s 2ms/step - loss: 0.7002 - accuracy: 0.4480\n",
            "Epoch 84/100\n",
            "32/32 [==============================] - 0s 2ms/step - loss: 0.6963 - accuracy: 0.4970\n",
            "Epoch 85/100\n",
            "32/32 [==============================] - 0s 2ms/step - loss: 0.6967 - accuracy: 0.4590\n",
            "Epoch 86/100\n",
            "32/32 [==============================] - 0s 2ms/step - loss: 0.7002 - accuracy: 0.4900\n",
            "Epoch 87/100\n",
            "32/32 [==============================] - 0s 2ms/step - loss: 0.6977 - accuracy: 0.4550\n",
            "Epoch 88/100\n",
            "32/32 [==============================] - 0s 4ms/step - loss: 0.6981 - accuracy: 0.4590\n",
            "Epoch 89/100\n",
            "32/32 [==============================] - 0s 3ms/step - loss: 0.6979 - accuracy: 0.4750\n",
            "Epoch 90/100\n",
            "32/32 [==============================] - 0s 3ms/step - loss: 0.6981 - accuracy: 0.4620\n",
            "Epoch 91/100\n",
            "32/32 [==============================] - 0s 5ms/step - loss: 0.6984 - accuracy: 0.4980\n",
            "Epoch 92/100\n",
            "32/32 [==============================] - 0s 3ms/step - loss: 0.6988 - accuracy: 0.4760\n",
            "Epoch 93/100\n",
            "32/32 [==============================] - 0s 2ms/step - loss: 0.6982 - accuracy: 0.4690\n",
            "Epoch 94/100\n",
            "32/32 [==============================] - 0s 2ms/step - loss: 0.7005 - accuracy: 0.4800\n",
            "Epoch 95/100\n",
            "32/32 [==============================] - 0s 2ms/step - loss: 0.6974 - accuracy: 0.4520\n",
            "Epoch 96/100\n",
            "32/32 [==============================] - 0s 2ms/step - loss: 0.6980 - accuracy: 0.4790\n",
            "Epoch 97/100\n",
            "32/32 [==============================] - 0s 2ms/step - loss: 0.6973 - accuracy: 0.4580\n",
            "Epoch 98/100\n",
            "32/32 [==============================] - 0s 2ms/step - loss: 0.6989 - accuracy: 0.4800\n",
            "Epoch 99/100\n",
            "32/32 [==============================] - 0s 2ms/step - loss: 0.6976 - accuracy: 0.5090\n",
            "Epoch 100/100\n",
            "32/32 [==============================] - 0s 2ms/step - loss: 0.6966 - accuracy: 0.4870\n"
          ]
        },
        {
          "output_type": "execute_result",
          "data": {
            "text/plain": [
              "<keras.callbacks.History at 0x7fd4401d3950>"
            ]
          },
          "metadata": {},
          "execution_count": 75
        }
      ]
    },
    {
      "cell_type": "code",
      "source": [
        "model_3.evaluate(X, y)"
      ],
      "metadata": {
        "colab": {
          "base_uri": "https://localhost:8080/"
        },
        "id": "PWMBBZViZbeV",
        "outputId": "268badf8-172e-4f00-b1a9-adca74fca537"
      },
      "execution_count": null,
      "outputs": [
        {
          "output_type": "stream",
          "name": "stdout",
          "text": [
            "32/32 [==============================] - 0s 1ms/step - loss: 0.6980 - accuracy: 0.5080\n"
          ]
        },
        {
          "output_type": "execute_result",
          "data": {
            "text/plain": [
              "[0.6980255246162415, 0.5080000162124634]"
            ]
          },
          "metadata": {},
          "execution_count": 76
        }
      ]
    },
    {
      "cell_type": "markdown",
      "source": [
        "To visualize our model's predictions, let's create a function `plot_decision_boundary()`\n",
        "\n",
        "This function will:\n",
        "\n",
        "* Take in a trained model, features (X) and labels (y)\n",
        "* Create a meshgrid of the different X values\n",
        "* Make predictions across the meshgrid\n",
        "* Plot the predictions as well as a line between zones (where each unique class falls)\n"
      ],
      "metadata": {
        "id": "Bmr2gNRoaWRp"
      }
    },
    {
      "cell_type": "code",
      "source": [
        "import numpy as np\n",
        "\n",
        "def plot_decision_boundary(model, X, y):\n",
        "  \"\"\"\n",
        "  Plots the decision boundary created by a model predicting on X\n",
        "  \"\"\"\n",
        "  # Define the axis boundaries of the plot and create a meshgrid\n",
        "  x_min, x_max = X[:,0].min()-0.1, X[:,0].max()+0.1\n",
        "  y_min, y_max = X[:,1].min()-0.1, X[:,1].max()+0.1\n",
        "  xx, yy = np.meshgrid(np.linspace(x_min, x_max, 100),\n",
        "                       np.linspace(y_min, y_max, 100))\n",
        "  # Create X value (we're creating predictions on these)\n",
        "  x_in = np.c_[xx.ravel(), yy.ravel()] # stack 2D arrays together\n",
        "\n",
        "  # Make predictions\n",
        "  y_pred = model.predict(x_in)\n",
        "\n",
        "  # Check for multi-class\n",
        "  if (len(y_pred[0]) > 1):\n",
        "    print(\"doing multiclass classification\")\n",
        "    # We have to reshape our prediction to get them ready for plotting\n",
        "    y_pred = np.argmax(y_pred, axis = 1).reshape(xx.shape)\n",
        "  else:\n",
        "    print(\"doing binary classification\")\n",
        "    y_pred = np.round(y_pred).reshape(xx.shape)\n",
        "  \n",
        "  # Plot the decision boundary\n",
        "  plt.contourf(xx, yy, y_pred, cmap = plt.cm.RdYlBu, alpha = 0.7)\n",
        "  plt.scatter(X[:,0], X[:,1], c = y, s=40, cmap = plt.cm.RdYlBu)\n",
        "  plt.xlim(xx.min(), xx.max())\n",
        "  plt.ylim(yy.min(), yy.max())"
      ],
      "metadata": {
        "id": "NpCFCJzNbsTh"
      },
      "execution_count": null,
      "outputs": []
    },
    {
      "cell_type": "code",
      "source": [
        "# Check out the predictions our model is making\n",
        "plot_decision_boundary(model = model_3,\n",
        "                       X = X,\n",
        "                       y = y)"
      ],
      "metadata": {
        "colab": {
          "base_uri": "https://localhost:8080/",
          "height": 283
        },
        "id": "J7e5Y4TMef6w",
        "outputId": "e957a1d9-f1dd-4057-c7e8-692baf635310"
      },
      "execution_count": null,
      "outputs": [
        {
          "output_type": "stream",
          "name": "stdout",
          "text": [
            "doing binary classification\n"
          ]
        },
        {
          "output_type": "display_data",
          "data": {
            "text/plain": [
              "<Figure size 432x288 with 1 Axes>"
            ],
            "image/png": "[encoded data removed]"
          },
          "metadata": {
            "needs_background": "light"
          }
        }
      ]
    },
    {
      "cell_type": "markdown",
      "source": [
        "## The missing piece: Non-linearity"
      ],
      "metadata": {
        "id": "iM7dXNaYO6Lh"
      }
    },
    {
      "cell_type": "code",
      "source": [
        "X"
      ],
      "metadata": {
        "colab": {
          "base_uri": "https://localhost:8080/"
        },
        "id": "2541sRVWS5OU",
        "outputId": "0f699b65-7ec3-4fb3-a69a-fbd9eff44e90"
      },
      "execution_count": null,
      "outputs": [
        {
          "output_type": "execute_result",
          "data": {
            "text/plain": [
              "array([[ 0.75424625,  0.23148074],\n",
              "       [-0.75615888,  0.15325888],\n",
              "       [-0.81539193,  0.17328203],\n",
              "       ...,\n",
              "       [-0.13690036, -0.81001183],\n",
              "       [ 0.67036156, -0.76750154],\n",
              "       [ 0.28105665,  0.96382443]])"
            ]
          },
          "metadata": {},
          "execution_count": 79
        }
      ]
    },
    {
      "cell_type": "code",
      "source": [
        "tf.random.set_seed(42)\n",
        "\n",
        "model_4 = tf.keras.Sequential([\n",
        "    tf.keras.layers.Dense(100, activation = \"relu\"),\n",
        "    tf.keras.layers.Dense(100, activation = \"relu\"),\n",
        "    tf.keras.layers.Dense(100, activation = \"relu\"),\n",
        "    tf.keras.layers.Dense(1, activation = \"sigmoid\")\n",
        "])\n",
        "\n",
        "model_4.compile(loss = \"binary_crossentropy\",\n",
        "                optimizer = tf.keras.optimizers.Adam(lr=0.01),\n",
        "                metrics = [\"accuracy\"])\n",
        "\n",
        "model_4.fit(X, y, epochs = 100)"
      ],
      "metadata": {
        "id": "zFw2oyXpemfh",
        "colab": {
          "base_uri": "https://localhost:8080/"
        },
        "outputId": "98ad1359-c78a-4e44-fb3d-bb0da96eeb50"
      },
      "execution_count": null,
      "outputs": [
        {
          "output_type": "stream",
          "name": "stdout",
          "text": [
            "Epoch 1/100\n"
          ]
        },
        {
          "output_type": "stream",
          "name": "stderr",
          "text": [
            "/usr/local/lib/python3.7/dist-packages/keras/optimizer_v2/adam.py:105: UserWarning: The `lr` argument is deprecated, use `learning_rate` instead.\n",
            "  super(Adam, self).__init__(name, **kwargs)\n"
          ]
        },
        {
          "output_type": "stream",
          "name": "stdout",
          "text": [
            "32/32 [==============================] - 1s 3ms/step - loss: 0.6727 - accuracy: 0.5890\n",
            "Epoch 2/100\n",
            "32/32 [==============================] - 0s 2ms/step - loss: 0.2830 - accuracy: 0.9220\n",
            "Epoch 3/100\n",
            "32/32 [==============================] - 0s 3ms/step - loss: 0.0773 - accuracy: 0.9700\n",
            "Epoch 4/100\n",
            "32/32 [==============================] - 0s 2ms/step - loss: 0.1574 - accuracy: 0.9480\n",
            "Epoch 5/100\n",
            "32/32 [==============================] - 0s 3ms/step - loss: 0.0364 - accuracy: 0.9900\n",
            "Epoch 6/100\n",
            "32/32 [==============================] - 0s 3ms/step - loss: 0.0204 - accuracy: 0.9930\n",
            "Epoch 7/100\n",
            "32/32 [==============================] - 0s 2ms/step - loss: 0.0806 - accuracy: 0.9740\n",
            "Epoch 8/100\n",
            "32/32 [==============================] - 0s 2ms/step - loss: 0.0282 - accuracy: 0.9880\n",
            "Epoch 9/100\n",
            "32/32 [==============================] - 0s 2ms/step - loss: 0.0226 - accuracy: 0.9940\n",
            "Epoch 10/100\n",
            "32/32 [==============================] - 0s 3ms/step - loss: 0.0151 - accuracy: 0.9940\n",
            "Epoch 11/100\n",
            "32/32 [==============================] - 0s 2ms/step - loss: 0.1676 - accuracy: 0.9510\n",
            "Epoch 12/100\n",
            "32/32 [==============================] - 0s 3ms/step - loss: 0.0269 - accuracy: 0.9950\n",
            "Epoch 13/100\n",
            "32/32 [==============================] - 0s 2ms/step - loss: 0.0173 - accuracy: 0.9930\n",
            "Epoch 14/100\n",
            "32/32 [==============================] - 0s 3ms/step - loss: 0.0129 - accuracy: 0.9960\n",
            "Epoch 15/100\n",
            "32/32 [==============================] - 0s 2ms/step - loss: 0.0034 - accuracy: 1.0000\n",
            "Epoch 16/100\n",
            "32/32 [==============================] - 0s 2ms/step - loss: 0.0091 - accuracy: 0.9970\n",
            "Epoch 17/100\n",
            "32/32 [==============================] - 0s 3ms/step - loss: 0.0725 - accuracy: 0.9820\n",
            "Epoch 18/100\n",
            "32/32 [==============================] - 0s 2ms/step - loss: 0.0524 - accuracy: 0.9770\n",
            "Epoch 19/100\n",
            "32/32 [==============================] - 0s 2ms/step - loss: 0.0324 - accuracy: 0.9870\n",
            "Epoch 20/100\n",
            "32/32 [==============================] - 0s 2ms/step - loss: 0.0368 - accuracy: 0.9860\n",
            "Epoch 21/100\n",
            "32/32 [==============================] - 0s 3ms/step - loss: 0.0458 - accuracy: 0.9870\n",
            "Epoch 22/100\n",
            "32/32 [==============================] - 0s 2ms/step - loss: 0.0444 - accuracy: 0.9880\n",
            "Epoch 23/100\n",
            "32/32 [==============================] - 0s 3ms/step - loss: 0.0452 - accuracy: 0.9860\n",
            "Epoch 24/100\n",
            "32/32 [==============================] - 0s 2ms/step - loss: 0.0135 - accuracy: 0.9950\n",
            "Epoch 25/100\n",
            "32/32 [==============================] - 0s 3ms/step - loss: 0.0240 - accuracy: 0.9890\n",
            "Epoch 26/100\n",
            "32/32 [==============================] - 0s 2ms/step - loss: 0.0265 - accuracy: 0.9900\n",
            "Epoch 27/100\n",
            "32/32 [==============================] - 0s 3ms/step - loss: 0.0144 - accuracy: 0.9930\n",
            "Epoch 28/100\n",
            "32/32 [==============================] - 0s 3ms/step - loss: 0.0057 - accuracy: 0.9990\n",
            "Epoch 29/100\n",
            "32/32 [==============================] - 0s 3ms/step - loss: 0.0042 - accuracy: 0.9990\n",
            "Epoch 30/100\n",
            "32/32 [==============================] - 0s 2ms/step - loss: 0.0037 - accuracy: 0.9980\n",
            "Epoch 31/100\n",
            "32/32 [==============================] - 0s 3ms/step - loss: 0.0194 - accuracy: 0.9940\n",
            "Epoch 32/100\n",
            "32/32 [==============================] - 0s 3ms/step - loss: 0.0196 - accuracy: 0.9930\n",
            "Epoch 33/100\n",
            "32/32 [==============================] - 0s 2ms/step - loss: 0.0133 - accuracy: 0.9940\n",
            "Epoch 34/100\n",
            "32/32 [==============================] - 0s 3ms/step - loss: 0.0023 - accuracy: 1.0000\n",
            "Epoch 35/100\n",
            "32/32 [==============================] - 0s 3ms/step - loss: 0.0086 - accuracy: 0.9980\n",
            "Epoch 36/100\n",
            "32/32 [==============================] - 0s 2ms/step - loss: 0.0583 - accuracy: 0.9840\n",
            "Epoch 37/100\n",
            "32/32 [==============================] - 0s 2ms/step - loss: 0.0922 - accuracy: 0.9620\n",
            "Epoch 38/100\n",
            "32/32 [==============================] - 0s 2ms/step - loss: 0.0118 - accuracy: 0.9960\n",
            "Epoch 39/100\n",
            "32/32 [==============================] - 0s 3ms/step - loss: 0.1450 - accuracy: 0.9630\n",
            "Epoch 40/100\n",
            "32/32 [==============================] - 0s 2ms/step - loss: 0.0197 - accuracy: 0.9970\n",
            "Epoch 41/100\n",
            "32/32 [==============================] - 0s 3ms/step - loss: 0.0110 - accuracy: 0.9960\n",
            "Epoch 42/100\n",
            "32/32 [==============================] - 0s 2ms/step - loss: 0.0236 - accuracy: 0.9920\n",
            "Epoch 43/100\n",
            "32/32 [==============================] - 0s 2ms/step - loss: 0.0466 - accuracy: 0.9860\n",
            "Epoch 44/100\n",
            "32/32 [==============================] - 0s 2ms/step - loss: 0.0081 - accuracy: 0.9980\n",
            "Epoch 45/100\n",
            "32/32 [==============================] - 0s 2ms/step - loss: 0.0035 - accuracy: 1.0000\n",
            "Epoch 46/100\n",
            "32/32 [==============================] - 0s 2ms/step - loss: 0.0043 - accuracy: 0.9990\n",
            "Epoch 47/100\n",
            "32/32 [==============================] - 0s 3ms/step - loss: 0.0017 - accuracy: 1.0000\n",
            "Epoch 48/100\n",
            "32/32 [==============================] - 0s 3ms/step - loss: 0.0094 - accuracy: 0.9970\n",
            "Epoch 49/100\n",
            "32/32 [==============================] - 0s 2ms/step - loss: 0.0708 - accuracy: 0.9800\n",
            "Epoch 50/100\n",
            "32/32 [==============================] - 0s 3ms/step - loss: 0.0077 - accuracy: 0.9980\n",
            "Epoch 51/100\n",
            "32/32 [==============================] - 0s 2ms/step - loss: 0.0033 - accuracy: 1.0000\n",
            "Epoch 52/100\n",
            "32/32 [==============================] - 0s 3ms/step - loss: 0.0153 - accuracy: 0.9960\n",
            "Epoch 53/100\n",
            "32/32 [==============================] - 0s 3ms/step - loss: 0.0268 - accuracy: 0.9910\n",
            "Epoch 54/100\n",
            "32/32 [==============================] - 0s 2ms/step - loss: 0.0508 - accuracy: 0.9860\n",
            "Epoch 55/100\n",
            "32/32 [==============================] - 0s 3ms/step - loss: 0.0104 - accuracy: 0.9960\n",
            "Epoch 56/100\n",
            "32/32 [==============================] - 0s 3ms/step - loss: 0.0070 - accuracy: 0.9980\n",
            "Epoch 57/100\n",
            "32/32 [==============================] - 0s 2ms/step - loss: 0.0111 - accuracy: 0.9960\n",
            "Epoch 58/100\n",
            "32/32 [==============================] - 0s 2ms/step - loss: 0.0450 - accuracy: 0.9860\n",
            "Epoch 59/100\n",
            "32/32 [==============================] - 0s 2ms/step - loss: 0.0048 - accuracy: 0.9990\n",
            "Epoch 60/100\n",
            "32/32 [==============================] - 0s 2ms/step - loss: 0.0069 - accuracy: 0.9970\n",
            "Epoch 61/100\n",
            "32/32 [==============================] - 0s 3ms/step - loss: 0.0424 - accuracy: 0.9840\n",
            "Epoch 62/100\n",
            "32/32 [==============================] - 0s 3ms/step - loss: 0.0181 - accuracy: 0.9920\n",
            "Epoch 63/100\n",
            "32/32 [==============================] - 0s 2ms/step - loss: 0.0178 - accuracy: 0.9930\n",
            "Epoch 64/100\n",
            "32/32 [==============================] - 0s 2ms/step - loss: 0.0111 - accuracy: 0.9960\n",
            "Epoch 65/100\n",
            "32/32 [==============================] - 0s 2ms/step - loss: 0.0028 - accuracy: 0.9990\n",
            "Epoch 66/100\n",
            "32/32 [==============================] - 0s 3ms/step - loss: 0.0055 - accuracy: 0.9980\n",
            "Epoch 67/100\n",
            "32/32 [==============================] - 0s 2ms/step - loss: 0.0021 - accuracy: 0.9990\n",
            "Epoch 68/100\n",
            "32/32 [==============================] - 0s 2ms/step - loss: 0.0686 - accuracy: 0.9740\n",
            "Epoch 69/100\n",
            "32/32 [==============================] - 0s 2ms/step - loss: 0.1729 - accuracy: 0.9450\n",
            "Epoch 70/100\n",
            "32/32 [==============================] - 0s 3ms/step - loss: 0.0080 - accuracy: 0.9980\n",
            "Epoch 71/100\n",
            "32/32 [==============================] - 0s 3ms/step - loss: 0.0026 - accuracy: 0.9990\n",
            "Epoch 72/100\n",
            "32/32 [==============================] - 0s 4ms/step - loss: 5.9118e-04 - accuracy: 1.0000\n",
            "Epoch 73/100\n",
            "32/32 [==============================] - 0s 6ms/step - loss: 2.8458e-04 - accuracy: 1.0000\n",
            "Epoch 74/100\n",
            "32/32 [==============================] - 0s 4ms/step - loss: 1.1222e-04 - accuracy: 1.0000\n",
            "Epoch 75/100\n",
            "32/32 [==============================] - 0s 4ms/step - loss: 8.0276e-05 - accuracy: 1.0000\n",
            "Epoch 76/100\n",
            "32/32 [==============================] - 0s 6ms/step - loss: 5.9477e-05 - accuracy: 1.0000\n",
            "Epoch 77/100\n",
            "32/32 [==============================] - 0s 5ms/step - loss: 4.6510e-05 - accuracy: 1.0000\n",
            "Epoch 78/100\n",
            "32/32 [==============================] - 0s 7ms/step - loss: 4.2717e-05 - accuracy: 1.0000\n",
            "Epoch 79/100\n",
            "32/32 [==============================] - 0s 6ms/step - loss: 3.6614e-05 - accuracy: 1.0000\n",
            "Epoch 80/100\n",
            "32/32 [==============================] - 0s 5ms/step - loss: 3.1796e-05 - accuracy: 1.0000\n",
            "Epoch 81/100\n",
            "32/32 [==============================] - 0s 6ms/step - loss: 2.8943e-05 - accuracy: 1.0000\n",
            "Epoch 82/100\n",
            "32/32 [==============================] - 0s 7ms/step - loss: 2.6368e-05 - accuracy: 1.0000\n",
            "Epoch 83/100\n",
            "32/32 [==============================] - 0s 9ms/step - loss: 2.3921e-05 - accuracy: 1.0000\n",
            "Epoch 84/100\n",
            "32/32 [==============================] - 0s 6ms/step - loss: 2.2802e-05 - accuracy: 1.0000\n",
            "Epoch 85/100\n",
            "32/32 [==============================] - 0s 7ms/step - loss: 1.9574e-05 - accuracy: 1.0000\n",
            "Epoch 86/100\n",
            "32/32 [==============================] - 0s 5ms/step - loss: 1.7910e-05 - accuracy: 1.0000\n",
            "Epoch 87/100\n",
            "32/32 [==============================] - 0s 6ms/step - loss: 1.6463e-05 - accuracy: 1.0000\n",
            "Epoch 88/100\n",
            "32/32 [==============================] - 0s 6ms/step - loss: 1.5090e-05 - accuracy: 1.0000\n",
            "Epoch 89/100\n",
            "32/32 [==============================] - 0s 6ms/step - loss: 1.4654e-05 - accuracy: 1.0000\n",
            "Epoch 90/100\n",
            "32/32 [==============================] - 0s 6ms/step - loss: 1.3533e-05 - accuracy: 1.0000\n",
            "Epoch 91/100\n",
            "32/32 [==============================] - 0s 5ms/step - loss: 1.2401e-05 - accuracy: 1.0000\n",
            "Epoch 92/100\n",
            "32/32 [==============================] - 0s 4ms/step - loss: 1.1474e-05 - accuracy: 1.0000\n",
            "Epoch 93/100\n",
            "32/32 [==============================] - 0s 5ms/step - loss: 1.0865e-05 - accuracy: 1.0000\n",
            "Epoch 94/100\n",
            "32/32 [==============================] - 0s 7ms/step - loss: 1.0072e-05 - accuracy: 1.0000\n",
            "Epoch 95/100\n",
            "32/32 [==============================] - 0s 6ms/step - loss: 9.3864e-06 - accuracy: 1.0000\n",
            "Epoch 96/100\n",
            "32/32 [==============================] - 0s 4ms/step - loss: 8.6416e-06 - accuracy: 1.0000\n",
            "Epoch 97/100\n",
            "32/32 [==============================] - 0s 3ms/step - loss: 8.2022e-06 - accuracy: 1.0000\n",
            "Epoch 98/100\n",
            "32/32 [==============================] - 0s 3ms/step - loss: 7.6773e-06 - accuracy: 1.0000\n",
            "Epoch 99/100\n",
            "32/32 [==============================] - 0s 2ms/step - loss: 7.3756e-06 - accuracy: 1.0000\n",
            "Epoch 100/100\n",
            "32/32 [==============================] - 0s 4ms/step - loss: 6.9597e-06 - accuracy: 1.0000\n"
          ]
        },
        {
          "output_type": "execute_result",
          "data": {
            "text/plain": [
              "<keras.callbacks.History at 0x7fd4430aee10>"
            ]
          },
          "metadata": {},
          "execution_count": 80
        }
      ]
    },
    {
      "cell_type": "code",
      "source": [
        "plot_decision_boundary(model_4, X, y)"
      ],
      "metadata": {
        "colab": {
          "base_uri": "https://localhost:8080/"
        },
        "id": "qb01lK4uJB6i",
        "outputId": "12a6cb24-6869-4c6e-a2c0-70c2d75a838f"
      },
      "execution_count": null,
      "outputs": [
        {
          "output_type": "stream",
          "name": "stdout",
          "text": [
            "doing binary classification\n"
          ]
        },
        {
          "output_type": "display_data",
          "data": {
            "text/plain": [
              "<Figure size 432x288 with 1 Axes>"
            ],
            "image/png": "[encoded data removed]"
          },
          "metadata": {
            "needs_background": "light"
          }
        }
      ]
    },
    {
      "cell_type": "code",
      "source": [
        "model_4.evaluate(X, y)"
      ],
      "metadata": {
        "colab": {
          "base_uri": "https://localhost:8080/"
        },
        "id": "RMzO8aTRLxCt",
        "outputId": "06e451e7-4463-401b-8c9b-2f31313c7785"
      },
      "execution_count": null,
      "outputs": [
        {
          "output_type": "stream",
          "name": "stdout",
          "text": [
            "32/32 [==============================] - 0s 1ms/step - loss: 6.6448e-06 - accuracy: 1.0000\n"
          ]
        },
        {
          "output_type": "execute_result",
          "data": {
            "text/plain": [
              "[6.644762379437452e-06, 1.0]"
            ]
          },
          "metadata": {},
          "execution_count": 82
        }
      ]
    },
    {
      "cell_type": "code",
      "source": [
        "A = tf.cast(tf.range(-10, 10), tf.float32)\n",
        "A"
      ],
      "metadata": {
        "colab": {
          "base_uri": "https://localhost:8080/"
        },
        "id": "3rzZZ3eJU3-6",
        "outputId": "3ab6f40b-5f71-482a-c9d4-79cc22119a10"
      },
      "execution_count": null,
      "outputs": [
        {
          "output_type": "execute_result",
          "data": {
            "text/plain": [
              "<tf.Tensor: shape=(20,), dtype=float32, numpy=\n",
              "array([-10.,  -9.,  -8.,  -7.,  -6.,  -5.,  -4.,  -3.,  -2.,  -1.,   0.,\n",
              "         1.,   2.,   3.,   4.,   5.,   6.,   7.,   8.,   9.],\n",
              "      dtype=float32)>"
            ]
          },
          "metadata": {},
          "execution_count": 83
        }
      ]
    },
    {
      "cell_type": "code",
      "source": [
        "plt.plot(A)"
      ],
      "metadata": {
        "colab": {
          "base_uri": "https://localhost:8080/"
        },
        "id": "JKq0HYrq6Vdl",
        "outputId": "82cbfb89-a5dc-4979-d215-bdb125c34827"
      },
      "execution_count": null,
      "outputs": [
        {
          "output_type": "execute_result",
          "data": {
            "text/plain": [
              "[<matplotlib.lines.Line2D at 0x7fd440caea50>]"
            ]
          },
          "metadata": {},
          "execution_count": 84
        },
        {
          "output_type": "display_data",
          "data": {
            "text/plain": [
              "<Figure size 432x288 with 1 Axes>"
            ],
            "image/png": "[encoded data removed]"
          },
          "metadata": {
            "needs_background": "light"
          }
        }
      ]
    },
    {
      "cell_type": "code",
      "source": [
        "# Let's start by replicating sigmoid => sigmoid(x) = 1/(1+exp(-x))\n",
        "def sigmoid(x):\n",
        "  return 1/(1+tf.exp(-x))\n",
        "\n",
        "# use the sigmoid function on our toy tensor\n",
        "sigmoid(A)"
      ],
      "metadata": {
        "colab": {
          "base_uri": "https://localhost:8080/"
        },
        "id": "ZZ_d4lyc6W3Y",
        "outputId": "137b208e-bba0-4a27-e9a5-f2f49dac1735"
      },
      "execution_count": null,
      "outputs": [
        {
          "output_type": "execute_result",
          "data": {
            "text/plain": [
              "<tf.Tensor: shape=(20,), dtype=float32, numpy=\n",
              "array([4.5397872e-05, 1.2339458e-04, 3.3535014e-04, 9.1105117e-04,\n",
              "       2.4726233e-03, 6.6928510e-03, 1.7986210e-02, 4.7425874e-02,\n",
              "       1.1920292e-01, 2.6894143e-01, 5.0000000e-01, 7.3105860e-01,\n",
              "       8.8079703e-01, 9.5257413e-01, 9.8201376e-01, 9.9330717e-01,\n",
              "       9.9752742e-01, 9.9908900e-01, 9.9966466e-01, 9.9987662e-01],\n",
              "      dtype=float32)>"
            ]
          },
          "metadata": {},
          "execution_count": 85
        }
      ]
    },
    {
      "cell_type": "code",
      "source": [
        "# Plot\n",
        "plt.plot(sigmoid(A));"
      ],
      "metadata": {
        "colab": {
          "base_uri": "https://localhost:8080/"
        },
        "id": "USNrqR8I7u2l",
        "outputId": "49c8b924-13c1-4c1d-817a-2455d102232e"
      },
      "execution_count": null,
      "outputs": [
        {
          "output_type": "display_data",
          "data": {
            "text/plain": [
              "<Figure size 432x288 with 1 Axes>"
            ],
            "image/png": "[encoded data removed]"
          },
          "metadata": {
            "needs_background": "light"
          }
        }
      ]
    },
    {
      "cell_type": "code",
      "source": [
        "# Let's recreate the relu function\n",
        "\n",
        "def relu(x):\n",
        "  return tf.maximum(0, x)\n",
        "\n",
        "relu(A)"
      ],
      "metadata": {
        "colab": {
          "base_uri": "https://localhost:8080/"
        },
        "id": "BiRtS0Vd786e",
        "outputId": "16900c0d-a6c8-40f9-a0b8-4445f4f57040"
      },
      "execution_count": null,
      "outputs": [
        {
          "output_type": "execute_result",
          "data": {
            "text/plain": [
              "<tf.Tensor: shape=(20,), dtype=float32, numpy=\n",
              "array([0., 0., 0., 0., 0., 0., 0., 0., 0., 0., 0., 1., 2., 3., 4., 5., 6.,\n",
              "       7., 8., 9.], dtype=float32)>"
            ]
          },
          "metadata": {},
          "execution_count": 87
        }
      ]
    },
    {
      "cell_type": "code",
      "source": [
        "plt.plot(relu(A));"
      ],
      "metadata": {
        "id": "F5l26Xee8ks9",
        "outputId": "df102c72-8195-442e-ceb0-1a17675453d3",
        "colab": {
          "base_uri": "https://localhost:8080/"
        }
      },
      "execution_count": null,
      "outputs": [
        {
          "output_type": "display_data",
          "data": {
            "text/plain": [
              "<Figure size 432x288 with 1 Axes>"
            ],
            "image/png": "[encoded data removed]"
          },
          "metadata": {
            "needs_background": "light"
          }
        }
      ]
    },
    {
      "cell_type": "markdown",
      "source": [
        "## Evaluating and improving our classification\n",
        "\n",
        "We've been using training and testing on the same dataset so let's creating a trianing and test set"
      ],
      "metadata": {
        "id": "MvwK3lqqJdbG"
      }
    },
    {
      "cell_type": "code",
      "source": [
        "len(X)"
      ],
      "metadata": {
        "id": "9an4HmWx8m4R",
        "colab": {
          "base_uri": "https://localhost:8080/"
        },
        "outputId": "68ee2ee1-bb68-4de2-b826-6a255cd137bb"
      },
      "execution_count": null,
      "outputs": [
        {
          "output_type": "execute_result",
          "data": {
            "text/plain": [
              "1000"
            ]
          },
          "metadata": {},
          "execution_count": 89
        }
      ]
    },
    {
      "cell_type": "code",
      "source": [
        "X, y"
      ],
      "metadata": {
        "colab": {
          "base_uri": "https://localhost:8080/"
        },
        "id": "btCL7mbYLkxV",
        "outputId": "3e042f6b-7b68-483a-c1d1-9c705d0e8ce4"
      },
      "execution_count": null,
      "outputs": [
        {
          "output_type": "execute_result",
          "data": {
            "text/plain": [
              "(array([[ 0.75424625,  0.23148074],\n",
              "        [-0.75615888,  0.15325888],\n",
              "        [-0.81539193,  0.17328203],\n",
              "        ...,\n",
              "        [-0.13690036, -0.81001183],\n",
              "        [ 0.67036156, -0.76750154],\n",
              "        [ 0.28105665,  0.96382443]]),\n",
              " array([1, 1, 1, 1, 0, 1, 1, 1, 1, 0, 1, 0, 1, 1, 1, 1, 0, 1, 1, 0, 1, 0,\n",
              "        0, 1, 0, 0, 0, 1, 1, 1, 0, 0, 1, 0, 0, 0, 1, 1, 1, 0, 0, 0, 0, 1,\n",
              "        0, 0, 1, 1, 0, 1, 1, 1, 0, 1, 0, 0, 1, 0, 0, 1, 0, 0, 1, 0, 1, 1,\n",
              "        1, 1, 0, 1, 0, 0, 1, 1, 0, 0, 1, 0, 1, 0, 1, 0, 0, 0, 0, 1, 1, 1,\n",
              "        1, 0, 0, 0, 1, 0, 1, 0, 1, 0, 0, 1, 1, 0, 1, 0, 1, 1, 1, 1, 0, 1,\n",
              "        1, 1, 1, 1, 0, 0, 0, 1, 1, 0, 1, 0, 1, 0, 0, 1, 1, 0, 1, 1, 1, 1,\n",
              "        0, 1, 1, 0, 0, 0, 0, 0, 0, 0, 1, 0, 1, 1, 1, 0, 1, 0, 1, 0, 1, 0,\n",
              "        1, 0, 0, 1, 0, 1, 1, 1, 1, 1, 1, 1, 0, 1, 0, 0, 0, 0, 0, 1, 0, 0,\n",
              "        0, 0, 1, 1, 0, 1, 0, 1, 1, 0, 0, 0, 1, 1, 1, 1, 1, 0, 0, 0, 0, 0,\n",
              "        1, 0, 0, 1, 1, 1, 1, 1, 0, 1, 0, 1, 0, 0, 1, 1, 1, 0, 1, 0, 1, 1,\n",
              "        0, 1, 1, 0, 1, 0, 1, 0, 1, 1, 0, 1, 0, 1, 0, 0, 0, 1, 0, 0, 0, 0,\n",
              "        1, 1, 0, 0, 0, 0, 0, 0, 0, 1, 1, 1, 0, 0, 1, 1, 1, 0, 1, 0, 0, 0,\n",
              "        0, 1, 1, 0, 1, 0, 0, 0, 1, 0, 1, 0, 0, 1, 0, 1, 1, 1, 0, 0, 0, 1,\n",
              "        0, 0, 0, 1, 1, 1, 1, 0, 0, 0, 1, 0, 0, 0, 1, 0, 0, 0, 1, 1, 0, 1,\n",
              "        1, 1, 1, 1, 1, 1, 0, 0, 0, 0, 1, 0, 0, 0, 0, 1, 1, 1, 0, 0, 1, 0,\n",
              "        1, 0, 1, 1, 0, 0, 1, 1, 1, 1, 0, 0, 0, 0, 0, 0, 1, 1, 0, 1, 0, 0,\n",
              "        1, 0, 0, 0, 0, 0, 0, 0, 0, 1, 0, 0, 0, 0, 1, 0, 0, 1, 0, 1, 0, 0,\n",
              "        0, 1, 0, 0, 1, 1, 0, 0, 1, 0, 0, 1, 1, 0, 1, 1, 0, 0, 1, 0, 1, 0,\n",
              "        0, 0, 1, 1, 0, 0, 1, 1, 1, 1, 1, 0, 0, 1, 1, 1, 1, 0, 1, 1, 1, 1,\n",
              "        1, 0, 0, 1, 0, 1, 0, 0, 0, 0, 1, 0, 0, 0, 0, 0, 0, 0, 0, 0, 1, 1,\n",
              "        0, 1, 1, 1, 1, 1, 1, 0, 1, 1, 1, 1, 0, 0, 0, 1, 1, 1, 0, 0, 0, 0,\n",
              "        1, 1, 0, 0, 0, 0, 1, 0, 0, 0, 1, 0, 0, 1, 1, 1, 1, 1, 1, 0, 0, 0,\n",
              "        1, 0, 0, 0, 0, 0, 1, 1, 1, 0, 0, 0, 0, 0, 1, 1, 1, 0, 0, 1, 1, 1,\n",
              "        1, 0, 1, 1, 0, 1, 0, 0, 0, 1, 0, 0, 1, 0, 0, 1, 1, 0, 0, 1, 1, 0,\n",
              "        1, 0, 1, 0, 1, 0, 1, 0, 0, 0, 1, 0, 0, 0, 0, 0, 0, 1, 1, 1, 1, 0,\n",
              "        0, 0, 1, 0, 1, 1, 0, 0, 0, 0, 0, 1, 1, 1, 0, 0, 1, 0, 0, 1, 0, 0,\n",
              "        1, 0, 0, 1, 0, 0, 0, 1, 0, 0, 1, 1, 1, 0, 1, 1, 0, 0, 0, 1, 1, 1,\n",
              "        1, 0, 0, 1, 1, 1, 0, 0, 0, 0, 1, 1, 0, 0, 1, 1, 0, 0, 1, 1, 1, 1,\n",
              "        1, 1, 1, 0, 1, 0, 1, 0, 0, 1, 0, 1, 1, 1, 1, 0, 0, 1, 1, 0, 0, 1,\n",
              "        0, 1, 0, 0, 0, 1, 0, 0, 1, 1, 1, 1, 0, 1, 1, 1, 1, 1, 1, 1, 0, 1,\n",
              "        0, 1, 1, 1, 0, 0, 1, 0, 0, 0, 1, 1, 1, 1, 0, 0, 0, 0, 1, 0, 1, 1,\n",
              "        1, 0, 1, 0, 0, 1, 0, 0, 1, 1, 1, 1, 1, 0, 1, 0, 0, 0, 1, 1, 1, 1,\n",
              "        1, 0, 0, 0, 1, 1, 1, 1, 0, 0, 0, 0, 0, 1, 1, 0, 1, 0, 1, 0, 0, 0,\n",
              "        0, 0, 0, 0, 0, 0, 1, 1, 1, 1, 1, 0, 1, 0, 1, 1, 1, 1, 0, 1, 1, 1,\n",
              "        1, 1, 1, 1, 1, 0, 1, 1, 0, 1, 0, 0, 0, 1, 0, 1, 1, 1, 0, 1, 1, 0,\n",
              "        1, 1, 0, 1, 0, 1, 1, 0, 0, 1, 1, 1, 0, 0, 0, 0, 1, 1, 0, 0, 1, 1,\n",
              "        1, 1, 1, 1, 1, 1, 1, 1, 1, 1, 1, 1, 0, 0, 1, 0, 1, 0, 1, 0, 1, 1,\n",
              "        1, 1, 1, 1, 0, 1, 0, 1, 1, 1, 0, 1, 1, 0, 0, 1, 0, 1, 1, 0, 0, 1,\n",
              "        1, 1, 1, 1, 1, 1, 1, 0, 1, 1, 1, 0, 1, 0, 0, 1, 1, 0, 0, 0, 1, 0,\n",
              "        0, 1, 0, 0, 0, 1, 0, 1, 0, 0, 0, 0, 1, 0, 1, 1, 1, 1, 0, 1, 0, 0,\n",
              "        0, 0, 0, 0, 1, 0, 1, 0, 1, 0, 1, 1, 1, 0, 1, 0, 1, 0, 0, 1, 1, 1,\n",
              "        0, 0, 0, 1, 1, 0, 1, 0, 1, 1, 0, 1, 0, 0, 1, 1, 1, 0, 0, 0, 1, 1,\n",
              "        0, 0, 0, 0, 0, 1, 1, 0, 1, 0, 0, 0, 1, 0, 0, 0, 1, 1, 1, 1, 0, 1,\n",
              "        1, 1, 0, 1, 1, 1, 1, 0, 1, 1, 0, 1, 1, 0, 0, 1, 1, 1, 0, 0, 0, 0,\n",
              "        0, 0, 1, 0, 0, 1, 0, 0, 0, 1, 0, 1, 0, 1, 1, 0, 0, 0, 0, 0, 0, 0,\n",
              "        0, 1, 0, 1, 0, 0, 0, 1, 0, 0]))"
            ]
          },
          "metadata": {},
          "execution_count": 90
        }
      ]
    },
    {
      "cell_type": "code",
      "source": [
        "from sklearn.model_selection import train_test_split\n",
        "\n",
        "X_train, X_test, y_train, y_test = train_test_split(X,y,\n",
        "                                                    test_size = 0.2,\n",
        "                                                    random_state = 42)\n",
        "display(X_train)\n",
        "display(y_train)"
      ],
      "metadata": {
        "colab": {
          "base_uri": "https://localhost:8080/"
        },
        "id": "yBPvgGdSLlc2",
        "outputId": "c5d0bb85-993a-475b-aaa3-d6b80a1f6728"
      },
      "execution_count": null,
      "outputs": [
        {
          "output_type": "display_data",
          "data": {
            "text/plain": [
              "array([[ 0.65794626, -0.46508097],\n",
              "       [ 0.63194897, -0.7346633 ],\n",
              "       [-1.00861631, -0.12403051],\n",
              "       ...,\n",
              "       [ 0.01574478, -1.02998534],\n",
              "       [ 1.01102578,  0.16802846],\n",
              "       [ 0.55778227, -0.57087612]])"
            ]
          },
          "metadata": {}
        },
        {
          "output_type": "display_data",
          "data": {
            "text/plain": [
              "array([1, 0, 0, 0, 1, 0, 1, 1, 0, 0, 1, 0, 0, 0, 1, 0, 0, 0, 0, 1, 1, 1,\n",
              "       0, 1, 1, 1, 0, 0, 0, 0, 0, 0, 0, 1, 0, 0, 1, 1, 1, 1, 1, 1, 0, 1,\n",
              "       0, 1, 0, 0, 0, 0, 0, 1, 0, 1, 1, 1, 0, 1, 1, 1, 0, 0, 0, 1, 0, 0,\n",
              "       1, 0, 0, 0, 1, 1, 1, 0, 0, 0, 0, 0, 0, 0, 1, 1, 0, 1, 0, 1, 0, 1,\n",
              "       0, 1, 1, 1, 0, 0, 0, 1, 0, 1, 1, 0, 0, 0, 0, 0, 0, 1, 0, 0, 0, 0,\n",
              "       1, 1, 0, 0, 1, 0, 1, 1, 0, 1, 0, 1, 0, 1, 0, 1, 0, 0, 1, 1, 1, 1,\n",
              "       1, 1, 1, 0, 0, 1, 1, 1, 1, 1, 0, 1, 1, 0, 1, 0, 0, 0, 1, 1, 0, 1,\n",
              "       1, 1, 1, 0, 0, 1, 1, 0, 0, 1, 1, 1, 1, 0, 1, 1, 0, 0, 0, 1, 1, 1,\n",
              "       1, 1, 1, 1, 0, 1, 1, 0, 0, 1, 1, 0, 0, 0, 0, 0, 1, 0, 0, 1, 1, 1,\n",
              "       1, 1, 0, 0, 0, 0, 1, 1, 0, 1, 1, 0, 0, 0, 1, 0, 1, 1, 1, 1, 1, 0,\n",
              "       1, 0, 0, 0, 0, 0, 0, 0, 0, 1, 1, 0, 0, 1, 0, 1, 0, 0, 0, 1, 0, 1,\n",
              "       1, 1, 1, 1, 1, 0, 0, 1, 0, 1, 0, 1, 0, 1, 0, 0, 1, 1, 0, 1, 1, 1,\n",
              "       0, 1, 0, 1, 1, 1, 1, 1, 1, 0, 1, 0, 0, 0, 1, 1, 0, 1, 0, 0, 0, 1,\n",
              "       0, 0, 1, 0, 0, 1, 0, 1, 0, 1, 1, 1, 1, 0, 1, 0, 0, 1, 1, 0, 1, 0,\n",
              "       0, 1, 1, 1, 0, 1, 1, 0, 1, 1, 0, 0, 0, 1, 0, 0, 0, 0, 0, 1, 1, 0,\n",
              "       0, 0, 1, 0, 1, 0, 0, 0, 0, 1, 1, 0, 0, 0, 1, 1, 0, 1, 1, 1, 0, 0,\n",
              "       1, 0, 1, 0, 1, 1, 1, 1, 0, 0, 0, 1, 0, 1, 0, 1, 0, 0, 0, 0, 1, 1,\n",
              "       0, 0, 1, 0, 1, 1, 0, 0, 0, 1, 1, 0, 0, 1, 1, 0, 0, 0, 0, 1, 0, 1,\n",
              "       0, 0, 1, 1, 1, 0, 0, 0, 1, 0, 1, 0, 1, 0, 0, 0, 0, 0, 0, 0, 1, 0,\n",
              "       0, 0, 0, 1, 1, 0, 0, 1, 0, 0, 1, 1, 1, 1, 0, 1, 1, 0, 0, 1, 0, 1,\n",
              "       0, 1, 1, 0, 0, 0, 0, 0, 1, 1, 0, 0, 0, 1, 0, 0, 1, 0, 1, 1, 1, 1,\n",
              "       1, 1, 1, 1, 0, 0, 1, 0, 1, 1, 1, 1, 0, 1, 0, 1, 1, 1, 0, 0, 0, 1,\n",
              "       0, 1, 0, 1, 1, 0, 1, 0, 0, 1, 1, 0, 0, 0, 1, 1, 0, 0, 0, 0, 1, 0,\n",
              "       0, 1, 1, 0, 0, 1, 0, 1, 1, 0, 0, 0, 1, 0, 1, 0, 1, 1, 0, 0, 1, 1,\n",
              "       1, 1, 0, 1, 1, 1, 1, 1, 0, 1, 1, 1, 0, 1, 1, 1, 1, 0, 0, 1, 1, 0,\n",
              "       0, 1, 0, 1, 0, 1, 0, 1, 1, 0, 1, 1, 0, 0, 0, 1, 0, 1, 1, 1, 0, 0,\n",
              "       0, 1, 1, 0, 1, 0, 1, 0, 1, 0, 0, 0, 0, 1, 0, 1, 1, 1, 1, 1, 0, 0,\n",
              "       1, 0, 0, 1, 0, 1, 0, 1, 0, 1, 1, 1, 0, 1, 0, 0, 0, 0, 1, 1, 0, 0,\n",
              "       0, 1, 0, 1, 0, 1, 0, 1, 0, 0, 1, 0, 1, 1, 0, 0, 1, 0, 0, 1, 0, 1,\n",
              "       1, 1, 1, 0, 0, 0, 0, 0, 0, 1, 0, 1, 1, 1, 1, 0, 1, 1, 0, 0, 0, 0,\n",
              "       1, 0, 1, 0, 0, 1, 1, 0, 1, 0, 1, 1, 0, 0, 1, 1, 1, 1, 1, 0, 0, 1,\n",
              "       1, 0, 1, 1, 1, 0, 0, 1, 1, 0, 0, 0, 1, 1, 0, 0, 1, 0, 1, 0, 0, 1,\n",
              "       1, 1, 0, 0, 1, 1, 1, 1, 1, 0, 1, 1, 0, 1, 1, 1, 1, 0, 1, 1, 0, 0,\n",
              "       1, 0, 1, 0, 0, 0, 1, 0, 1, 0, 0, 0, 0, 0, 1, 0, 1, 0, 1, 0, 1, 1,\n",
              "       1, 1, 1, 1, 0, 1, 0, 0, 1, 1, 0, 0, 0, 0, 1, 1, 1, 0, 1, 0, 1, 0,\n",
              "       1, 1, 1, 0, 0, 1, 0, 0, 1, 1, 1, 1, 0, 1, 0, 1, 0, 1, 1, 0, 0, 1,\n",
              "       1, 1, 0, 1, 0, 0, 0, 1])"
            ]
          },
          "metadata": {}
        }
      ]
    },
    {
      "cell_type": "code",
      "source": [
        "X_train.shape, X_test.shape, y_train.shape, y_test.shape"
      ],
      "metadata": {
        "colab": {
          "base_uri": "https://localhost:8080/"
        },
        "id": "fLOgRQr5L18A",
        "outputId": "fe053f52-073a-4549-a5ef-7b1b74b7798a"
      },
      "execution_count": null,
      "outputs": [
        {
          "output_type": "execute_result",
          "data": {
            "text/plain": [
              "((800, 2), (200, 2), (800,), (200,))"
            ]
          },
          "metadata": {},
          "execution_count": 92
        }
      ]
    },
    {
      "cell_type": "code",
      "source": [
        "tf.random.set_seed(42)\n",
        "\n",
        "#1. create the model\n",
        "model_5 = tf.keras.Sequential([\n",
        "    tf.keras.layers.Dense(100, activation = \"relu\"),\n",
        "    tf.keras.layers.Dense(100, activation = \"relu\"),\n",
        "    tf.keras.layers.Dense(100, activation = \"relu\"),\n",
        "    tf.keras.layers.Dense(1, activation = \"sigmoid\")\n",
        "])\n",
        "\n",
        "# 2. Compile the model\n",
        "model_5.compile(loss = \"binary_crossentropy\",\n",
        "                optimizer = tf.keras.optimizers.Adam(learning_rate = 0.01),\n",
        "                metrics = [\"accuracy\"])\n",
        "\n",
        "# 3. Fit the model\n",
        "history = model_5.fit(X_train, y_train, epochs = 100)"
      ],
      "metadata": {
        "colab": {
          "base_uri": "https://localhost:8080/"
        },
        "id": "dHBixUhNMGDy",
        "outputId": "89f2d23f-bd3f-47c1-fee6-0b2b0aea62ef"
      },
      "execution_count": null,
      "outputs": [
        {
          "output_type": "stream",
          "name": "stdout",
          "text": [
            "Epoch 1/100\n",
            "25/25 [==============================] - 1s 3ms/step - loss: 0.6835 - accuracy: 0.5387\n",
            "Epoch 2/100\n",
            "25/25 [==============================] - 0s 3ms/step - loss: 0.4414 - accuracy: 0.8288\n",
            "Epoch 3/100\n",
            "25/25 [==============================] - 0s 2ms/step - loss: 0.1806 - accuracy: 0.9187\n",
            "Epoch 4/100\n",
            "25/25 [==============================] - 0s 4ms/step - loss: 0.0740 - accuracy: 0.9762\n",
            "Epoch 5/100\n",
            "25/25 [==============================] - 0s 4ms/step - loss: 0.0314 - accuracy: 0.9937\n",
            "Epoch 6/100\n",
            "25/25 [==============================] - 0s 2ms/step - loss: 0.0648 - accuracy: 0.9762\n",
            "Epoch 7/100\n",
            "25/25 [==============================] - 0s 3ms/step - loss: 0.0428 - accuracy: 0.9850\n",
            "Epoch 8/100\n",
            "25/25 [==============================] - 0s 3ms/step - loss: 0.0227 - accuracy: 0.9887\n",
            "Epoch 9/100\n",
            "25/25 [==============================] - 0s 3ms/step - loss: 0.0261 - accuracy: 0.9925\n",
            "Epoch 10/100\n",
            "25/25 [==============================] - 0s 3ms/step - loss: 0.0148 - accuracy: 0.9937\n",
            "Epoch 11/100\n",
            "25/25 [==============================] - 0s 3ms/step - loss: 0.0321 - accuracy: 0.9862\n",
            "Epoch 12/100\n",
            "25/25 [==============================] - 0s 3ms/step - loss: 0.0235 - accuracy: 0.9912\n",
            "Epoch 13/100\n",
            "25/25 [==============================] - 0s 3ms/step - loss: 0.1466 - accuracy: 0.9613\n",
            "Epoch 14/100\n",
            "25/25 [==============================] - 0s 3ms/step - loss: 0.0566 - accuracy: 0.9825\n",
            "Epoch 15/100\n",
            "25/25 [==============================] - 0s 2ms/step - loss: 0.0160 - accuracy: 0.9950\n",
            "Epoch 16/100\n",
            "25/25 [==============================] - 0s 6ms/step - loss: 0.0043 - accuracy: 1.0000\n",
            "Epoch 17/100\n",
            "25/25 [==============================] - 0s 5ms/step - loss: 0.0026 - accuracy: 1.0000\n",
            "Epoch 18/100\n",
            "25/25 [==============================] - 0s 5ms/step - loss: 0.0017 - accuracy: 1.0000\n",
            "Epoch 19/100\n",
            "25/25 [==============================] - 0s 5ms/step - loss: 0.0118 - accuracy: 0.9962\n",
            "Epoch 20/100\n",
            "25/25 [==============================] - 0s 6ms/step - loss: 0.0333 - accuracy: 0.9912\n",
            "Epoch 21/100\n",
            "25/25 [==============================] - 0s 5ms/step - loss: 0.0067 - accuracy: 0.9975\n",
            "Epoch 22/100\n",
            "25/25 [==============================] - 0s 5ms/step - loss: 0.0032 - accuracy: 1.0000\n",
            "Epoch 23/100\n",
            "25/25 [==============================] - 0s 6ms/step - loss: 0.0044 - accuracy: 0.9987\n",
            "Epoch 24/100\n",
            "25/25 [==============================] - 0s 7ms/step - loss: 0.0225 - accuracy: 0.9900\n",
            "Epoch 25/100\n",
            "25/25 [==============================] - 0s 8ms/step - loss: 0.0517 - accuracy: 0.9800\n",
            "Epoch 26/100\n",
            "25/25 [==============================] - 0s 6ms/step - loss: 0.0554 - accuracy: 0.9775\n",
            "Epoch 27/100\n",
            "25/25 [==============================] - 0s 7ms/step - loss: 0.0706 - accuracy: 0.9762\n",
            "Epoch 28/100\n",
            "25/25 [==============================] - 0s 4ms/step - loss: 0.0262 - accuracy: 0.9912\n",
            "Epoch 29/100\n",
            "25/25 [==============================] - 0s 4ms/step - loss: 0.0050 - accuracy: 1.0000\n",
            "Epoch 30/100\n",
            "25/25 [==============================] - 0s 4ms/step - loss: 0.0027 - accuracy: 1.0000\n",
            "Epoch 31/100\n",
            "25/25 [==============================] - 0s 8ms/step - loss: 9.6999e-04 - accuracy: 1.0000\n",
            "Epoch 32/100\n",
            "25/25 [==============================] - 0s 7ms/step - loss: 6.5263e-04 - accuracy: 1.0000\n",
            "Epoch 33/100\n",
            "25/25 [==============================] - 0s 7ms/step - loss: 5.5200e-04 - accuracy: 1.0000\n",
            "Epoch 34/100\n",
            "25/25 [==============================] - 0s 6ms/step - loss: 4.1470e-04 - accuracy: 1.0000\n",
            "Epoch 35/100\n",
            "25/25 [==============================] - 0s 6ms/step - loss: 3.4902e-04 - accuracy: 1.0000\n",
            "Epoch 36/100\n",
            "25/25 [==============================] - 0s 5ms/step - loss: 3.4109e-04 - accuracy: 1.0000\n",
            "Epoch 37/100\n",
            "25/25 [==============================] - 0s 4ms/step - loss: 2.6899e-04 - accuracy: 1.0000\n",
            "Epoch 38/100\n",
            "25/25 [==============================] - 0s 4ms/step - loss: 2.4298e-04 - accuracy: 1.0000\n",
            "Epoch 39/100\n",
            "25/25 [==============================] - 0s 4ms/step - loss: 2.4333e-04 - accuracy: 1.0000\n",
            "Epoch 40/100\n",
            "25/25 [==============================] - 0s 5ms/step - loss: 2.1950e-04 - accuracy: 1.0000\n",
            "Epoch 41/100\n",
            "25/25 [==============================] - 0s 5ms/step - loss: 2.0111e-04 - accuracy: 1.0000\n",
            "Epoch 42/100\n",
            "25/25 [==============================] - 0s 4ms/step - loss: 1.7813e-04 - accuracy: 1.0000\n",
            "Epoch 43/100\n",
            "25/25 [==============================] - 0s 4ms/step - loss: 1.6515e-04 - accuracy: 1.0000\n",
            "Epoch 44/100\n",
            "25/25 [==============================] - 0s 5ms/step - loss: 1.5209e-04 - accuracy: 1.0000\n",
            "Epoch 45/100\n",
            "25/25 [==============================] - 0s 4ms/step - loss: 1.4186e-04 - accuracy: 1.0000\n",
            "Epoch 46/100\n",
            "25/25 [==============================] - 0s 4ms/step - loss: 1.4020e-04 - accuracy: 1.0000\n",
            "Epoch 47/100\n",
            "25/25 [==============================] - 0s 4ms/step - loss: 1.2915e-04 - accuracy: 1.0000\n",
            "Epoch 48/100\n",
            "25/25 [==============================] - 0s 5ms/step - loss: 1.2486e-04 - accuracy: 1.0000\n",
            "Epoch 49/100\n",
            "25/25 [==============================] - 0s 4ms/step - loss: 1.1173e-04 - accuracy: 1.0000\n",
            "Epoch 50/100\n",
            "25/25 [==============================] - 0s 6ms/step - loss: 1.2165e-04 - accuracy: 1.0000\n",
            "Epoch 51/100\n",
            "25/25 [==============================] - 0s 4ms/step - loss: 1.0543e-04 - accuracy: 1.0000\n",
            "Epoch 52/100\n",
            "25/25 [==============================] - 0s 5ms/step - loss: 9.6953e-05 - accuracy: 1.0000\n",
            "Epoch 53/100\n",
            "25/25 [==============================] - 0s 4ms/step - loss: 9.5890e-05 - accuracy: 1.0000\n",
            "Epoch 54/100\n",
            "25/25 [==============================] - 0s 4ms/step - loss: 9.0561e-05 - accuracy: 1.0000\n",
            "Epoch 55/100\n",
            "25/25 [==============================] - 0s 5ms/step - loss: 8.8294e-05 - accuracy: 1.0000\n",
            "Epoch 56/100\n",
            "25/25 [==============================] - 0s 4ms/step - loss: 8.0697e-05 - accuracy: 1.0000\n",
            "Epoch 57/100\n",
            "25/25 [==============================] - 0s 6ms/step - loss: 8.0032e-05 - accuracy: 1.0000\n",
            "Epoch 58/100\n",
            "25/25 [==============================] - 0s 4ms/step - loss: 7.3862e-05 - accuracy: 1.0000\n",
            "Epoch 59/100\n",
            "25/25 [==============================] - 0s 5ms/step - loss: 7.0888e-05 - accuracy: 1.0000\n",
            "Epoch 60/100\n",
            "25/25 [==============================] - 0s 7ms/step - loss: 6.8204e-05 - accuracy: 1.0000\n",
            "Epoch 61/100\n",
            "25/25 [==============================] - 0s 3ms/step - loss: 6.8074e-05 - accuracy: 1.0000\n",
            "Epoch 62/100\n",
            "25/25 [==============================] - 0s 3ms/step - loss: 6.8251e-05 - accuracy: 1.0000\n",
            "Epoch 63/100\n",
            "25/25 [==============================] - 0s 4ms/step - loss: 6.2411e-05 - accuracy: 1.0000\n",
            "Epoch 64/100\n",
            "25/25 [==============================] - 0s 5ms/step - loss: 6.1488e-05 - accuracy: 1.0000\n",
            "Epoch 65/100\n",
            "25/25 [==============================] - 0s 4ms/step - loss: 5.6186e-05 - accuracy: 1.0000\n",
            "Epoch 66/100\n",
            "25/25 [==============================] - 0s 4ms/step - loss: 5.3807e-05 - accuracy: 1.0000\n",
            "Epoch 67/100\n",
            "25/25 [==============================] - 0s 4ms/step - loss: 5.4160e-05 - accuracy: 1.0000\n",
            "Epoch 68/100\n",
            "25/25 [==============================] - 0s 4ms/step - loss: 4.9911e-05 - accuracy: 1.0000\n",
            "Epoch 69/100\n",
            "25/25 [==============================] - 0s 5ms/step - loss: 5.0408e-05 - accuracy: 1.0000\n",
            "Epoch 70/100\n",
            "25/25 [==============================] - 0s 5ms/step - loss: 4.9644e-05 - accuracy: 1.0000\n",
            "Epoch 71/100\n",
            "25/25 [==============================] - 0s 4ms/step - loss: 4.6961e-05 - accuracy: 1.0000\n",
            "Epoch 72/100\n",
            "25/25 [==============================] - 0s 5ms/step - loss: 4.6849e-05 - accuracy: 1.0000\n",
            "Epoch 73/100\n",
            "25/25 [==============================] - 0s 5ms/step - loss: 4.7605e-05 - accuracy: 1.0000\n",
            "Epoch 74/100\n",
            "25/25 [==============================] - 0s 5ms/step - loss: 4.3395e-05 - accuracy: 1.0000\n",
            "Epoch 75/100\n",
            "25/25 [==============================] - 0s 5ms/step - loss: 4.0814e-05 - accuracy: 1.0000\n",
            "Epoch 76/100\n",
            "25/25 [==============================] - 0s 5ms/step - loss: 3.9427e-05 - accuracy: 1.0000\n",
            "Epoch 77/100\n",
            "25/25 [==============================] - 0s 5ms/step - loss: 4.0839e-05 - accuracy: 1.0000\n",
            "Epoch 78/100\n",
            "25/25 [==============================] - 0s 4ms/step - loss: 3.6667e-05 - accuracy: 1.0000\n",
            "Epoch 79/100\n",
            "25/25 [==============================] - 0s 5ms/step - loss: 3.5222e-05 - accuracy: 1.0000\n",
            "Epoch 80/100\n",
            "25/25 [==============================] - 0s 5ms/step - loss: 3.3156e-05 - accuracy: 1.0000\n",
            "Epoch 81/100\n",
            "25/25 [==============================] - 0s 3ms/step - loss: 3.6341e-05 - accuracy: 1.0000\n",
            "Epoch 82/100\n",
            "25/25 [==============================] - 0s 3ms/step - loss: 3.2689e-05 - accuracy: 1.0000\n",
            "Epoch 83/100\n",
            "25/25 [==============================] - 0s 3ms/step - loss: 3.1283e-05 - accuracy: 1.0000\n",
            "Epoch 84/100\n",
            "25/25 [==============================] - 0s 4ms/step - loss: 3.1574e-05 - accuracy: 1.0000\n",
            "Epoch 85/100\n",
            "25/25 [==============================] - 0s 6ms/step - loss: 3.0753e-05 - accuracy: 1.0000\n",
            "Epoch 86/100\n",
            "25/25 [==============================] - 0s 4ms/step - loss: 2.8755e-05 - accuracy: 1.0000\n",
            "Epoch 87/100\n",
            "25/25 [==============================] - 0s 4ms/step - loss: 2.9159e-05 - accuracy: 1.0000\n",
            "Epoch 88/100\n",
            "25/25 [==============================] - 0s 5ms/step - loss: 2.6951e-05 - accuracy: 1.0000\n",
            "Epoch 89/100\n",
            "25/25 [==============================] - 0s 8ms/step - loss: 2.6745e-05 - accuracy: 1.0000\n",
            "Epoch 90/100\n",
            "25/25 [==============================] - 0s 4ms/step - loss: 2.6489e-05 - accuracy: 1.0000\n",
            "Epoch 91/100\n",
            "25/25 [==============================] - 0s 5ms/step - loss: 2.5722e-05 - accuracy: 1.0000\n",
            "Epoch 92/100\n",
            "25/25 [==============================] - 0s 5ms/step - loss: 2.4641e-05 - accuracy: 1.0000\n",
            "Epoch 93/100\n",
            "25/25 [==============================] - 0s 8ms/step - loss: 2.4680e-05 - accuracy: 1.0000\n",
            "Epoch 94/100\n",
            "25/25 [==============================] - 0s 6ms/step - loss: 2.4339e-05 - accuracy: 1.0000\n",
            "Epoch 95/100\n",
            "25/25 [==============================] - 0s 5ms/step - loss: 2.2775e-05 - accuracy: 1.0000\n",
            "Epoch 96/100\n",
            "25/25 [==============================] - 0s 4ms/step - loss: 2.1459e-05 - accuracy: 1.0000\n",
            "Epoch 97/100\n",
            "25/25 [==============================] - 0s 5ms/step - loss: 2.1717e-05 - accuracy: 1.0000\n",
            "Epoch 98/100\n",
            "25/25 [==============================] - 0s 4ms/step - loss: 2.0769e-05 - accuracy: 1.0000\n",
            "Epoch 99/100\n",
            "25/25 [==============================] - 0s 4ms/step - loss: 2.0349e-05 - accuracy: 1.0000\n",
            "Epoch 100/100\n",
            "25/25 [==============================] - 0s 5ms/step - loss: 2.0780e-05 - accuracy: 1.0000\n"
          ]
        }
      ]
    },
    {
      "cell_type": "code",
      "source": [
        "model_5.evaluate(X_test, y_test) # WOO HOOOOOO"
      ],
      "metadata": {
        "colab": {
          "base_uri": "https://localhost:8080/"
        },
        "id": "wCY6GastM9vI",
        "outputId": "ca3dc865-ce15-48f8-a6ab-93d7e2deaa63"
      },
      "execution_count": null,
      "outputs": [
        {
          "output_type": "stream",
          "name": "stdout",
          "text": [
            "7/7 [==============================] - 0s 3ms/step - loss: 9.3156e-04 - accuracy: 1.0000\n"
          ]
        },
        {
          "output_type": "execute_result",
          "data": {
            "text/plain": [
              "[0.0009315570932812989, 1.0]"
            ]
          },
          "metadata": {},
          "execution_count": 94
        }
      ]
    },
    {
      "cell_type": "code",
      "source": [
        "plt.figure(figsize = (12, 6))\n",
        "plt.subplot(1,2,1)\n",
        "plt.title(\"Train\")\n",
        "plot_decision_boundary(model_5, X = X_train, y = y_train)\n",
        "plt.subplot(1,2,2)\n",
        "plt.title(\"Test\")\n",
        "plot_decision_boundary(model_5, X = X_test, y= y_test)\n",
        "plt.show();"
      ],
      "metadata": {
        "colab": {
          "base_uri": "https://localhost:8080/"
        },
        "id": "M_bqiarRNZZd",
        "outputId": "a9a0043c-1f14-4e60-c1fe-f87d109fda8f"
      },
      "execution_count": null,
      "outputs": [
        {
          "output_type": "stream",
          "name": "stdout",
          "text": [
            "doing binary classification\n",
            "doing binary classification\n"
          ]
        },
        {
          "output_type": "display_data",
          "data": {
            "text/plain": [
              "<Figure size 864x432 with 2 Axes>"
            ],
            "image/png": "[encoded data removed]"
          },
          "metadata": {
            "needs_background": "light"
          }
        }
      ]
    },
    {
      "cell_type": "markdown",
      "source": [
        "## Plot the loss curves"
      ],
      "metadata": {
        "id": "LiiEMi9YNx4a"
      }
    },
    {
      "cell_type": "code",
      "source": [
        "pd.DataFrame(history.history)"
      ],
      "metadata": {
        "colab": {
          "base_uri": "https://localhost:8080/"
        },
        "id": "9p-UdMpfOV-K",
        "outputId": "1db2520b-e839-4a26-f793-f7a0048acb82"
      },
      "execution_count": null,
      "outputs": [
        {
          "output_type": "execute_result",
          "data": {
            "text/plain": [
              "        loss  accuracy\n",
              "0   0.683516   0.53875\n",
              "1   0.441440   0.82875\n",
              "2   0.180646   0.91875\n",
              "3   0.074042   0.97625\n",
              "4   0.031371   0.99375\n",
              "..       ...       ...\n",
              "95  0.000021   1.00000\n",
              "96  0.000022   1.00000\n",
              "97  0.000021   1.00000\n",
              "98  0.000020   1.00000\n",
              "99  0.000021   1.00000\n",
              "\n",
              "[100 rows x 2 columns]"
            ],
            "text/html": [
              "\n",
              "  <div id=\"df-728c59c2-3888-47cf-a1ec-73cd0cf0c745\">\n",
              "    <div class=\"colab-df-container\">\n",
              "      <div>\n",
              "<style scoped>\n",
              "    .dataframe tbody tr th:only-of-type {\n",
              "        vertical-align: middle;\n",
              "    }\n",
              "\n",
              "    .dataframe tbody tr th {\n",
              "        vertical-align: top;\n",
              "    }\n",
              "\n",
              "    .dataframe thead th {\n",
              "        text-align: right;\n",
              "    }\n",
              "</style>\n",
              "<table border=\"1\" class=\"dataframe\">\n",
              "  <thead>\n",
              "    <tr style=\"text-align: right;\">\n",
              "      <th></th>\n",
              "      <th>loss</th>\n",
              "      <th>accuracy</th>\n",
              "    </tr>\n",
              "  </thead>\n",
              "  <tbody>\n",
              "    <tr>\n",
              "      <th>0</th>\n",
              "      <td>0.683516</td>\n",
              "      <td>0.53875</td>\n",
              "    </tr>\n",
              "    <tr>\n",
              "      <th>1</th>\n",
              "      <td>0.441440</td>\n",
              "      <td>0.82875</td>\n",
              "    </tr>\n",
              "    <tr>\n",
              "      <th>2</th>\n",
              "      <td>0.180646</td>\n",
              "      <td>0.91875</td>\n",
              "    </tr>\n",
              "    <tr>\n",
              "      <th>3</th>\n",
              "      <td>0.074042</td>\n",
              "      <td>0.97625</td>\n",
              "    </tr>\n",
              "    <tr>\n",
              "      <th>4</th>\n",
              "      <td>0.031371</td>\n",
              "      <td>0.99375</td>\n",
              "    </tr>\n",
              "    <tr>\n",
              "      <th>...</th>\n",
              "      <td>...</td>\n",
              "      <td>...</td>\n",
              "    </tr>\n",
              "    <tr>\n",
              "      <th>95</th>\n",
              "      <td>0.000021</td>\n",
              "      <td>1.00000</td>\n",
              "    </tr>\n",
              "    <tr>\n",
              "      <th>96</th>\n",
              "      <td>0.000022</td>\n",
              "      <td>1.00000</td>\n",
              "    </tr>\n",
              "    <tr>\n",
              "      <th>97</th>\n",
              "      <td>0.000021</td>\n",
              "      <td>1.00000</td>\n",
              "    </tr>\n",
              "    <tr>\n",
              "      <th>98</th>\n",
              "      <td>0.000020</td>\n",
              "      <td>1.00000</td>\n",
              "    </tr>\n",
              "    <tr>\n",
              "      <th>99</th>\n",
              "      <td>0.000021</td>\n",
              "      <td>1.00000</td>\n",
              "    </tr>\n",
              "  </tbody>\n",
              "</table>\n",
              "<p>100 rows × 2 columns</p>\n",
              "</div>\n",
              "      <button class=\"colab-df-convert\" onclick=\"convertToInteractive('df-728c59c2-3888-47cf-a1ec-73cd0cf0c745')\"\n",
              "              title=\"Convert this dataframe to an interactive table.\"\n",
              "              style=\"display:none;\">\n",
              "        \n",
              "  <svg xmlns=\"http://www.w3.org/2000/svg\" height=\"24px\"viewBox=\"0 0 24 24\"\n",
              "       width=\"24px\">\n",
              "    <path d=\"M0 0h24v24H0V0z\" fill=\"none\"/>\n",
              "    <path d=\"M18.56 5.44l.94 2.06.94-2.06 2.06-.94-2.06-.94-.94-2.06-.94 2.06-2.06.94zm-11 1L8.5 8.5l.94-2.06 2.06-.94-2.06-.94L8.5 2.5l-.94 2.06-2.06.94zm10 10l.94 2.06.94-2.06 2.06-.94-2.06-.94-.94-2.06-.94 2.06-2.06.94z\"/><path d=\"M17.41 7.96l-1.37-1.37c-.4-.4-.92-.59-1.43-.59-.52 0-1.04.2-1.43.59L10.3 9.45l-7.72 7.72c-.78.78-.78 2.05 0 2.83L4 21.41c.39.39.9.59 1.41.59.51 0 1.02-.2 1.41-.59l7.78-7.78 2.81-2.81c.8-.78.8-2.07 0-2.86zM5.41 20L4 18.59l7.72-7.72 1.47 1.35L5.41 20z\"/>\n",
              "  </svg>\n",
              "      </button>\n",
              "      \n",
              "  <style>\n",
              "    .colab-df-container {\n",
              "      display:flex;\n",
              "      flex-wrap:wrap;\n",
              "      gap: 12px;\n",
              "    }\n",
              "\n",
              "    .colab-df-convert {\n",
              "      background-color: #E8F0FE;\n",
              "      border: none;\n",
              "      border-radius: 50%;\n",
              "      cursor: pointer;\n",
              "      display: none;\n",
              "      fill: #1967D2;\n",
              "      height: 32px;\n",
              "      padding: 0 0 0 0;\n",
              "      width: 32px;\n",
              "    }\n",
              "\n",
              "    .colab-df-convert:hover {\n",
              "      background-color: #E2EBFA;\n",
              "      box-shadow: 0px 1px 2px rgba(60, 64, 67, 0.3), 0px 1px 3px 1px rgba(60, 64, 67, 0.15);\n",
              "      fill: #174EA6;\n",
              "    }\n",
              "\n",
              "    [theme=dark] .colab-df-convert {\n",
              "      background-color: #3B4455;\n",
              "      fill: #D2E3FC;\n",
              "    }\n",
              "\n",
              "    [theme=dark] .colab-df-convert:hover {\n",
              "      background-color: #434B5C;\n",
              "      box-shadow: 0px 1px 3px 1px rgba(0, 0, 0, 0.15);\n",
              "      filter: drop-shadow(0px 1px 2px rgba(0, 0, 0, 0.3));\n",
              "      fill: #FFFFFF;\n",
              "    }\n",
              "  </style>\n",
              "\n",
              "      <script>\n",
              "        const buttonEl =\n",
              "          document.querySelector('#df-728c59c2-3888-47cf-a1ec-73cd0cf0c745 button.colab-df-convert');\n",
              "        buttonEl.style.display =\n",
              "          google.colab.kernel.accessAllowed ? 'block' : 'none';\n",
              "\n",
              "        async function convertToInteractive(key) {\n",
              "          const element = document.querySelector('#df-728c59c2-3888-47cf-a1ec-73cd0cf0c745');\n",
              "          const dataTable =\n",
              "            await google.colab.kernel.invokeFunction('convertToInteractive',\n",
              "                                                     [key], {});\n",
              "          if (!dataTable) return;\n",
              "\n",
              "          const docLinkHtml = 'Like what you see? Visit the ' +\n",
              "            '<a target=\"_blank\" href=https://colab.research.google.com/notebooks/data_table.ipynb>data table notebook</a>'\n",
              "            + ' to learn more about interactive tables.';\n",
              "          element.innerHTML = '';\n",
              "          dataTable['output_type'] = 'display_data';\n",
              "          await google.colab.output.renderOutput(dataTable, element);\n",
              "          const docLink = document.createElement('div');\n",
              "          docLink.innerHTML = docLinkHtml;\n",
              "          element.appendChild(docLink);\n",
              "        }\n",
              "      </script>\n",
              "    </div>\n",
              "  </div>\n",
              "  "
            ]
          },
          "metadata": {},
          "execution_count": 96
        }
      ]
    },
    {
      "cell_type": "code",
      "source": [
        "pd.DataFrame(history.history).plot()\n",
        "plt.title(\"Model_5 loss curves\");"
      ],
      "metadata": {
        "colab": {
          "base_uri": "https://localhost:8080/"
        },
        "id": "9dQ0o-f5Oue3",
        "outputId": "7f387d2a-b88c-4852-c749-8274be90dfa3"
      },
      "execution_count": null,
      "outputs": [
        {
          "output_type": "display_data",
          "data": {
            "text/plain": [
              "<Figure size 432x288 with 1 Axes>"
            ],
            "image/png": "[encoded data removed]"
          },
          "metadata": {
            "needs_background": "light"
          }
        }
      ]
    },
    {
      "cell_type": "markdown",
      "source": [
        "##  Finding the best learning rate\n",
        "\n",
        "To find the best learning rate, we can use:\n",
        "* A learning rate **callback** - you can think of a callback as an extra piece of functionality, you can add to your *while* its training\n",
        "* Another model\n",
        "* A modified loss curves plot"
      ],
      "metadata": {
        "id": "BiAgNCzGPpah"
      }
    },
    {
      "cell_type": "code",
      "source": [
        "tf.random.set_seed(42)\n",
        "\n",
        "model_6 = tf.keras.Sequential([\n",
        "    tf.keras.layers.Dense(100, activation = \"relu\"),\n",
        "    tf.keras.layers.Dense(100, activation = \"relu\"),\n",
        "    tf.keras.layers.Dense(100, activation = \"relu\"),\n",
        "    tf.keras.layers.Dense(1, activation = \"sigmoid\")\n",
        "])\n",
        "\n",
        "model_6.compile(loss = \"binary_crossentropy\",\n",
        "                optimizer = \"Adam\",\n",
        "                metrics = [\"accuracy\"])\n",
        "\n",
        "# Create a learning rate callback\n",
        "lr_scheduler = tf.keras.callbacks.LearningRateScheduler(lambda epoch: 1e-4 * 10**(epoch/20))\n",
        "\n",
        "history_6 = model_6.fit(X_train, y_train, epochs = 100, callbacks = [lr_scheduler])"
      ],
      "metadata": {
        "colab": {
          "base_uri": "https://localhost:8080/"
        },
        "id": "0XA2sgIbO--J",
        "outputId": "4c67b7cf-0635-40fc-ae83-4f4608e0ab49"
      },
      "execution_count": null,
      "outputs": [
        {
          "output_type": "stream",
          "name": "stdout",
          "text": [
            "Epoch 1/100\n",
            "25/25 [==============================] - 2s 4ms/step - loss: 0.6943 - accuracy: 0.4875 - lr: 1.0000e-04\n",
            "Epoch 2/100\n",
            "25/25 [==============================] - 0s 5ms/step - loss: 0.6919 - accuracy: 0.4913 - lr: 1.1220e-04\n",
            "Epoch 3/100\n",
            "25/25 [==============================] - 0s 5ms/step - loss: 0.6899 - accuracy: 0.5000 - lr: 1.2589e-04\n",
            "Epoch 4/100\n",
            "25/25 [==============================] - 0s 4ms/step - loss: 0.6886 - accuracy: 0.5000 - lr: 1.4125e-04\n",
            "Epoch 5/100\n",
            "25/25 [==============================] - 0s 5ms/step - loss: 0.6872 - accuracy: 0.5000 - lr: 1.5849e-04\n",
            "Epoch 6/100\n",
            "25/25 [==============================] - 0s 5ms/step - loss: 0.6858 - accuracy: 0.5000 - lr: 1.7783e-04\n",
            "Epoch 7/100\n",
            "25/25 [==============================] - 0s 7ms/step - loss: 0.6842 - accuracy: 0.5000 - lr: 1.9953e-04\n",
            "Epoch 8/100\n",
            "25/25 [==============================] - 0s 7ms/step - loss: 0.6821 - accuracy: 0.5000 - lr: 2.2387e-04\n",
            "Epoch 9/100\n",
            "25/25 [==============================] - 0s 5ms/step - loss: 0.6802 - accuracy: 0.5000 - lr: 2.5119e-04\n",
            "Epoch 10/100\n",
            "25/25 [==============================] - 0s 6ms/step - loss: 0.6767 - accuracy: 0.5000 - lr: 2.8184e-04\n",
            "Epoch 11/100\n",
            "25/25 [==============================] - 0s 6ms/step - loss: 0.6710 - accuracy: 0.5000 - lr: 3.1623e-04\n",
            "Epoch 12/100\n",
            "25/25 [==============================] - 0s 5ms/step - loss: 0.6629 - accuracy: 0.5138 - lr: 3.5481e-04\n",
            "Epoch 13/100\n",
            "25/25 [==============================] - 0s 4ms/step - loss: 0.6490 - accuracy: 0.6625 - lr: 3.9811e-04\n",
            "Epoch 14/100\n",
            "25/25 [==============================] - 0s 5ms/step - loss: 0.6222 - accuracy: 0.6963 - lr: 4.4668e-04\n",
            "Epoch 15/100\n",
            "25/25 [==============================] - 0s 6ms/step - loss: 0.5620 - accuracy: 0.9125 - lr: 5.0119e-04\n",
            "Epoch 16/100\n",
            "25/25 [==============================] - 0s 4ms/step - loss: 0.4501 - accuracy: 0.9237 - lr: 5.6234e-04\n",
            "Epoch 17/100\n",
            "25/25 [==============================] - 0s 5ms/step - loss: 0.2922 - accuracy: 0.9837 - lr: 6.3096e-04\n",
            "Epoch 18/100\n",
            "25/25 [==============================] - 0s 6ms/step - loss: 0.1406 - accuracy: 0.9987 - lr: 7.0795e-04\n",
            "Epoch 19/100\n",
            "25/25 [==============================] - 0s 5ms/step - loss: 0.0832 - accuracy: 0.9950 - lr: 7.9433e-04\n",
            "Epoch 20/100\n",
            "25/25 [==============================] - 0s 6ms/step - loss: 0.0383 - accuracy: 0.9987 - lr: 8.9125e-04\n",
            "Epoch 21/100\n",
            "25/25 [==============================] - 0s 5ms/step - loss: 0.0335 - accuracy: 0.9962 - lr: 0.0010\n",
            "Epoch 22/100\n",
            "25/25 [==============================] - 0s 4ms/step - loss: 0.0168 - accuracy: 1.0000 - lr: 0.0011\n",
            "Epoch 23/100\n",
            "25/25 [==============================] - 0s 4ms/step - loss: 0.0143 - accuracy: 0.9987 - lr: 0.0013\n",
            "Epoch 24/100\n",
            "25/25 [==============================] - 0s 6ms/step - loss: 0.0105 - accuracy: 1.0000 - lr: 0.0014\n",
            "Epoch 25/100\n",
            "25/25 [==============================] - 0s 8ms/step - loss: 0.0101 - accuracy: 0.9987 - lr: 0.0016\n",
            "Epoch 26/100\n",
            "25/25 [==============================] - 0s 6ms/step - loss: 0.0093 - accuracy: 1.0000 - lr: 0.0018\n",
            "Epoch 27/100\n",
            "25/25 [==============================] - 0s 6ms/step - loss: 0.0043 - accuracy: 1.0000 - lr: 0.0020\n",
            "Epoch 28/100\n",
            "25/25 [==============================] - 0s 4ms/step - loss: 0.0054 - accuracy: 1.0000 - lr: 0.0022\n",
            "Epoch 29/100\n",
            "25/25 [==============================] - 0s 6ms/step - loss: 0.0094 - accuracy: 1.0000 - lr: 0.0025\n",
            "Epoch 30/100\n",
            "25/25 [==============================] - 0s 5ms/step - loss: 0.1410 - accuracy: 0.9638 - lr: 0.0028\n",
            "Epoch 31/100\n",
            "25/25 [==============================] - 0s 7ms/step - loss: 0.2917 - accuracy: 0.9013 - lr: 0.0032\n",
            "Epoch 32/100\n",
            "25/25 [==============================] - 0s 4ms/step - loss: 0.0870 - accuracy: 0.9787 - lr: 0.0035\n",
            "Epoch 33/100\n",
            "25/25 [==============================] - 0s 2ms/step - loss: 0.0287 - accuracy: 0.9912 - lr: 0.0040\n",
            "Epoch 34/100\n",
            "25/25 [==============================] - 0s 3ms/step - loss: 0.0075 - accuracy: 0.9987 - lr: 0.0045\n",
            "Epoch 35/100\n",
            "25/25 [==============================] - 0s 2ms/step - loss: 0.0205 - accuracy: 0.9937 - lr: 0.0050\n",
            "Epoch 36/100\n",
            "25/25 [==============================] - 0s 6ms/step - loss: 0.0680 - accuracy: 0.9800 - lr: 0.0056\n",
            "Epoch 37/100\n",
            "25/25 [==============================] - 0s 6ms/step - loss: 0.6813 - accuracy: 0.8188 - lr: 0.0063\n",
            "Epoch 38/100\n",
            "25/25 [==============================] - 0s 4ms/step - loss: 0.0677 - accuracy: 0.9900 - lr: 0.0071\n",
            "Epoch 39/100\n",
            "25/25 [==============================] - 0s 5ms/step - loss: 0.0329 - accuracy: 0.9875 - lr: 0.0079\n",
            "Epoch 40/100\n",
            "25/25 [==============================] - 0s 5ms/step - loss: 0.1380 - accuracy: 0.9600 - lr: 0.0089\n",
            "Epoch 41/100\n",
            "25/25 [==============================] - 0s 5ms/step - loss: 0.1780 - accuracy: 0.9388 - lr: 0.0100\n",
            "Epoch 42/100\n",
            "25/25 [==============================] - 0s 4ms/step - loss: 0.0297 - accuracy: 0.9937 - lr: 0.0112\n",
            "Epoch 43/100\n",
            "25/25 [==============================] - 0s 6ms/step - loss: 0.0106 - accuracy: 0.9975 - lr: 0.0126\n",
            "Epoch 44/100\n",
            "25/25 [==============================] - 0s 7ms/step - loss: 0.0040 - accuracy: 1.0000 - lr: 0.0141\n",
            "Epoch 45/100\n",
            "25/25 [==============================] - 0s 6ms/step - loss: 0.2257 - accuracy: 0.9575 - lr: 0.0158\n",
            "Epoch 46/100\n",
            "25/25 [==============================] - 0s 9ms/step - loss: 0.2940 - accuracy: 0.8875 - lr: 0.0178\n",
            "Epoch 47/100\n",
            "25/25 [==============================] - 0s 5ms/step - loss: 0.2997 - accuracy: 0.9087 - lr: 0.0200\n",
            "Epoch 48/100\n",
            "25/25 [==============================] - 0s 5ms/step - loss: 0.0615 - accuracy: 0.9800 - lr: 0.0224\n",
            "Epoch 49/100\n",
            "25/25 [==============================] - 0s 4ms/step - loss: 0.0107 - accuracy: 0.9937 - lr: 0.0251\n",
            "Epoch 50/100\n",
            "25/25 [==============================] - 0s 2ms/step - loss: 0.2171 - accuracy: 0.9388 - lr: 0.0282\n",
            "Epoch 51/100\n",
            "25/25 [==============================] - 0s 3ms/step - loss: 0.2232 - accuracy: 0.9062 - lr: 0.0316\n",
            "Epoch 52/100\n",
            "25/25 [==============================] - 0s 3ms/step - loss: 0.2178 - accuracy: 0.9287 - lr: 0.0355\n",
            "Epoch 53/100\n",
            "25/25 [==============================] - 0s 5ms/step - loss: 0.0738 - accuracy: 0.9750 - lr: 0.0398\n",
            "Epoch 54/100\n",
            "25/25 [==============================] - 0s 4ms/step - loss: 0.1969 - accuracy: 0.9375 - lr: 0.0447\n",
            "Epoch 55/100\n",
            "25/25 [==============================] - 0s 5ms/step - loss: 0.2093 - accuracy: 0.8950 - lr: 0.0501\n",
            "Epoch 56/100\n",
            "25/25 [==============================] - 0s 5ms/step - loss: 0.0709 - accuracy: 0.9725 - lr: 0.0562\n",
            "Epoch 57/100\n",
            "25/25 [==============================] - 0s 6ms/step - loss: 0.1246 - accuracy: 0.9613 - lr: 0.0631\n",
            "Epoch 58/100\n",
            "25/25 [==============================] - 0s 5ms/step - loss: 0.1364 - accuracy: 0.9613 - lr: 0.0708\n",
            "Epoch 59/100\n",
            "25/25 [==============================] - 0s 8ms/step - loss: 0.3929 - accuracy: 0.8225 - lr: 0.0794\n",
            "Epoch 60/100\n",
            "25/25 [==============================] - 0s 5ms/step - loss: 0.5011 - accuracy: 0.8225 - lr: 0.0891\n",
            "Epoch 61/100\n",
            "25/25 [==============================] - 0s 4ms/step - loss: 0.2205 - accuracy: 0.9200 - lr: 0.1000\n",
            "Epoch 62/100\n",
            "25/25 [==============================] - 0s 5ms/step - loss: 0.4089 - accuracy: 0.8537 - lr: 0.1122\n",
            "Epoch 63/100\n",
            "25/25 [==============================] - 0s 5ms/step - loss: 0.3037 - accuracy: 0.8838 - lr: 0.1259\n",
            "Epoch 64/100\n",
            "25/25 [==============================] - 0s 4ms/step - loss: 0.2570 - accuracy: 0.9000 - lr: 0.1413\n",
            "Epoch 65/100\n",
            "25/25 [==============================] - 0s 6ms/step - loss: 0.4206 - accuracy: 0.8938 - lr: 0.1585\n",
            "Epoch 66/100\n",
            "25/25 [==============================] - 0s 5ms/step - loss: 0.5713 - accuracy: 0.7212 - lr: 0.1778\n",
            "Epoch 67/100\n",
            "25/25 [==============================] - 0s 5ms/step - loss: 0.5986 - accuracy: 0.6687 - lr: 0.1995\n",
            "Epoch 68/100\n",
            "25/25 [==============================] - 0s 5ms/step - loss: 0.6779 - accuracy: 0.5612 - lr: 0.2239\n",
            "Epoch 69/100\n",
            "25/25 [==============================] - 0s 6ms/step - loss: 0.6957 - accuracy: 0.5125 - lr: 0.2512\n",
            "Epoch 70/100\n",
            "25/25 [==============================] - 0s 4ms/step - loss: 0.6972 - accuracy: 0.4900 - lr: 0.2818\n",
            "Epoch 71/100\n",
            "25/25 [==============================] - 0s 5ms/step - loss: 0.6960 - accuracy: 0.4925 - lr: 0.3162\n",
            "Epoch 72/100\n",
            "25/25 [==============================] - 0s 4ms/step - loss: 0.6990 - accuracy: 0.5150 - lr: 0.3548\n",
            "Epoch 73/100\n",
            "25/25 [==============================] - 0s 3ms/step - loss: 0.7152 - accuracy: 0.4750 - lr: 0.3981\n",
            "Epoch 74/100\n",
            "25/25 [==============================] - 0s 3ms/step - loss: 0.7014 - accuracy: 0.4975 - lr: 0.4467\n",
            "Epoch 75/100\n",
            "25/25 [==============================] - 0s 2ms/step - loss: 0.7018 - accuracy: 0.5075 - lr: 0.5012\n",
            "Epoch 76/100\n",
            "25/25 [==============================] - 0s 3ms/step - loss: 0.7021 - accuracy: 0.4925 - lr: 0.5623\n",
            "Epoch 77/100\n",
            "25/25 [==============================] - 0s 2ms/step - loss: 0.7028 - accuracy: 0.4775 - lr: 0.6310\n",
            "Epoch 78/100\n",
            "25/25 [==============================] - 0s 2ms/step - loss: 0.7095 - accuracy: 0.5075 - lr: 0.7079\n",
            "Epoch 79/100\n",
            "25/25 [==============================] - 0s 3ms/step - loss: 0.7037 - accuracy: 0.4950 - lr: 0.7943\n",
            "Epoch 80/100\n",
            "25/25 [==============================] - 0s 3ms/step - loss: 0.7241 - accuracy: 0.4925 - lr: 0.8913\n",
            "Epoch 81/100\n",
            "25/25 [==============================] - 0s 3ms/step - loss: 0.7056 - accuracy: 0.4875 - lr: 1.0000\n",
            "Epoch 82/100\n",
            "25/25 [==============================] - 0s 3ms/step - loss: 0.7160 - accuracy: 0.4750 - lr: 1.1220\n",
            "Epoch 83/100\n",
            "25/25 [==============================] - 0s 3ms/step - loss: 0.7059 - accuracy: 0.4700 - lr: 1.2589\n",
            "Epoch 84/100\n",
            "25/25 [==============================] - 0s 2ms/step - loss: 0.7043 - accuracy: 0.5075 - lr: 1.4125\n",
            "Epoch 85/100\n",
            "25/25 [==============================] - 0s 2ms/step - loss: 0.7235 - accuracy: 0.5275 - lr: 1.5849\n",
            "Epoch 86/100\n",
            "25/25 [==============================] - 0s 3ms/step - loss: 0.7405 - accuracy: 0.4850 - lr: 1.7783\n",
            "Epoch 87/100\n",
            "25/25 [==============================] - 0s 3ms/step - loss: 0.7287 - accuracy: 0.5050 - lr: 1.9953\n",
            "Epoch 88/100\n",
            "25/25 [==============================] - 0s 3ms/step - loss: 0.7115 - accuracy: 0.5050 - lr: 2.2387\n",
            "Epoch 89/100\n",
            "25/25 [==============================] - 0s 2ms/step - loss: 0.7161 - accuracy: 0.4975 - lr: 2.5119\n",
            "Epoch 90/100\n",
            "25/25 [==============================] - 0s 3ms/step - loss: 0.7191 - accuracy: 0.5200 - lr: 2.8184\n",
            "Epoch 91/100\n",
            "25/25 [==============================] - 0s 2ms/step - loss: 0.7196 - accuracy: 0.5050 - lr: 3.1623\n",
            "Epoch 92/100\n",
            "25/25 [==============================] - 0s 2ms/step - loss: 0.7713 - accuracy: 0.4725 - lr: 3.5481\n",
            "Epoch 93/100\n",
            "25/25 [==============================] - 0s 3ms/step - loss: 0.7708 - accuracy: 0.4475 - lr: 3.9811\n",
            "Epoch 94/100\n",
            "25/25 [==============================] - 0s 3ms/step - loss: 0.7872 - accuracy: 0.5150 - lr: 4.4668\n",
            "Epoch 95/100\n",
            "25/25 [==============================] - 0s 2ms/step - loss: 0.7764 - accuracy: 0.4900 - lr: 5.0119\n",
            "Epoch 96/100\n",
            "25/25 [==============================] - 0s 2ms/step - loss: 0.8765 - accuracy: 0.5050 - lr: 5.6234\n",
            "Epoch 97/100\n",
            "25/25 [==============================] - 0s 3ms/step - loss: 0.8171 - accuracy: 0.4850 - lr: 6.3096\n",
            "Epoch 98/100\n",
            "25/25 [==============================] - 0s 2ms/step - loss: 0.8432 - accuracy: 0.5075 - lr: 7.0795\n",
            "Epoch 99/100\n",
            "25/25 [==============================] - 0s 2ms/step - loss: 0.8993 - accuracy: 0.5100 - lr: 7.9433\n",
            "Epoch 100/100\n",
            "25/25 [==============================] - 0s 2ms/step - loss: 0.8114 - accuracy: 0.5125 - lr: 8.9125\n"
          ]
        }
      ]
    },
    {
      "cell_type": "code",
      "source": [
        "pd.DataFrame(history_6.history).plot(figsize = (10,7), xlabel = \"epochs\")"
      ],
      "metadata": {
        "colab": {
          "base_uri": "https://localhost:8080/"
        },
        "id": "MOG8L30_RQvj",
        "outputId": "fde84e89-213c-4431-8023-565ae2814711"
      },
      "execution_count": null,
      "outputs": [
        {
          "output_type": "execute_result",
          "data": {
            "text/plain": [
              "<matplotlib.axes._subplots.AxesSubplot at 0x7fd43f3d3d50>"
            ]
          },
          "metadata": {},
          "execution_count": 99
        },
        {
          "output_type": "display_data",
          "data": {
            "text/plain": [
              "<Figure size 720x504 with 1 Axes>"
            ],
            "image/png": "[encoded data removed]"
          },
          "metadata": {
            "needs_background": "light"
          }
        }
      ]
    },
    {
      "cell_type": "code",
      "source": [
        "# Plot the learning rate versus the loss\n",
        "lrs = 1e-4 * (10 ** (tf.range(100)/20))\n",
        "plt.figure(figsize = (10,7))\n",
        "plt.semilogx(lrs, history_6.history[\"loss\"])\n",
        "plt.xlabel(\"Learning Rate\")\n",
        "plt.ylabel(\"Loss\")\n",
        "plt.title(\"Learning Rate vs Loss\")"
      ],
      "metadata": {
        "colab": {
          "base_uri": "https://localhost:8080/"
        },
        "id": "37r5DpDwRqAx",
        "outputId": "a3782781-4a2b-4b4c-f1b6-498755a321a7"
      },
      "execution_count": null,
      "outputs": [
        {
          "output_type": "execute_result",
          "data": {
            "text/plain": [
              "Text(0.5, 1.0, 'Learning Rate vs Loss')"
            ]
          },
          "metadata": {},
          "execution_count": 100
        },
        {
          "output_type": "display_data",
          "data": {
            "text/plain": [
              "<Figure size 720x504 with 1 Axes>"
            ],
            "image/png": "[encoded data removed]"
          },
          "metadata": {
            "needs_background": "light"
          }
        }
      ]
    },
    {
      "cell_type": "code",
      "source": [
        "tf.random.set_seed(42)\n",
        "\n",
        "#1. create the model\n",
        "model_6 = tf.keras.Sequential([\n",
        "    tf.keras.layers.Dense(100, activation = \"relu\"),\n",
        "    tf.keras.layers.Dense(100, activation = \"relu\"),\n",
        "    tf.keras.layers.Dense(100, activation = \"relu\"),\n",
        "    tf.keras.layers.Dense(1, activation = \"sigmoid\")\n",
        "])\n",
        "\n",
        "# 2. Compile the model\n",
        "model_6.compile(loss = \"binary_crossentropy\",\n",
        "                optimizer = tf.keras.optimizers.Adam(learning_rate = 0.0008),\n",
        "                metrics = [\"accuracy\"])\n",
        "\n",
        "# 3. Fit the model\n",
        "history_6 = model_6.fit(X_train, y_train, epochs = 100)"
      ],
      "metadata": {
        "colab": {
          "base_uri": "https://localhost:8080/"
        },
        "id": "gILrUzV4SBFa",
        "outputId": "785ec166-0f66-4b00-d238-7b8c174bf18d"
      },
      "execution_count": null,
      "outputs": [
        {
          "output_type": "stream",
          "name": "stdout",
          "text": [
            "Epoch 1/100\n",
            "25/25 [==============================] - 1s 3ms/step - loss: 0.6905 - accuracy: 0.4988\n",
            "Epoch 2/100\n",
            "25/25 [==============================] - 0s 2ms/step - loss: 0.6842 - accuracy: 0.5000\n",
            "Epoch 3/100\n",
            "25/25 [==============================] - 0s 2ms/step - loss: 0.6749 - accuracy: 0.5000\n",
            "Epoch 4/100\n",
            "25/25 [==============================] - 0s 3ms/step - loss: 0.6618 - accuracy: 0.6037\n",
            "Epoch 5/100\n",
            "25/25 [==============================] - 0s 2ms/step - loss: 0.6368 - accuracy: 0.5750\n",
            "Epoch 6/100\n",
            "25/25 [==============================] - 0s 3ms/step - loss: 0.5688 - accuracy: 0.8875\n",
            "Epoch 7/100\n",
            "25/25 [==============================] - 0s 2ms/step - loss: 0.4359 - accuracy: 0.9625\n",
            "Epoch 8/100\n",
            "25/25 [==============================] - 0s 2ms/step - loss: 0.2535 - accuracy: 0.9950\n",
            "Epoch 9/100\n",
            "25/25 [==============================] - 0s 3ms/step - loss: 0.1186 - accuracy: 0.9975\n",
            "Epoch 10/100\n",
            "25/25 [==============================] - 0s 2ms/step - loss: 0.0628 - accuracy: 1.0000\n",
            "Epoch 11/100\n",
            "25/25 [==============================] - 0s 3ms/step - loss: 0.0348 - accuracy: 1.0000\n",
            "Epoch 12/100\n",
            "25/25 [==============================] - 0s 3ms/step - loss: 0.0234 - accuracy: 1.0000\n",
            "Epoch 13/100\n",
            "25/25 [==============================] - 0s 2ms/step - loss: 0.0186 - accuracy: 1.0000\n",
            "Epoch 14/100\n",
            "25/25 [==============================] - 0s 3ms/step - loss: 0.0158 - accuracy: 1.0000\n",
            "Epoch 15/100\n",
            "25/25 [==============================] - 0s 2ms/step - loss: 0.0115 - accuracy: 1.0000\n",
            "Epoch 16/100\n",
            "25/25 [==============================] - 0s 3ms/step - loss: 0.0091 - accuracy: 1.0000\n",
            "Epoch 17/100\n",
            "25/25 [==============================] - 0s 3ms/step - loss: 0.0081 - accuracy: 1.0000\n",
            "Epoch 18/100\n",
            "25/25 [==============================] - 0s 3ms/step - loss: 0.0073 - accuracy: 1.0000\n",
            "Epoch 19/100\n",
            "25/25 [==============================] - 0s 2ms/step - loss: 0.0068 - accuracy: 1.0000\n",
            "Epoch 20/100\n",
            "25/25 [==============================] - 0s 3ms/step - loss: 0.0069 - accuracy: 1.0000\n",
            "Epoch 21/100\n",
            "25/25 [==============================] - 0s 2ms/step - loss: 0.0075 - accuracy: 1.0000\n",
            "Epoch 22/100\n",
            "25/25 [==============================] - 0s 2ms/step - loss: 0.0048 - accuracy: 1.0000\n",
            "Epoch 23/100\n",
            "25/25 [==============================] - 0s 2ms/step - loss: 0.0041 - accuracy: 1.0000\n",
            "Epoch 24/100\n",
            "25/25 [==============================] - 0s 3ms/step - loss: 0.0049 - accuracy: 1.0000\n",
            "Epoch 25/100\n",
            "25/25 [==============================] - 0s 2ms/step - loss: 0.0046 - accuracy: 1.0000\n",
            "Epoch 26/100\n",
            "25/25 [==============================] - 0s 3ms/step - loss: 0.0036 - accuracy: 1.0000\n",
            "Epoch 27/100\n",
            "25/25 [==============================] - 0s 2ms/step - loss: 0.0035 - accuracy: 1.0000\n",
            "Epoch 28/100\n",
            "25/25 [==============================] - 0s 2ms/step - loss: 0.0031 - accuracy: 1.0000\n",
            "Epoch 29/100\n",
            "25/25 [==============================] - 0s 2ms/step - loss: 0.0021 - accuracy: 1.0000\n",
            "Epoch 30/100\n",
            "25/25 [==============================] - 0s 2ms/step - loss: 0.0021 - accuracy: 1.0000\n",
            "Epoch 31/100\n",
            "25/25 [==============================] - 0s 2ms/step - loss: 0.0026 - accuracy: 1.0000\n",
            "Epoch 32/100\n",
            "25/25 [==============================] - 0s 3ms/step - loss: 0.0022 - accuracy: 1.0000\n",
            "Epoch 33/100\n",
            "25/25 [==============================] - 0s 3ms/step - loss: 0.0049 - accuracy: 0.9987\n",
            "Epoch 34/100\n",
            "25/25 [==============================] - 0s 2ms/step - loss: 0.0042 - accuracy: 0.9987\n",
            "Epoch 35/100\n",
            "25/25 [==============================] - 0s 3ms/step - loss: 0.0016 - accuracy: 1.0000\n",
            "Epoch 36/100\n",
            "25/25 [==============================] - 0s 3ms/step - loss: 0.0014 - accuracy: 1.0000\n",
            "Epoch 37/100\n",
            "25/25 [==============================] - 0s 3ms/step - loss: 0.0022 - accuracy: 1.0000\n",
            "Epoch 38/100\n",
            "25/25 [==============================] - 0s 3ms/step - loss: 0.0030 - accuracy: 1.0000\n",
            "Epoch 39/100\n",
            "25/25 [==============================] - 0s 2ms/step - loss: 0.0017 - accuracy: 1.0000\n",
            "Epoch 40/100\n",
            "25/25 [==============================] - 0s 2ms/step - loss: 0.0012 - accuracy: 1.0000\n",
            "Epoch 41/100\n",
            "25/25 [==============================] - 0s 2ms/step - loss: 0.0018 - accuracy: 1.0000\n",
            "Epoch 42/100\n",
            "25/25 [==============================] - 0s 2ms/step - loss: 0.0018 - accuracy: 1.0000\n",
            "Epoch 43/100\n",
            "25/25 [==============================] - 0s 3ms/step - loss: 0.0122 - accuracy: 0.9950\n",
            "Epoch 44/100\n",
            "25/25 [==============================] - 0s 2ms/step - loss: 0.0188 - accuracy: 0.9937\n",
            "Epoch 45/100\n",
            "25/25 [==============================] - 0s 3ms/step - loss: 0.0035 - accuracy: 0.9987\n",
            "Epoch 46/100\n",
            "25/25 [==============================] - 0s 3ms/step - loss: 0.0012 - accuracy: 1.0000\n",
            "Epoch 47/100\n",
            "25/25 [==============================] - 0s 2ms/step - loss: 9.8015e-04 - accuracy: 1.0000\n",
            "Epoch 48/100\n",
            "25/25 [==============================] - 0s 2ms/step - loss: 8.4341e-04 - accuracy: 1.0000\n",
            "Epoch 49/100\n",
            "25/25 [==============================] - 0s 2ms/step - loss: 6.6616e-04 - accuracy: 1.0000\n",
            "Epoch 50/100\n",
            "25/25 [==============================] - 0s 3ms/step - loss: 7.1753e-04 - accuracy: 1.0000\n",
            "Epoch 51/100\n",
            "25/25 [==============================] - 0s 3ms/step - loss: 7.2804e-04 - accuracy: 1.0000\n",
            "Epoch 52/100\n",
            "25/25 [==============================] - 0s 3ms/step - loss: 6.7039e-04 - accuracy: 1.0000\n",
            "Epoch 53/100\n",
            "25/25 [==============================] - 0s 3ms/step - loss: 8.6631e-04 - accuracy: 1.0000\n",
            "Epoch 54/100\n",
            "25/25 [==============================] - 0s 3ms/step - loss: 5.6041e-04 - accuracy: 1.0000\n",
            "Epoch 55/100\n",
            "25/25 [==============================] - 0s 2ms/step - loss: 6.0384e-04 - accuracy: 1.0000\n",
            "Epoch 56/100\n",
            "25/25 [==============================] - 0s 2ms/step - loss: 5.5389e-04 - accuracy: 1.0000\n",
            "Epoch 57/100\n",
            "25/25 [==============================] - 0s 3ms/step - loss: 5.4312e-04 - accuracy: 1.0000\n",
            "Epoch 58/100\n",
            "25/25 [==============================] - 0s 2ms/step - loss: 4.9004e-04 - accuracy: 1.0000\n",
            "Epoch 59/100\n",
            "25/25 [==============================] - 0s 2ms/step - loss: 4.6233e-04 - accuracy: 1.0000\n",
            "Epoch 60/100\n",
            "25/25 [==============================] - 0s 3ms/step - loss: 4.5440e-04 - accuracy: 1.0000\n",
            "Epoch 61/100\n",
            "25/25 [==============================] - 0s 2ms/step - loss: 4.5960e-04 - accuracy: 1.0000\n",
            "Epoch 62/100\n",
            "25/25 [==============================] - 0s 3ms/step - loss: 4.8610e-04 - accuracy: 1.0000\n",
            "Epoch 63/100\n",
            "25/25 [==============================] - 0s 2ms/step - loss: 4.7506e-04 - accuracy: 1.0000\n",
            "Epoch 64/100\n",
            "25/25 [==============================] - 0s 3ms/step - loss: 4.4581e-04 - accuracy: 1.0000\n",
            "Epoch 65/100\n",
            "25/25 [==============================] - 0s 2ms/step - loss: 4.5555e-04 - accuracy: 1.0000\n",
            "Epoch 66/100\n",
            "25/25 [==============================] - 0s 2ms/step - loss: 4.1892e-04 - accuracy: 1.0000\n",
            "Epoch 67/100\n",
            "25/25 [==============================] - 0s 3ms/step - loss: 4.0769e-04 - accuracy: 1.0000\n",
            "Epoch 68/100\n",
            "25/25 [==============================] - 0s 2ms/step - loss: 3.7411e-04 - accuracy: 1.0000\n",
            "Epoch 69/100\n",
            "25/25 [==============================] - 0s 2ms/step - loss: 3.7813e-04 - accuracy: 1.0000\n",
            "Epoch 70/100\n",
            "25/25 [==============================] - 0s 3ms/step - loss: 4.0862e-04 - accuracy: 1.0000\n",
            "Epoch 71/100\n",
            "25/25 [==============================] - 0s 2ms/step - loss: 4.5684e-04 - accuracy: 1.0000\n",
            "Epoch 72/100\n",
            "25/25 [==============================] - 0s 3ms/step - loss: 3.9867e-04 - accuracy: 1.0000\n",
            "Epoch 73/100\n",
            "25/25 [==============================] - 0s 3ms/step - loss: 4.6219e-04 - accuracy: 1.0000\n",
            "Epoch 74/100\n",
            "25/25 [==============================] - 0s 2ms/step - loss: 0.0022 - accuracy: 0.9987\n",
            "Epoch 75/100\n",
            "25/25 [==============================] - 0s 3ms/step - loss: 0.0109 - accuracy: 0.9950\n",
            "Epoch 76/100\n",
            "25/25 [==============================] - 0s 2ms/step - loss: 0.0128 - accuracy: 0.9937\n",
            "Epoch 77/100\n",
            "25/25 [==============================] - 0s 2ms/step - loss: 0.0587 - accuracy: 0.9775\n",
            "Epoch 78/100\n",
            "25/25 [==============================] - 0s 2ms/step - loss: 0.0104 - accuracy: 0.9962\n",
            "Epoch 79/100\n",
            "25/25 [==============================] - 0s 2ms/step - loss: 0.0014 - accuracy: 1.0000\n",
            "Epoch 80/100\n",
            "25/25 [==============================] - 0s 2ms/step - loss: 7.7326e-04 - accuracy: 1.0000\n",
            "Epoch 81/100\n",
            "25/25 [==============================] - 0s 3ms/step - loss: 3.7766e-04 - accuracy: 1.0000\n",
            "Epoch 82/100\n",
            "25/25 [==============================] - 0s 2ms/step - loss: 3.3417e-04 - accuracy: 1.0000\n",
            "Epoch 83/100\n",
            "25/25 [==============================] - 0s 2ms/step - loss: 3.1602e-04 - accuracy: 1.0000\n",
            "Epoch 84/100\n",
            "25/25 [==============================] - 0s 2ms/step - loss: 3.1069e-04 - accuracy: 1.0000\n",
            "Epoch 85/100\n",
            "25/25 [==============================] - 0s 2ms/step - loss: 3.0172e-04 - accuracy: 1.0000\n",
            "Epoch 86/100\n",
            "25/25 [==============================] - 0s 3ms/step - loss: 2.8751e-04 - accuracy: 1.0000\n",
            "Epoch 87/100\n",
            "25/25 [==============================] - 0s 3ms/step - loss: 2.8857e-04 - accuracy: 1.0000\n",
            "Epoch 88/100\n",
            "25/25 [==============================] - 0s 2ms/step - loss: 2.7324e-04 - accuracy: 1.0000\n",
            "Epoch 89/100\n",
            "25/25 [==============================] - 0s 2ms/step - loss: 2.7376e-04 - accuracy: 1.0000\n",
            "Epoch 90/100\n",
            "25/25 [==============================] - 0s 3ms/step - loss: 2.6028e-04 - accuracy: 1.0000\n",
            "Epoch 91/100\n",
            "25/25 [==============================] - 0s 3ms/step - loss: 2.5852e-04 - accuracy: 1.0000\n",
            "Epoch 92/100\n",
            "25/25 [==============================] - 0s 2ms/step - loss: 2.5225e-04 - accuracy: 1.0000\n",
            "Epoch 93/100\n",
            "25/25 [==============================] - 0s 3ms/step - loss: 2.5047e-04 - accuracy: 1.0000\n",
            "Epoch 94/100\n",
            "25/25 [==============================] - 0s 2ms/step - loss: 2.4633e-04 - accuracy: 1.0000\n",
            "Epoch 95/100\n",
            "25/25 [==============================] - 0s 3ms/step - loss: 2.3759e-04 - accuracy: 1.0000\n",
            "Epoch 96/100\n",
            "25/25 [==============================] - 0s 3ms/step - loss: 2.2913e-04 - accuracy: 1.0000\n",
            "Epoch 97/100\n",
            "25/25 [==============================] - 0s 2ms/step - loss: 2.2955e-04 - accuracy: 1.0000\n",
            "Epoch 98/100\n",
            "25/25 [==============================] - 0s 3ms/step - loss: 2.2114e-04 - accuracy: 1.0000\n",
            "Epoch 99/100\n",
            "25/25 [==============================] - 0s 2ms/step - loss: 2.2170e-04 - accuracy: 1.0000\n",
            "Epoch 100/100\n",
            "25/25 [==============================] - 0s 2ms/step - loss: 2.2318e-04 - accuracy: 1.0000\n"
          ]
        }
      ]
    },
    {
      "cell_type": "code",
      "source": [
        "pd.DataFrame(history_6.history).plot()\n",
        "plt.title(\"Model_6 loss curves\");"
      ],
      "metadata": {
        "colab": {
          "base_uri": "https://localhost:8080/"
        },
        "id": "oBXYi-IATUAo",
        "outputId": "0c2313ec-8faf-429b-8f85-8d7b2cb62dbb"
      },
      "execution_count": null,
      "outputs": [
        {
          "output_type": "display_data",
          "data": {
            "text/plain": [
              "<Figure size 432x288 with 1 Axes>"
            ],
            "image/png": "[encoded data removed]"
          },
          "metadata": {
            "needs_background": "light"
          }
        }
      ]
    },
    {
      "cell_type": "code",
      "source": [
        "model_6.evaluate(X_test, y_test)"
      ],
      "metadata": {
        "colab": {
          "base_uri": "https://localhost:8080/"
        },
        "id": "ZSmNQYhNUGdE",
        "outputId": "68fa56a9-5cca-44f9-aa83-8ae8b353bd86"
      },
      "execution_count": null,
      "outputs": [
        {
          "output_type": "stream",
          "name": "stdout",
          "text": [
            "7/7 [==============================] - 0s 4ms/step - loss: 0.0028 - accuracy: 1.0000\n"
          ]
        },
        {
          "output_type": "execute_result",
          "data": {
            "text/plain": [
              "[0.0027609970420598984, 1.0]"
            ]
          },
          "metadata": {},
          "execution_count": 103
        }
      ]
    },
    {
      "cell_type": "markdown",
      "source": [
        "## More classification evaluation methods\n",
        "\n",
        "Alongside visualizing our models results, there are a handful of other classification evaluation methods & metrics:\n",
        "* Accuracy\n",
        "* Precision\n",
        "* Recall\n",
        "* F1-score\n",
        "* Confusion matrix\n",
        "* Classification report from sklearn"
      ],
      "metadata": {
        "id": "_opce8DnWtJc"
      }
    },
    {
      "cell_type": "code",
      "source": [
        "# Check the accuracy of our model\n",
        "loss, accuracy = model_6.evaluate(X_test, y_test)\n",
        "print(f\"Model loss on the test set: {loss}\")\n",
        "print(f\"Model accuracy on the test set: {(accuracy*100):.2f}%\")"
      ],
      "metadata": {
        "colab": {
          "base_uri": "https://localhost:8080/"
        },
        "id": "Ond2WxEXUx32",
        "outputId": "c5c10841-8616-4270-86d7-475928c81b63"
      },
      "execution_count": null,
      "outputs": [
        {
          "output_type": "stream",
          "name": "stdout",
          "text": [
            "7/7 [==============================] - 0s 3ms/step - loss: 0.0028 - accuracy: 1.0000\n",
            "Model loss on the test set: 0.0027609970420598984\n",
            "Model accuracy on the test set: 100.00%\n"
          ]
        }
      ]
    },
    {
      "cell_type": "markdown",
      "source": [
        "Confusion Matrix"
      ],
      "metadata": {
        "id": "9En5JL5ZXXAG"
      }
    },
    {
      "cell_type": "code",
      "source": [
        "# Create a confusion matrix\n",
        "from sklearn.metrics import confusion_matrix\n",
        "\n",
        "y_preds = model_6.predict(X_test)\n",
        "\n",
        "# Create confusion matrix\n",
        "confusion_matrix(y_test, tf.round(y_preds)) # we round because it's in prediction probability form"
      ],
      "metadata": {
        "colab": {
          "base_uri": "https://localhost:8080/"
        },
        "id": "vxe0FXLEX_7_",
        "outputId": "a738a0e4-8501-4c85-fd79-85240cf309c0"
      },
      "execution_count": null,
      "outputs": [
        {
          "output_type": "execute_result",
          "data": {
            "text/plain": [
              "array([[100,   0],\n",
              "       [  0, 100]])"
            ]
          },
          "metadata": {},
          "execution_count": 105
        }
      ]
    },
    {
      "cell_type": "markdown",
      "source": [
        "Looks like we have 0 false positives and false negatives!"
      ],
      "metadata": {
        "id": "gmMIVr58ZBqi"
      }
    },
    {
      "cell_type": "code",
      "source": [
        "# Prettify our confusion matrix\n",
        "\n",
        "from sklearn.metrics import ConfusionMatrixDisplay\n",
        "\n",
        "# Create the confusion matrix\n",
        "cm = confusion_matrix(y_test, tf.round(y_preds))\n",
        "\n",
        "disp = ConfusionMatrixDisplay(confusion_matrix=cm)\n",
        "disp.plot()\n",
        "\n",
        "plt.show()"
      ],
      "metadata": {
        "colab": {
          "base_uri": "https://localhost:8080/"
        },
        "id": "gzu6DRzyYSQ3",
        "outputId": "4a8f3ede-4616-4b98-afde-e52dd248583d"
      },
      "execution_count": null,
      "outputs": [
        {
          "output_type": "display_data",
          "data": {
            "text/plain": [
              "<Figure size 432x288 with 2 Axes>"
            ],
            "image/png": "[encoded data removed]"
          },
          "metadata": {
            "needs_background": "light"
          }
        }
      ]
    },
    {
      "cell_type": "markdown",
      "source": [
        "# Working with a larger example (multiclass classification)\n",
        "\n",
        "When you have more than two classes as an option, it's known as **multi-class classificaiton**.\n",
        "\n",
        "To practice, we are going to classify images of different items of clothing"
      ],
      "metadata": {
        "id": "TYzc0-MAadei"
      }
    },
    {
      "cell_type": "code",
      "source": [
        "import tensorflow as tf\n",
        "from tensorflow.keras.datasets import fashion_mnist\n",
        "\n",
        "# The data has already been sorted into training and test sets for us\n",
        "(train_data, train_labels), (test_data, test_labels) = fashion_mnist.load_data()"
      ],
      "metadata": {
        "id": "YblWB878h137",
        "colab": {
          "base_uri": "https://localhost:8080/"
        },
        "outputId": "c10ad879-a078-4e81-aacb-3d54769b30a9"
      },
      "execution_count": null,
      "outputs": [
        {
          "output_type": "stream",
          "name": "stdout",
          "text": [
            "Downloading data from https://storage.googleapis.com/tensorflow/tf-keras-datasets/train-labels-idx1-ubyte.gz\n",
            "32768/29515 [=================================] - 0s 0us/step\n",
            "40960/29515 [=========================================] - 0s 0us/step\n",
            "Downloading data from https://storage.googleapis.com/tensorflow/tf-keras-datasets/train-images-idx3-ubyte.gz\n",
            "26427392/26421880 [==============================] - 0s 0us/step\n",
            "26435584/26421880 [==============================] - 0s 0us/step\n",
            "Downloading data from https://storage.googleapis.com/tensorflow/tf-keras-datasets/t10k-labels-idx1-ubyte.gz\n",
            "16384/5148 [===============================================================================================] - 0s 0us/step\n",
            "Downloading data from https://storage.googleapis.com/tensorflow/tf-keras-datasets/t10k-images-idx3-ubyte.gz\n",
            "4423680/4422102 [==============================] - 0s 0us/step\n",
            "4431872/4422102 [==============================] - 0s 0us/step\n"
          ]
        }
      ]
    },
    {
      "cell_type": "code",
      "source": [
        "# Show the first training example\n",
        "print(f\"Training sample:\\n{train_data[0]}\\n\")\n",
        "print(f\"Training label:\\n{train_labels[0]}\\n\")"
      ],
      "metadata": {
        "colab": {
          "base_uri": "https://localhost:8080/"
        },
        "id": "AMCkk4wRjDIc",
        "outputId": "e9408d2c-f2d3-436d-bb37-964e07b9e914"
      },
      "execution_count": null,
      "outputs": [
        {
          "output_type": "stream",
          "name": "stdout",
          "text": [
            "Training sample:\n",
            "[[  0   0   0   0   0   0   0   0   0   0   0   0   0   0   0   0   0   0\n",
            "    0   0   0   0   0   0   0   0   0   0]\n",
            " [  0   0   0   0   0   0   0   0   0   0   0   0   0   0   0   0   0   0\n",
            "    0   0   0   0   0   0   0   0   0   0]\n",
            " [  0   0   0   0   0   0   0   0   0   0   0   0   0   0   0   0   0   0\n",
            "    0   0   0   0   0   0   0   0   0   0]\n",
            " [  0   0   0   0   0   0   0   0   0   0   0   0   1   0   0  13  73   0\n",
            "    0   1   4   0   0   0   0   1   1   0]\n",
            " [  0   0   0   0   0   0   0   0   0   0   0   0   3   0  36 136 127  62\n",
            "   54   0   0   0   1   3   4   0   0   3]\n",
            " [  0   0   0   0   0   0   0   0   0   0   0   0   6   0 102 204 176 134\n",
            "  144 123  23   0   0   0   0  12  10   0]\n",
            " [  0   0   0   0   0   0   0   0   0   0   0   0   0   0 155 236 207 178\n",
            "  107 156 161 109  64  23  77 130  72  15]\n",
            " [  0   0   0   0   0   0   0   0   0   0   0   1   0  69 207 223 218 216\n",
            "  216 163 127 121 122 146 141  88 172  66]\n",
            " [  0   0   0   0   0   0   0   0   0   1   1   1   0 200 232 232 233 229\n",
            "  223 223 215 213 164 127 123 196 229   0]\n",
            " [  0   0   0   0   0   0   0   0   0   0   0   0   0 183 225 216 223 228\n",
            "  235 227 224 222 224 221 223 245 173   0]\n",
            " [  0   0   0   0   0   0   0   0   0   0   0   0   0 193 228 218 213 198\n",
            "  180 212 210 211 213 223 220 243 202   0]\n",
            " [  0   0   0   0   0   0   0   0   0   1   3   0  12 219 220 212 218 192\n",
            "  169 227 208 218 224 212 226 197 209  52]\n",
            " [  0   0   0   0   0   0   0   0   0   0   6   0  99 244 222 220 218 203\n",
            "  198 221 215 213 222 220 245 119 167  56]\n",
            " [  0   0   0   0   0   0   0   0   0   4   0   0  55 236 228 230 228 240\n",
            "  232 213 218 223 234 217 217 209  92   0]\n",
            " [  0   0   1   4   6   7   2   0   0   0   0   0 237 226 217 223 222 219\n",
            "  222 221 216 223 229 215 218 255  77   0]\n",
            " [  0   3   0   0   0   0   0   0   0  62 145 204 228 207 213 221 218 208\n",
            "  211 218 224 223 219 215 224 244 159   0]\n",
            " [  0   0   0   0  18  44  82 107 189 228 220 222 217 226 200 205 211 230\n",
            "  224 234 176 188 250 248 233 238 215   0]\n",
            " [  0  57 187 208 224 221 224 208 204 214 208 209 200 159 245 193 206 223\n",
            "  255 255 221 234 221 211 220 232 246   0]\n",
            " [  3 202 228 224 221 211 211 214 205 205 205 220 240  80 150 255 229 221\n",
            "  188 154 191 210 204 209 222 228 225   0]\n",
            " [ 98 233 198 210 222 229 229 234 249 220 194 215 217 241  65  73 106 117\n",
            "  168 219 221 215 217 223 223 224 229  29]\n",
            " [ 75 204 212 204 193 205 211 225 216 185 197 206 198 213 240 195 227 245\n",
            "  239 223 218 212 209 222 220 221 230  67]\n",
            " [ 48 203 183 194 213 197 185 190 194 192 202 214 219 221 220 236 225 216\n",
            "  199 206 186 181 177 172 181 205 206 115]\n",
            " [  0 122 219 193 179 171 183 196 204 210 213 207 211 210 200 196 194 191\n",
            "  195 191 198 192 176 156 167 177 210  92]\n",
            " [  0   0  74 189 212 191 175 172 175 181 185 188 189 188 193 198 204 209\n",
            "  210 210 211 188 188 194 192 216 170   0]\n",
            " [  2   0   0   0  66 200 222 237 239 242 246 243 244 221 220 193 191 179\n",
            "  182 182 181 176 166 168  99  58   0   0]\n",
            " [  0   0   0   0   0   0   0  40  61  44  72  41  35   0   0   0   0   0\n",
            "    0   0   0   0   0   0   0   0   0   0]\n",
            " [  0   0   0   0   0   0   0   0   0   0   0   0   0   0   0   0   0   0\n",
            "    0   0   0   0   0   0   0   0   0   0]\n",
            " [  0   0   0   0   0   0   0   0   0   0   0   0   0   0   0   0   0   0\n",
            "    0   0   0   0   0   0   0   0   0   0]]\n",
            "\n",
            "Training label:\n",
            "9\n",
            "\n"
          ]
        }
      ]
    },
    {
      "cell_type": "code",
      "source": [
        "# Check the shape of a single example\n",
        "train_data[0].shape, train_labels[0].shape"
      ],
      "metadata": {
        "colab": {
          "base_uri": "https://localhost:8080/"
        },
        "id": "tPf5lh-YjPGD",
        "outputId": "b36e5158-f681-4c4e-9c12-41059dfe9cb3"
      },
      "execution_count": null,
      "outputs": [
        {
          "output_type": "execute_result",
          "data": {
            "text/plain": [
              "((28, 28), ())"
            ]
          },
          "metadata": {},
          "execution_count": 4
        }
      ]
    },
    {
      "cell_type": "code",
      "source": [
        "# Plot a single sample\n",
        "import matplotlib.pyplot as plt\n",
        "plt.imshow(train_data[0]);"
      ],
      "metadata": {
        "colab": {
          "base_uri": "https://localhost:8080/",
          "height": 265
        },
        "id": "0S3OEDjmj1t5",
        "outputId": "62313925-adc2-4cd3-da58-defad370140c"
      },
      "execution_count": null,
      "outputs": [
        {
          "output_type": "display_data",
          "data": {
            "text/plain": [
              "<Figure size 432x288 with 1 Axes>"
            ],
            "image/png": "[encoded data removed]"
          },
          "metadata": {
            "needs_background": "light"
          }
        }
      ]
    },
    {
      "cell_type": "code",
      "source": [
        "# Create a small list so we can index onto our training labels so they're human readable\n",
        "class_names = [\"T-shirt/top\", \"Trouser\", \"Pullover\", \"Dress\", \"Coat\", \"Sandal\", \"Shirt\", \"Sneaker\",\n",
        "               \"Bag\", \"Ankle boot\"]\n",
        "len(class_names)"
      ],
      "metadata": {
        "colab": {
          "base_uri": "https://localhost:8080/"
        },
        "id": "-1XufeiOj-OE",
        "outputId": "42a1e2f2-d7a7-4b52-8726-383f2d99df20"
      },
      "execution_count": null,
      "outputs": [
        {
          "output_type": "execute_result",
          "data": {
            "text/plain": [
              "10"
            ]
          },
          "metadata": {},
          "execution_count": 6
        }
      ]
    },
    {
      "cell_type": "code",
      "source": [
        "# Plot an example image and its label\n",
        "plt.imshow(train_data[17], cmap = plt.cm.binary)\n",
        "plt.title(class_names[train_labels[17]])"
      ],
      "metadata": {
        "colab": {
          "base_uri": "https://localhost:8080/",
          "height": 299
        },
        "id": "EPyh8zIPkoU1",
        "outputId": "841bdf1e-c5b3-438c-fc0c-ea3ad7a5c75f"
      },
      "execution_count": null,
      "outputs": [
        {
          "output_type": "execute_result",
          "data": {
            "text/plain": [
              "Text(0.5, 1.0, 'T-shirt/top')"
            ]
          },
          "metadata": {},
          "execution_count": 7
        },
        {
          "output_type": "display_data",
          "data": {
            "text/plain": [
              "<Figure size 432x288 with 1 Axes>"
            ],
            "image/png": "[encoded data removed]"
          },
          "metadata": {
            "needs_background": "light"
          }
        }
      ]
    },
    {
      "cell_type": "code",
      "source": [
        "# Plot multiple random images of fashion mnist\n",
        "import random\n",
        "plt.figure(figsize = (7,7))\n",
        "for i in range(4):\n",
        "  ax = plt.subplot(2,2,i+1)\n",
        "  rand_index = random.choice(range(len(train_data)))\n",
        "  plt.imshow(train_data[rand_index], cmap = plt.cm.binary)\n",
        "  plt.title(class_names[train_labels[rand_index]])"
      ],
      "metadata": {
        "colab": {
          "base_uri": "https://localhost:8080/",
          "height": 444
        },
        "id": "w1pwe084k4tv",
        "outputId": "4231542f-af07-4daa-8ac5-e9fceee363a8"
      },
      "execution_count": null,
      "outputs": [
        {
          "output_type": "display_data",
          "data": {
            "text/plain": [
              "<Figure size 504x504 with 4 Axes>"
            ],
            "image/png": "[encoded data removed]"
          },
          "metadata": {
            "needs_background": "light"
          }
        }
      ]
    },
    {
      "cell_type": "markdown",
      "source": [
        "## Building a multi-class classification model\n",
        "\n",
        "For our multi-class classification, we have tweak a few things\n",
        "\n",
        "* Input shape = (28,28) => the shape of one image\n",
        "* Output shape = 10 (one per class of clothing)\n",
        "* Loss function = tf.keras.losses.SparseCategoricalCrossEntropy()\n",
        "  * If your labels are encoded, use CategoricalCrossentropy()\n",
        "* Output layer activation = Softmax (not sigmoid)\n"
      ],
      "metadata": {
        "id": "MhOMNid-lg_6"
      }
    },
    {
      "cell_type": "code",
      "source": [
        "tf.random.set_seed(42)\n",
        "\n",
        "model_1 = tf.keras.Sequential([\n",
        "    tf.keras.layers.Flatten(input_shape = (28,28)),\n",
        "    tf.keras.layers.Dense(100, activation = \"relu\"),\n",
        "    tf.keras.layers.Dense(100, activation = \"relu\"),\n",
        "    tf.keras.layers.Dense(100, activation = \"softmax\"),\n",
        "    tf.keras.layers.Dense(10)\n",
        "])\n",
        "\n",
        "model_1.compile(loss = tf.keras.losses.SparseCategoricalCrossentropy(),\n",
        "                optimizer = tf.keras.optimizers.Adam(),\n",
        "                metrics = [\"accuracy\"])\n",
        "\n",
        "\n",
        "history_1 = model_1.fit(train_data,\n",
        "                        train_labels,\n",
        "                        epochs = 15,\n",
        "                        validation_data = (test_data, test_labels))\n"
      ],
      "metadata": {
        "colab": {
          "base_uri": "https://localhost:8080/"
        },
        "id": "2-H_z3iXl6oK",
        "outputId": "f46c18e9-f58a-408b-8b74-871eda0d5469"
      },
      "execution_count": null,
      "outputs": [
        {
          "output_type": "stream",
          "name": "stdout",
          "text": [
            "Epoch 1/15\n",
            "1875/1875 [==============================] - 11s 5ms/step - loss: 2.6518 - accuracy: 0.1042 - val_loss: 2.3026 - val_accuracy: 0.1000\n",
            "Epoch 2/15\n",
            "1875/1875 [==============================] - 6s 3ms/step - loss: 2.3026 - accuracy: 0.1000 - val_loss: 2.3026 - val_accuracy: 0.1000\n",
            "Epoch 3/15\n",
            "1875/1875 [==============================] - 6s 3ms/step - loss: 2.3026 - accuracy: 0.1000 - val_loss: 2.3026 - val_accuracy: 0.1000\n",
            "Epoch 4/15\n",
            "1875/1875 [==============================] - 6s 3ms/step - loss: 2.3026 - accuracy: 0.1000 - val_loss: 2.3026 - val_accuracy: 0.1000\n",
            "Epoch 5/15\n",
            "1875/1875 [==============================] - 6s 3ms/step - loss: 2.3026 - accuracy: 0.1000 - val_loss: 2.3026 - val_accuracy: 0.1000\n",
            "Epoch 6/15\n",
            "1875/1875 [==============================] - 6s 3ms/step - loss: 2.3026 - accuracy: 0.1000 - val_loss: 2.3026 - val_accuracy: 0.1000\n",
            "Epoch 7/15\n",
            "1875/1875 [==============================] - 6s 3ms/step - loss: 2.3026 - accuracy: 0.1000 - val_loss: 2.3026 - val_accuracy: 0.1000\n",
            "Epoch 8/15\n",
            "1875/1875 [==============================] - 7s 4ms/step - loss: 2.3026 - accuracy: 0.1000 - val_loss: 2.3026 - val_accuracy: 0.1000\n",
            "Epoch 9/15\n",
            "1875/1875 [==============================] - 7s 3ms/step - loss: 2.3026 - accuracy: 0.1000 - val_loss: 2.3026 - val_accuracy: 0.1000\n",
            "Epoch 10/15\n",
            "1875/1875 [==============================] - 7s 4ms/step - loss: 2.3026 - accuracy: 0.1000 - val_loss: 2.3026 - val_accuracy: 0.1000\n",
            "Epoch 11/15\n",
            "1875/1875 [==============================] - 7s 4ms/step - loss: 2.3026 - accuracy: 0.1000 - val_loss: 2.3026 - val_accuracy: 0.1000\n",
            "Epoch 12/15\n",
            "1875/1875 [==============================] - 6s 3ms/step - loss: 2.3026 - accuracy: 0.1000 - val_loss: 2.3026 - val_accuracy: 0.1000\n",
            "Epoch 13/15\n",
            "1875/1875 [==============================] - 6s 3ms/step - loss: 2.3026 - accuracy: 0.1000 - val_loss: 2.3026 - val_accuracy: 0.1000\n",
            "Epoch 14/15\n",
            "1875/1875 [==============================] - 6s 3ms/step - loss: 2.3026 - accuracy: 0.1000 - val_loss: 2.3026 - val_accuracy: 0.1000\n",
            "Epoch 15/15\n",
            "1875/1875 [==============================] - 7s 3ms/step - loss: 2.3026 - accuracy: 0.1000 - val_loss: 2.3026 - val_accuracy: 0.1000\n"
          ]
        }
      ]
    },
    {
      "cell_type": "markdown",
      "source": [
        "🔑**Neural Networks prefer data to be normalized. This means they prefer numbers between 0 and 1**"
      ],
      "metadata": {
        "id": "1Vju8BWvGEls"
      }
    },
    {
      "cell_type": "code",
      "source": [
        "train_data.max()"
      ],
      "metadata": {
        "colab": {
          "base_uri": "https://localhost:8080/"
        },
        "id": "8PSkYo9kGSxZ",
        "outputId": "1886fb8d-132b-4638-9332-a74b29ad98e6"
      },
      "execution_count": null,
      "outputs": [
        {
          "output_type": "execute_result",
          "data": {
            "text/plain": [
              "255"
            ]
          },
          "metadata": {},
          "execution_count": 10
        }
      ]
    },
    {
      "cell_type": "code",
      "source": [
        "# We can get our training and testing data between 0 and 1 by dividing by the maximum number\n",
        "train_data_norm = train_data / 255.0\n",
        "test_data_norm = test_data / 255.0\n",
        "\n",
        "# Check the min and max values of the scaled training data\n",
        "train_data_norm.min(), train_data_norm.max()"
      ],
      "metadata": {
        "id": "WymqnAbrnlNU",
        "colab": {
          "base_uri": "https://localhost:8080/"
        },
        "outputId": "790f2a96-4ce3-47ee-9ccd-ecaf29be230f"
      },
      "execution_count": null,
      "outputs": [
        {
          "output_type": "execute_result",
          "data": {
            "text/plain": [
              "(0.0, 1.0)"
            ]
          },
          "metadata": {},
          "execution_count": 11
        }
      ]
    },
    {
      "cell_type": "code",
      "source": [
        "model_2 = tf.keras.Sequential([\n",
        "    tf.keras.layers.Flatten(input_shape = (28,28)),\n",
        "    tf.keras.layers.Dense(300, activation = \"relu\"),\n",
        "    tf.keras.layers.Dense(100, activation = \"relu\"),\n",
        "    tf.keras.layers.Dense(10, activation = \"sigmoid\")\n",
        "])\n",
        "\n",
        "model_2.compile(loss = tf.keras.losses.SparseCategoricalCrossentropy(),\n",
        "                optimizer = tf.keras.optimizers.Adam(),\n",
        "                metrics = [\"accuracy\"])\n",
        "\n",
        "norm_history = model_2.fit(train_data_norm,\n",
        "            train_labels,\n",
        "            epochs = 20,\n",
        "            validation_data = (test_data_norm, test_labels))"
      ],
      "metadata": {
        "colab": {
          "base_uri": "https://localhost:8080/"
        },
        "id": "PR4DQ9kuGsvI",
        "outputId": "ef2a3847-7b1b-4ec3-a421-c01bd72a19ba"
      },
      "execution_count": null,
      "outputs": [
        {
          "output_type": "stream",
          "name": "stdout",
          "text": [
            "Epoch 1/20\n",
            "1875/1875 [==============================] - 9s 5ms/step - loss: 0.4763 - accuracy: 0.8280 - val_loss: 0.3888 - val_accuracy: 0.8568\n",
            "Epoch 2/20\n",
            "1875/1875 [==============================] - 9s 5ms/step - loss: 0.3563 - accuracy: 0.8702 - val_loss: 0.4499 - val_accuracy: 0.8446\n",
            "Epoch 3/20\n",
            "1875/1875 [==============================] - 9s 5ms/step - loss: 0.3232 - accuracy: 0.8800 - val_loss: 0.3750 - val_accuracy: 0.8657\n",
            "Epoch 4/20\n",
            "1875/1875 [==============================] - 9s 5ms/step - loss: 0.2989 - accuracy: 0.8892 - val_loss: 0.3840 - val_accuracy: 0.8622\n",
            "Epoch 5/20\n",
            "1875/1875 [==============================] - 9s 5ms/step - loss: 0.2834 - accuracy: 0.8936 - val_loss: 0.3503 - val_accuracy: 0.8727\n",
            "Epoch 6/20\n",
            "1875/1875 [==============================] - 9s 5ms/step - loss: 0.2670 - accuracy: 0.8985 - val_loss: 0.3738 - val_accuracy: 0.8613\n",
            "Epoch 7/20\n",
            "1875/1875 [==============================] - 8s 5ms/step - loss: 0.2556 - accuracy: 0.9041 - val_loss: 0.3566 - val_accuracy: 0.8745\n",
            "Epoch 8/20\n",
            "1875/1875 [==============================] - 9s 5ms/step - loss: 0.2454 - accuracy: 0.9079 - val_loss: 0.3283 - val_accuracy: 0.8836\n",
            "Epoch 9/20\n",
            "1875/1875 [==============================] - 9s 5ms/step - loss: 0.2344 - accuracy: 0.9109 - val_loss: 0.3293 - val_accuracy: 0.8865\n",
            "Epoch 10/20\n",
            "1875/1875 [==============================] - 9s 5ms/step - loss: 0.2236 - accuracy: 0.9153 - val_loss: 0.3333 - val_accuracy: 0.8879\n",
            "Epoch 11/20\n",
            "1875/1875 [==============================] - 9s 5ms/step - loss: 0.2176 - accuracy: 0.9176 - val_loss: 0.3228 - val_accuracy: 0.8902\n",
            "Epoch 12/20\n",
            "1875/1875 [==============================] - 8s 4ms/step - loss: 0.2075 - accuracy: 0.9210 - val_loss: 0.3374 - val_accuracy: 0.8888\n",
            "Epoch 13/20\n",
            "1875/1875 [==============================] - 9s 5ms/step - loss: 0.2025 - accuracy: 0.9234 - val_loss: 0.3336 - val_accuracy: 0.8886\n",
            "Epoch 14/20\n",
            "1875/1875 [==============================] - 9s 5ms/step - loss: 0.1953 - accuracy: 0.9251 - val_loss: 0.3363 - val_accuracy: 0.8931\n",
            "Epoch 15/20\n",
            "1875/1875 [==============================] - 8s 4ms/step - loss: 0.1869 - accuracy: 0.9290 - val_loss: 0.3542 - val_accuracy: 0.8877\n",
            "Epoch 16/20\n",
            "1875/1875 [==============================] - 8s 4ms/step - loss: 0.1816 - accuracy: 0.9303 - val_loss: 0.3611 - val_accuracy: 0.8866\n",
            "Epoch 17/20\n",
            "1875/1875 [==============================] - 12s 6ms/step - loss: 0.1767 - accuracy: 0.9331 - val_loss: 0.3502 - val_accuracy: 0.8928\n",
            "Epoch 18/20\n",
            "1875/1875 [==============================] - 16s 9ms/step - loss: 0.1734 - accuracy: 0.9332 - val_loss: 0.3645 - val_accuracy: 0.8942\n",
            "Epoch 19/20\n",
            "1875/1875 [==============================] - 14s 7ms/step - loss: 0.1669 - accuracy: 0.9364 - val_loss: 0.3918 - val_accuracy: 0.8850\n",
            "Epoch 20/20\n",
            "1875/1875 [==============================] - 15s 8ms/step - loss: 0.1613 - accuracy: 0.9380 - val_loss: 0.4164 - val_accuracy: 0.8870\n"
          ]
        }
      ]
    },
    {
      "cell_type": "code",
      "source": [
        "import pandas as pd\n",
        "# Plot normalized data loss curves\n",
        "pd.DataFrame(norm_history.history).plot(title = \"Normalized data\")"
      ],
      "metadata": {
        "colab": {
          "base_uri": "https://localhost:8080/",
          "height": 299
        },
        "id": "6dm1azLOH3uD",
        "outputId": "a9a7a4a0-fe4f-4fc8-abfa-437192f3df01"
      },
      "execution_count": null,
      "outputs": [
        {
          "output_type": "execute_result",
          "data": {
            "text/plain": [
              "<matplotlib.axes._subplots.AxesSubplot at 0x7f53e37f32d0>"
            ]
          },
          "metadata": {},
          "execution_count": 13
        },
        {
          "output_type": "display_data",
          "data": {
            "text/plain": [
              "<Figure size 432x288 with 1 Axes>"
            ],
            "image/png": "[encoded data removed]"
          },
          "metadata": {
            "needs_background": "light"
          }
        }
      ]
    },
    {
      "cell_type": "markdown",
      "source": [
        "## Finding the ideal learning rate"
      ],
      "metadata": {
        "id": "9P-p-zokLgCC"
      }
    },
    {
      "cell_type": "code",
      "source": [
        "tf.random.set_seed(42)\n",
        "\n",
        "model_3 = tf.keras.Sequential([\n",
        "    tf.keras.layers.Flatten(input_shape = (28, 28)),\n",
        "    tf.keras.layers.Dense(300, activation = \"relu\"),\n",
        "    tf.keras.layers.Dense(100, activation = \"relu\"),\n",
        "    tf.keras.layers.Dense(10, activation = \"softmax\")\n",
        "])\n",
        "\n",
        "model_3.compile(loss = tf.keras.losses.SparseCategoricalCrossentropy(),\n",
        "                optimizer = tf.keras.optimizers.Adam(),\n",
        "                metrics = [\"accuracy\"])\n",
        "\n",
        "# Create the learning rate callback\n",
        "lr_scheduler = tf.keras.callbacks.LearningRateScheduler(lambda epoch: 1e-3 * 10 **(epoch/20))\n",
        "\n",
        "find_lr_history = model_3.fit(train_data_norm,\n",
        "                              train_labels,\n",
        "                              epochs = 40,\n",
        "                              validation_data = (test_data_norm, test_labels),\n",
        "                              callbacks = [lr_scheduler])"
      ],
      "metadata": {
        "colab": {
          "base_uri": "https://localhost:8080/"
        },
        "id": "jkfkg3jgKuQQ",
        "outputId": "77f82d0e-edb0-4ddb-aa14-ccd7276b2a85"
      },
      "execution_count": null,
      "outputs": [
        {
          "output_type": "stream",
          "name": "stdout",
          "text": [
            "Epoch 1/40\n",
            "1875/1875 [==============================] - 15s 8ms/step - loss: 0.4773 - accuracy: 0.8276 - val_loss: 0.3960 - val_accuracy: 0.8549 - lr: 0.0010\n",
            "Epoch 2/40\n",
            "1875/1875 [==============================] - 10s 5ms/step - loss: 0.3646 - accuracy: 0.8654 - val_loss: 0.4305 - val_accuracy: 0.8510 - lr: 0.0011\n",
            "Epoch 3/40\n",
            "1875/1875 [==============================] - 9s 5ms/step - loss: 0.3362 - accuracy: 0.8758 - val_loss: 0.4047 - val_accuracy: 0.8542 - lr: 0.0013\n",
            "Epoch 4/40\n",
            "1875/1875 [==============================] - 9s 5ms/step - loss: 0.3162 - accuracy: 0.8836 - val_loss: 0.3824 - val_accuracy: 0.8581 - lr: 0.0014\n",
            "Epoch 5/40\n",
            "1875/1875 [==============================] - 9s 5ms/step - loss: 0.3021 - accuracy: 0.8873 - val_loss: 0.3671 - val_accuracy: 0.8642 - lr: 0.0016\n",
            "Epoch 6/40\n",
            "1875/1875 [==============================] - 9s 5ms/step - loss: 0.2947 - accuracy: 0.8899 - val_loss: 0.3838 - val_accuracy: 0.8559 - lr: 0.0018\n",
            "Epoch 7/40\n",
            "1875/1875 [==============================] - 15s 8ms/step - loss: 0.2888 - accuracy: 0.8927 - val_loss: 0.3811 - val_accuracy: 0.8646 - lr: 0.0020\n",
            "Epoch 8/40\n",
            "1875/1875 [==============================] - 12s 7ms/step - loss: 0.2855 - accuracy: 0.8932 - val_loss: 0.3519 - val_accuracy: 0.8819 - lr: 0.0022\n",
            "Epoch 9/40\n",
            "1875/1875 [==============================] - 9s 5ms/step - loss: 0.2837 - accuracy: 0.8947 - val_loss: 0.3632 - val_accuracy: 0.8770 - lr: 0.0025\n",
            "Epoch 10/40\n",
            "1875/1875 [==============================] - 10s 5ms/step - loss: 0.2876 - accuracy: 0.8930 - val_loss: 0.3905 - val_accuracy: 0.8642 - lr: 0.0028\n",
            "Epoch 11/40\n",
            "1875/1875 [==============================] - 8s 5ms/step - loss: 0.2875 - accuracy: 0.8938 - val_loss: 0.4125 - val_accuracy: 0.8567 - lr: 0.0032\n",
            "Epoch 12/40\n",
            "1875/1875 [==============================] - 9s 5ms/step - loss: 0.2911 - accuracy: 0.8930 - val_loss: 0.4006 - val_accuracy: 0.8689 - lr: 0.0035\n",
            "Epoch 13/40\n",
            "1875/1875 [==============================] - 9s 5ms/step - loss: 0.2975 - accuracy: 0.8918 - val_loss: 0.3915 - val_accuracy: 0.8730 - lr: 0.0040\n",
            "Epoch 14/40\n",
            "1875/1875 [==============================] - 9s 5ms/step - loss: 0.3025 - accuracy: 0.8900 - val_loss: 0.3982 - val_accuracy: 0.8758 - lr: 0.0045\n",
            "Epoch 15/40\n",
            "1875/1875 [==============================] - 9s 5ms/step - loss: 0.3110 - accuracy: 0.8872 - val_loss: 0.3909 - val_accuracy: 0.8720 - lr: 0.0050\n",
            "Epoch 16/40\n",
            "1875/1875 [==============================] - 9s 5ms/step - loss: 0.3210 - accuracy: 0.8855 - val_loss: 0.4183 - val_accuracy: 0.8630 - lr: 0.0056\n",
            "Epoch 17/40\n",
            "1875/1875 [==============================] - 9s 5ms/step - loss: 0.3227 - accuracy: 0.8830 - val_loss: 0.3877 - val_accuracy: 0.8711 - lr: 0.0063\n",
            "Epoch 18/40\n",
            "1875/1875 [==============================] - 9s 5ms/step - loss: 0.3423 - accuracy: 0.8787 - val_loss: 0.4479 - val_accuracy: 0.8646 - lr: 0.0071\n",
            "Epoch 19/40\n",
            "1875/1875 [==============================] - 9s 5ms/step - loss: 0.3456 - accuracy: 0.8784 - val_loss: 0.4051 - val_accuracy: 0.8700 - lr: 0.0079\n",
            "Epoch 20/40\n",
            "1875/1875 [==============================] - 10s 5ms/step - loss: 0.3590 - accuracy: 0.8765 - val_loss: 0.4348 - val_accuracy: 0.8589 - lr: 0.0089\n",
            "Epoch 21/40\n",
            "1875/1875 [==============================] - 9s 5ms/step - loss: 0.3738 - accuracy: 0.8755 - val_loss: 0.4742 - val_accuracy: 0.8493 - lr: 0.0100\n",
            "Epoch 22/40\n",
            "1875/1875 [==============================] - 9s 5ms/step - loss: 0.3859 - accuracy: 0.8704 - val_loss: 0.4411 - val_accuracy: 0.8483 - lr: 0.0112\n",
            "Epoch 23/40\n",
            "1875/1875 [==============================] - 9s 5ms/step - loss: 0.4219 - accuracy: 0.8583 - val_loss: 0.6177 - val_accuracy: 0.8162 - lr: 0.0126\n",
            "Epoch 24/40\n",
            "1875/1875 [==============================] - 9s 5ms/step - loss: 0.4380 - accuracy: 0.8540 - val_loss: 0.4979 - val_accuracy: 0.8496 - lr: 0.0141\n",
            "Epoch 25/40\n",
            "1875/1875 [==============================] - 9s 5ms/step - loss: 0.4597 - accuracy: 0.8498 - val_loss: 0.5198 - val_accuracy: 0.8321 - lr: 0.0158\n",
            "Epoch 26/40\n",
            "1875/1875 [==============================] - 9s 5ms/step - loss: 0.5221 - accuracy: 0.8374 - val_loss: 0.6714 - val_accuracy: 0.8001 - lr: 0.0178\n",
            "Epoch 27/40\n",
            "1875/1875 [==============================] - 10s 5ms/step - loss: 0.5519 - accuracy: 0.8203 - val_loss: 0.5732 - val_accuracy: 0.8161 - lr: 0.0200\n",
            "Epoch 28/40\n",
            "1875/1875 [==============================] - 9s 5ms/step - loss: 0.5705 - accuracy: 0.8156 - val_loss: 0.6802 - val_accuracy: 0.7882 - lr: 0.0224\n",
            "Epoch 29/40\n",
            "1875/1875 [==============================] - 9s 5ms/step - loss: 0.7909 - accuracy: 0.7525 - val_loss: 0.8995 - val_accuracy: 0.7471 - lr: 0.0251\n",
            "Epoch 30/40\n",
            "1875/1875 [==============================] - 9s 5ms/step - loss: 0.8286 - accuracy: 0.7271 - val_loss: 0.7744 - val_accuracy: 0.7426 - lr: 0.0282\n",
            "Epoch 31/40\n",
            "1875/1875 [==============================] - 9s 5ms/step - loss: 0.8319 - accuracy: 0.7232 - val_loss: 0.9242 - val_accuracy: 0.7003 - lr: 0.0316\n",
            "Epoch 32/40\n",
            "1875/1875 [==============================] - 9s 5ms/step - loss: 1.2275 - accuracy: 0.5444 - val_loss: 1.5514 - val_accuracy: 0.4109 - lr: 0.0355\n",
            "Epoch 33/40\n",
            "1875/1875 [==============================] - 9s 5ms/step - loss: 1.2591 - accuracy: 0.4904 - val_loss: 1.3235 - val_accuracy: 0.5491 - lr: 0.0398\n",
            "Epoch 34/40\n",
            "1875/1875 [==============================] - 9s 5ms/step - loss: 1.2320 - accuracy: 0.4972 - val_loss: 1.2514 - val_accuracy: 0.5070 - lr: 0.0447\n",
            "Epoch 35/40\n",
            "1875/1875 [==============================] - 9s 5ms/step - loss: 1.3737 - accuracy: 0.4073 - val_loss: 1.4919 - val_accuracy: 0.3094 - lr: 0.0501\n",
            "Epoch 36/40\n",
            "1875/1875 [==============================] - 8s 4ms/step - loss: 1.8052 - accuracy: 0.2912 - val_loss: 1.7233 - val_accuracy: 0.3227 - lr: 0.0562\n",
            "Epoch 37/40\n",
            "1875/1875 [==============================] - 8s 4ms/step - loss: 1.9072 - accuracy: 0.2228 - val_loss: 1.8878 - val_accuracy: 0.1972 - lr: 0.0631\n",
            "Epoch 38/40\n",
            "1875/1875 [==============================] - 9s 5ms/step - loss: 1.8201 - accuracy: 0.1937 - val_loss: 1.8261 - val_accuracy: 0.1952 - lr: 0.0708\n",
            "Epoch 39/40\n",
            "1875/1875 [==============================] - 9s 5ms/step - loss: 1.7875 - accuracy: 0.1957 - val_loss: 1.7290 - val_accuracy: 0.1967 - lr: 0.0794\n",
            "Epoch 40/40\n",
            "1875/1875 [==============================] - 9s 5ms/step - loss: 1.7222 - accuracy: 0.1990 - val_loss: 1.7225 - val_accuracy: 0.1997 - lr: 0.0891\n"
          ]
        }
      ]
    },
    {
      "cell_type": "code",
      "source": [
        "# Plot the learning rate decay curve\n",
        "import numpy as np\n",
        "import matplotlib.pyplot as plt\n",
        "\n",
        "lrs = 1e-3*(10**(tf.range(40)/20))\n",
        "plt.semilogx(lrs, find_lr_history.history[\"loss\"])\n",
        "plt.xlabel(\"Learning rate\")\n",
        "plt.ylabel(\"Loss\")\n",
        "plt.title(\"Finding the ideal learning rate\")"
      ],
      "metadata": {
        "colab": {
          "base_uri": "https://localhost:8080/",
          "height": 317
        },
        "id": "7ztwEoUiMOkd",
        "outputId": "338d412f-326f-48e2-f9c6-cdd321959be5"
      },
      "execution_count": null,
      "outputs": [
        {
          "output_type": "execute_result",
          "data": {
            "text/plain": [
              "Text(0.5, 1.0, 'Finding the ideal learning rate')"
            ]
          },
          "metadata": {},
          "execution_count": 15
        },
        {
          "output_type": "display_data",
          "data": {
            "text/plain": [
              "<Figure size 432x288 with 1 Axes>"
            ],
            "image/png": "[encoded data removed]"
          },
          "metadata": {
            "needs_background": "light"
          }
        }
      ]
    },
    {
      "cell_type": "markdown",
      "source": [
        "So 0.001 works the best, which is the default :)"
      ],
      "metadata": {
        "id": "-pMAkoz8OkTU"
      }
    },
    {
      "cell_type": "markdown",
      "source": [
        "## Evaluating our multi-class classification model\n",
        "\n",
        "To evaluate:\n",
        "* Evaluate its performance using other classification metrics such as confusion matrix\n",
        "* Assess some of its predictions (visualize)\n",
        "* Improve its results \n",
        "* Save and export it for use in an application"
      ],
      "metadata": {
        "id": "0o-kQbpmOK8U"
      }
    },
    {
      "cell_type": "code",
      "source": [
        "class_names"
      ],
      "metadata": {
        "colab": {
          "base_uri": "https://localhost:8080/"
        },
        "id": "ujEOuXbYUio0",
        "outputId": "c9d97885-97eb-403b-956f-f6f81e4334ad"
      },
      "execution_count": null,
      "outputs": [
        {
          "output_type": "execute_result",
          "data": {
            "text/plain": [
              "['T-shirt/top',\n",
              " 'Trouser',\n",
              " 'Pullover',\n",
              " 'Dress',\n",
              " 'Coat',\n",
              " 'Sandal',\n",
              " 'Shirt',\n",
              " 'Sneaker',\n",
              " 'Bag',\n",
              " 'Ankle boot']"
            ]
          },
          "metadata": {},
          "execution_count": 16
        }
      ]
    },
    {
      "cell_type": "code",
      "source": [
        "test_data[0], test_data_norm[0]"
      ],
      "metadata": {
        "colab": {
          "base_uri": "https://localhost:8080/"
        },
        "id": "lznO2zFmNmX8",
        "outputId": "d0566d21-f5eb-4423-e965-81b463901308"
      },
      "execution_count": null,
      "outputs": [
        {
          "output_type": "execute_result",
          "data": {
            "text/plain": [
              "(array([[  0,   0,   0,   0,   0,   0,   0,   0,   0,   0,   0,   0,   0,\n",
              "           0,   0,   0,   0,   0,   0,   0,   0,   0,   0,   0,   0,   0,\n",
              "           0,   0],\n",
              "        [  0,   0,   0,   0,   0,   0,   0,   0,   0,   0,   0,   0,   0,\n",
              "           0,   0,   0,   0,   0,   0,   0,   0,   0,   0,   0,   0,   0,\n",
              "           0,   0],\n",
              "        [  0,   0,   0,   0,   0,   0,   0,   0,   0,   0,   0,   0,   0,\n",
              "           0,   0,   0,   0,   0,   0,   0,   0,   0,   0,   0,   0,   0,\n",
              "           0,   0],\n",
              "        [  0,   0,   0,   0,   0,   0,   0,   0,   0,   0,   0,   0,   0,\n",
              "           0,   0,   0,   0,   0,   0,   0,   0,   0,   0,   0,   0,   0,\n",
              "           0,   0],\n",
              "        [  0,   0,   0,   0,   0,   0,   0,   0,   0,   0,   0,   0,   0,\n",
              "           0,   0,   0,   0,   0,   0,   0,   0,   0,   0,   0,   0,   0,\n",
              "           0,   0],\n",
              "        [  0,   0,   0,   0,   0,   0,   0,   0,   0,   0,   0,   0,   0,\n",
              "           0,   0,   0,   0,   0,   0,   0,   0,   0,   0,   0,   0,   0,\n",
              "           0,   0],\n",
              "        [  0,   0,   0,   0,   0,   0,   0,   0,   0,   0,   0,   0,   0,\n",
              "           0,   0,   0,   0,   0,   0,   0,   0,   0,   0,   0,   0,   0,\n",
              "           0,   0],\n",
              "        [  0,   0,   0,   0,   0,   0,   0,   0,   0,   0,   0,   0,   0,\n",
              "           0,   0,   0,   0,   0,   0,   3,   1,   0,   0,   7,   0,  37,\n",
              "           0,   0],\n",
              "        [  0,   0,   0,   0,   0,   0,   0,   0,   0,   0,   0,   0,   0,\n",
              "           1,   2,   0,  27,  84,  11,   0,   0,   0,   0,   0,   0, 119,\n",
              "           0,   0],\n",
              "        [  0,   0,   0,   0,   0,   0,   0,   0,   0,   0,   0,   0,   0,\n",
              "           1,   0,   0,  88, 143, 110,   0,   0,   0,   0,  22,  93, 106,\n",
              "           0,   0],\n",
              "        [  0,   0,   0,   0,   0,   0,   0,   0,   0,   0,   0,   0,   0,\n",
              "           4,   0,  53, 129, 120, 147, 175, 157, 166, 135, 154, 168, 140,\n",
              "           0,   0],\n",
              "        [  0,   0,   0,   0,   0,   0,   0,   0,   0,   0,   0,   0,   2,\n",
              "           0,  11, 137, 130, 128, 160, 176, 159, 167, 178, 149, 151, 144,\n",
              "           0,   0],\n",
              "        [  0,   0,   0,   0,   0,   0,   1,   0,   2,   1,   0,   3,   0,\n",
              "           0, 115, 114, 106, 137, 168, 153, 156, 165, 167, 143, 157, 158,\n",
              "          11,   0],\n",
              "        [  0,   0,   0,   0,   1,   0,   0,   0,   0,   0,   3,   0,   0,\n",
              "          89, 139,  90,  94, 153, 149, 131, 151, 169, 172, 143, 159, 169,\n",
              "          48,   0],\n",
              "        [  0,   0,   0,   0,   0,   0,   2,   4,   1,   0,   0,   0,  98,\n",
              "         136, 110, 109, 110, 162, 135, 144, 149, 159, 167, 144, 158, 169,\n",
              "         119,   0],\n",
              "        [  0,   0,   2,   2,   1,   2,   0,   0,   0,   0,  26, 108, 117,\n",
              "          99, 111, 117, 136, 156, 134, 154, 154, 156, 160, 141, 147, 156,\n",
              "         178,   0],\n",
              "        [  3,   0,   0,   0,   0,   0,   0,  21,  53,  92, 117, 111, 103,\n",
              "         115, 129, 134, 143, 154, 165, 170, 154, 151, 154, 143, 138, 150,\n",
              "         165,  43],\n",
              "        [  0,   0,  23,  54,  65,  76,  85, 118, 128, 123, 111, 113, 118,\n",
              "         127, 125, 139, 133, 136, 160, 140, 155, 161, 144, 155, 172, 161,\n",
              "         189,  62],\n",
              "        [  0,  68,  94,  90, 111, 114, 111, 114, 115, 127, 135, 136, 143,\n",
              "         126, 127, 151, 154, 143, 148, 125, 162, 162, 144, 138, 153, 162,\n",
              "         196,  58],\n",
              "        [ 70, 169, 129, 104,  98, 100,  94,  97,  98, 102, 108, 106, 119,\n",
              "         120, 129, 149, 156, 167, 190, 190, 196, 198, 198, 187, 197, 189,\n",
              "         184,  36],\n",
              "        [ 16, 126, 171, 188, 188, 184, 171, 153, 135, 120, 126, 127, 146,\n",
              "         185, 195, 209, 208, 255, 209, 177, 245, 252, 251, 251, 247, 220,\n",
              "         206,  49],\n",
              "        [  0,   0,   0,  12,  67, 106, 164, 185, 199, 210, 211, 210, 208,\n",
              "         190, 150,  82,   8,   0,   0,   0, 178, 208, 188, 175, 162, 158,\n",
              "         151,  11],\n",
              "        [  0,   0,   0,   0,   0,   0,   0,   0,   0,   0,   0,   0,   0,\n",
              "           0,   0,   0,   0,   0,   0,   0,   0,   0,   0,   0,   0,   0,\n",
              "           0,   0],\n",
              "        [  0,   0,   0,   0,   0,   0,   0,   0,   0,   0,   0,   0,   0,\n",
              "           0,   0,   0,   0,   0,   0,   0,   0,   0,   0,   0,   0,   0,\n",
              "           0,   0],\n",
              "        [  0,   0,   0,   0,   0,   0,   0,   0,   0,   0,   0,   0,   0,\n",
              "           0,   0,   0,   0,   0,   0,   0,   0,   0,   0,   0,   0,   0,\n",
              "           0,   0],\n",
              "        [  0,   0,   0,   0,   0,   0,   0,   0,   0,   0,   0,   0,   0,\n",
              "           0,   0,   0,   0,   0,   0,   0,   0,   0,   0,   0,   0,   0,\n",
              "           0,   0],\n",
              "        [  0,   0,   0,   0,   0,   0,   0,   0,   0,   0,   0,   0,   0,\n",
              "           0,   0,   0,   0,   0,   0,   0,   0,   0,   0,   0,   0,   0,\n",
              "           0,   0],\n",
              "        [  0,   0,   0,   0,   0,   0,   0,   0,   0,   0,   0,   0,   0,\n",
              "           0,   0,   0,   0,   0,   0,   0,   0,   0,   0,   0,   0,   0,\n",
              "           0,   0]], dtype=uint8),\n",
              " array([[0.        , 0.        , 0.        , 0.        , 0.        ,\n",
              "         0.        , 0.        , 0.        , 0.        , 0.        ,\n",
              "         0.        , 0.        , 0.        , 0.        , 0.        ,\n",
              "         0.        , 0.        , 0.        , 0.        , 0.        ,\n",
              "         0.        , 0.        , 0.        , 0.        , 0.        ,\n",
              "         0.        , 0.        , 0.        ],\n",
              "        [0.        , 0.        , 0.        , 0.        , 0.        ,\n",
              "         0.        , 0.        , 0.        , 0.        , 0.        ,\n",
              "         0.        , 0.        , 0.        , 0.        , 0.        ,\n",
              "         0.        , 0.        , 0.        , 0.        , 0.        ,\n",
              "         0.        , 0.        , 0.        , 0.        , 0.        ,\n",
              "         0.        , 0.        , 0.        ],\n",
              "        [0.        , 0.        , 0.        , 0.        , 0.        ,\n",
              "         0.        , 0.        , 0.        , 0.        , 0.        ,\n",
              "         0.        , 0.        , 0.        , 0.        , 0.        ,\n",
              "         0.        , 0.        , 0.        , 0.        , 0.        ,\n",
              "         0.        , 0.        , 0.        , 0.        , 0.        ,\n",
              "         0.        , 0.        , 0.        ],\n",
              "        [0.        , 0.        , 0.        , 0.        , 0.        ,\n",
              "         0.        , 0.        , 0.        , 0.        , 0.        ,\n",
              "         0.        , 0.        , 0.        , 0.        , 0.        ,\n",
              "         0.        , 0.        , 0.        , 0.        , 0.        ,\n",
              "         0.        , 0.        , 0.        , 0.        , 0.        ,\n",
              "         0.        , 0.        , 0.        ],\n",
              "        [0.        , 0.        , 0.        , 0.        , 0.        ,\n",
              "         0.        , 0.        , 0.        , 0.        , 0.        ,\n",
              "         0.        , 0.        , 0.        , 0.        , 0.        ,\n",
              "         0.        , 0.        , 0.        , 0.        , 0.        ,\n",
              "         0.        , 0.        , 0.        , 0.        , 0.        ,\n",
              "         0.        , 0.        , 0.        ],\n",
              "        [0.        , 0.        , 0.        , 0.        , 0.        ,\n",
              "         0.        , 0.        , 0.        , 0.        , 0.        ,\n",
              "         0.        , 0.        , 0.        , 0.        , 0.        ,\n",
              "         0.        , 0.        , 0.        , 0.        , 0.        ,\n",
              "         0.        , 0.        , 0.        , 0.        , 0.        ,\n",
              "         0.        , 0.        , 0.        ],\n",
              "        [0.        , 0.        , 0.        , 0.        , 0.        ,\n",
              "         0.        , 0.        , 0.        , 0.        , 0.        ,\n",
              "         0.        , 0.        , 0.        , 0.        , 0.        ,\n",
              "         0.        , 0.        , 0.        , 0.        , 0.        ,\n",
              "         0.        , 0.        , 0.        , 0.        , 0.        ,\n",
              "         0.        , 0.        , 0.        ],\n",
              "        [0.        , 0.        , 0.        , 0.        , 0.        ,\n",
              "         0.        , 0.        , 0.        , 0.        , 0.        ,\n",
              "         0.        , 0.        , 0.        , 0.        , 0.        ,\n",
              "         0.        , 0.        , 0.        , 0.        , 0.01176471,\n",
              "         0.00392157, 0.        , 0.        , 0.02745098, 0.        ,\n",
              "         0.14509804, 0.        , 0.        ],\n",
              "        [0.        , 0.        , 0.        , 0.        , 0.        ,\n",
              "         0.        , 0.        , 0.        , 0.        , 0.        ,\n",
              "         0.        , 0.        , 0.        , 0.00392157, 0.00784314,\n",
              "         0.        , 0.10588235, 0.32941176, 0.04313725, 0.        ,\n",
              "         0.        , 0.        , 0.        , 0.        , 0.        ,\n",
              "         0.46666667, 0.        , 0.        ],\n",
              "        [0.        , 0.        , 0.        , 0.        , 0.        ,\n",
              "         0.        , 0.        , 0.        , 0.        , 0.        ,\n",
              "         0.        , 0.        , 0.        , 0.00392157, 0.        ,\n",
              "         0.        , 0.34509804, 0.56078431, 0.43137255, 0.        ,\n",
              "         0.        , 0.        , 0.        , 0.08627451, 0.36470588,\n",
              "         0.41568627, 0.        , 0.        ],\n",
              "        [0.        , 0.        , 0.        , 0.        , 0.        ,\n",
              "         0.        , 0.        , 0.        , 0.        , 0.        ,\n",
              "         0.        , 0.        , 0.        , 0.01568627, 0.        ,\n",
              "         0.20784314, 0.50588235, 0.47058824, 0.57647059, 0.68627451,\n",
              "         0.61568627, 0.65098039, 0.52941176, 0.60392157, 0.65882353,\n",
              "         0.54901961, 0.        , 0.        ],\n",
              "        [0.        , 0.        , 0.        , 0.        , 0.        ,\n",
              "         0.        , 0.        , 0.        , 0.        , 0.        ,\n",
              "         0.        , 0.        , 0.00784314, 0.        , 0.04313725,\n",
              "         0.5372549 , 0.50980392, 0.50196078, 0.62745098, 0.69019608,\n",
              "         0.62352941, 0.65490196, 0.69803922, 0.58431373, 0.59215686,\n",
              "         0.56470588, 0.        , 0.        ],\n",
              "        [0.        , 0.        , 0.        , 0.        , 0.        ,\n",
              "         0.        , 0.00392157, 0.        , 0.00784314, 0.00392157,\n",
              "         0.        , 0.01176471, 0.        , 0.        , 0.45098039,\n",
              "         0.44705882, 0.41568627, 0.5372549 , 0.65882353, 0.6       ,\n",
              "         0.61176471, 0.64705882, 0.65490196, 0.56078431, 0.61568627,\n",
              "         0.61960784, 0.04313725, 0.        ],\n",
              "        [0.        , 0.        , 0.        , 0.        , 0.00392157,\n",
              "         0.        , 0.        , 0.        , 0.        , 0.        ,\n",
              "         0.01176471, 0.        , 0.        , 0.34901961, 0.54509804,\n",
              "         0.35294118, 0.36862745, 0.6       , 0.58431373, 0.51372549,\n",
              "         0.59215686, 0.6627451 , 0.6745098 , 0.56078431, 0.62352941,\n",
              "         0.6627451 , 0.18823529, 0.        ],\n",
              "        [0.        , 0.        , 0.        , 0.        , 0.        ,\n",
              "         0.        , 0.00784314, 0.01568627, 0.00392157, 0.        ,\n",
              "         0.        , 0.        , 0.38431373, 0.53333333, 0.43137255,\n",
              "         0.42745098, 0.43137255, 0.63529412, 0.52941176, 0.56470588,\n",
              "         0.58431373, 0.62352941, 0.65490196, 0.56470588, 0.61960784,\n",
              "         0.6627451 , 0.46666667, 0.        ],\n",
              "        [0.        , 0.        , 0.00784314, 0.00784314, 0.00392157,\n",
              "         0.00784314, 0.        , 0.        , 0.        , 0.        ,\n",
              "         0.10196078, 0.42352941, 0.45882353, 0.38823529, 0.43529412,\n",
              "         0.45882353, 0.53333333, 0.61176471, 0.5254902 , 0.60392157,\n",
              "         0.60392157, 0.61176471, 0.62745098, 0.55294118, 0.57647059,\n",
              "         0.61176471, 0.69803922, 0.        ],\n",
              "        [0.01176471, 0.        , 0.        , 0.        , 0.        ,\n",
              "         0.        , 0.        , 0.08235294, 0.20784314, 0.36078431,\n",
              "         0.45882353, 0.43529412, 0.40392157, 0.45098039, 0.50588235,\n",
              "         0.5254902 , 0.56078431, 0.60392157, 0.64705882, 0.66666667,\n",
              "         0.60392157, 0.59215686, 0.60392157, 0.56078431, 0.54117647,\n",
              "         0.58823529, 0.64705882, 0.16862745],\n",
              "        [0.        , 0.        , 0.09019608, 0.21176471, 0.25490196,\n",
              "         0.29803922, 0.33333333, 0.4627451 , 0.50196078, 0.48235294,\n",
              "         0.43529412, 0.44313725, 0.4627451 , 0.49803922, 0.49019608,\n",
              "         0.54509804, 0.52156863, 0.53333333, 0.62745098, 0.54901961,\n",
              "         0.60784314, 0.63137255, 0.56470588, 0.60784314, 0.6745098 ,\n",
              "         0.63137255, 0.74117647, 0.24313725],\n",
              "        [0.        , 0.26666667, 0.36862745, 0.35294118, 0.43529412,\n",
              "         0.44705882, 0.43529412, 0.44705882, 0.45098039, 0.49803922,\n",
              "         0.52941176, 0.53333333, 0.56078431, 0.49411765, 0.49803922,\n",
              "         0.59215686, 0.60392157, 0.56078431, 0.58039216, 0.49019608,\n",
              "         0.63529412, 0.63529412, 0.56470588, 0.54117647, 0.6       ,\n",
              "         0.63529412, 0.76862745, 0.22745098],\n",
              "        [0.2745098 , 0.6627451 , 0.50588235, 0.40784314, 0.38431373,\n",
              "         0.39215686, 0.36862745, 0.38039216, 0.38431373, 0.4       ,\n",
              "         0.42352941, 0.41568627, 0.46666667, 0.47058824, 0.50588235,\n",
              "         0.58431373, 0.61176471, 0.65490196, 0.74509804, 0.74509804,\n",
              "         0.76862745, 0.77647059, 0.77647059, 0.73333333, 0.77254902,\n",
              "         0.74117647, 0.72156863, 0.14117647],\n",
              "        [0.0627451 , 0.49411765, 0.67058824, 0.7372549 , 0.7372549 ,\n",
              "         0.72156863, 0.67058824, 0.6       , 0.52941176, 0.47058824,\n",
              "         0.49411765, 0.49803922, 0.57254902, 0.7254902 , 0.76470588,\n",
              "         0.81960784, 0.81568627, 1.        , 0.81960784, 0.69411765,\n",
              "         0.96078431, 0.98823529, 0.98431373, 0.98431373, 0.96862745,\n",
              "         0.8627451 , 0.80784314, 0.19215686],\n",
              "        [0.        , 0.        , 0.        , 0.04705882, 0.2627451 ,\n",
              "         0.41568627, 0.64313725, 0.7254902 , 0.78039216, 0.82352941,\n",
              "         0.82745098, 0.82352941, 0.81568627, 0.74509804, 0.58823529,\n",
              "         0.32156863, 0.03137255, 0.        , 0.        , 0.        ,\n",
              "         0.69803922, 0.81568627, 0.7372549 , 0.68627451, 0.63529412,\n",
              "         0.61960784, 0.59215686, 0.04313725],\n",
              "        [0.        , 0.        , 0.        , 0.        , 0.        ,\n",
              "         0.        , 0.        , 0.        , 0.        , 0.        ,\n",
              "         0.        , 0.        , 0.        , 0.        , 0.        ,\n",
              "         0.        , 0.        , 0.        , 0.        , 0.        ,\n",
              "         0.        , 0.        , 0.        , 0.        , 0.        ,\n",
              "         0.        , 0.        , 0.        ],\n",
              "        [0.        , 0.        , 0.        , 0.        , 0.        ,\n",
              "         0.        , 0.        , 0.        , 0.        , 0.        ,\n",
              "         0.        , 0.        , 0.        , 0.        , 0.        ,\n",
              "         0.        , 0.        , 0.        , 0.        , 0.        ,\n",
              "         0.        , 0.        , 0.        , 0.        , 0.        ,\n",
              "         0.        , 0.        , 0.        ],\n",
              "        [0.        , 0.        , 0.        , 0.        , 0.        ,\n",
              "         0.        , 0.        , 0.        , 0.        , 0.        ,\n",
              "         0.        , 0.        , 0.        , 0.        , 0.        ,\n",
              "         0.        , 0.        , 0.        , 0.        , 0.        ,\n",
              "         0.        , 0.        , 0.        , 0.        , 0.        ,\n",
              "         0.        , 0.        , 0.        ],\n",
              "        [0.        , 0.        , 0.        , 0.        , 0.        ,\n",
              "         0.        , 0.        , 0.        , 0.        , 0.        ,\n",
              "         0.        , 0.        , 0.        , 0.        , 0.        ,\n",
              "         0.        , 0.        , 0.        , 0.        , 0.        ,\n",
              "         0.        , 0.        , 0.        , 0.        , 0.        ,\n",
              "         0.        , 0.        , 0.        ],\n",
              "        [0.        , 0.        , 0.        , 0.        , 0.        ,\n",
              "         0.        , 0.        , 0.        , 0.        , 0.        ,\n",
              "         0.        , 0.        , 0.        , 0.        , 0.        ,\n",
              "         0.        , 0.        , 0.        , 0.        , 0.        ,\n",
              "         0.        , 0.        , 0.        , 0.        , 0.        ,\n",
              "         0.        , 0.        , 0.        ],\n",
              "        [0.        , 0.        , 0.        , 0.        , 0.        ,\n",
              "         0.        , 0.        , 0.        , 0.        , 0.        ,\n",
              "         0.        , 0.        , 0.        , 0.        , 0.        ,\n",
              "         0.        , 0.        , 0.        , 0.        , 0.        ,\n",
              "         0.        , 0.        , 0.        , 0.        , 0.        ,\n",
              "         0.        , 0.        , 0.        ]]))"
            ]
          },
          "metadata": {},
          "execution_count": 17
        }
      ]
    },
    {
      "cell_type": "markdown",
      "source": [
        "**Note:** Remember to make predictions on the same kind of data your model was trained on (e.g. if your model was trained on normalized data, you want to make predictions on normalized data)"
      ],
      "metadata": {
        "id": "WDZQsb3nOOiL"
      }
    },
    {
      "cell_type": "code",
      "source": [
        "# Make some predictions with our mode\n",
        "y_probs = model_2.predict(test_data_norm) # prediction probabilities\n",
        "\n",
        "y_probs[:5]"
      ],
      "metadata": {
        "colab": {
          "base_uri": "https://localhost:8080/"
        },
        "id": "tVzotVBeUwCj",
        "outputId": "05f40e60-8128-445a-cc89-291769e84a35"
      },
      "execution_count": null,
      "outputs": [
        {
          "output_type": "execute_result",
          "data": {
            "text/plain": [
              "array([[6.91001187e-05, 3.90079413e-06, 2.96180697e-05, 2.97396073e-05,\n",
              "        2.39154696e-03, 1.92556292e-01, 7.11947680e-04, 2.02278972e-01,\n",
              "        4.74303448e-07, 9.95369554e-01],\n",
              "       [2.07465053e-01, 4.81917395e-09, 9.99994218e-01, 4.37046737e-07,\n",
              "        9.88696814e-01, 8.90566199e-08, 5.21699905e-01, 9.72707158e-13,\n",
              "        8.41068584e-08, 3.11415088e-10],\n",
              "       [1.01376318e-05, 1.00000000e+00, 5.50445843e-12, 4.05511260e-03,\n",
              "        4.42892549e-08, 1.03222760e-15, 1.39160534e-07, 2.73975042e-28,\n",
              "        1.63353470e-10, 8.76074742e-21],\n",
              "       [3.10625842e-06, 1.00000000e+00, 3.56077635e-13, 5.60815990e-01,\n",
              "        8.27817015e-09, 2.60645887e-15, 8.58291685e-07, 1.03659337e-27,\n",
              "        3.06921127e-10, 3.11259663e-20],\n",
              "       [9.93136406e-01, 6.60835608e-10, 8.50953996e-01, 3.52352858e-04,\n",
              "        2.21025437e-01, 3.14123964e-14, 9.99678195e-01, 3.07322003e-16,\n",
              "        1.03031975e-11, 1.68521555e-13]], dtype=float32)"
            ]
          },
          "metadata": {},
          "execution_count": 18
        }
      ]
    },
    {
      "cell_type": "code",
      "source": [
        "y_probs[0], tf.argmax(y_probs[0]), class_names[tf.argmax(y_probs[0])]"
      ],
      "metadata": {
        "colab": {
          "base_uri": "https://localhost:8080/"
        },
        "id": "18sVDEVOUrLV",
        "outputId": "c76be512-5d1c-4173-9ba1-9cf73444ca36"
      },
      "execution_count": null,
      "outputs": [
        {
          "output_type": "execute_result",
          "data": {
            "text/plain": [
              "(array([6.9100119e-05, 3.9007941e-06, 2.9618070e-05, 2.9739607e-05,\n",
              "        2.3915470e-03, 1.9255629e-01, 7.1194768e-04, 2.0227897e-01,\n",
              "        4.7430345e-07, 9.9536955e-01], dtype=float32),\n",
              " <tf.Tensor: shape=(), dtype=int64, numpy=9>,\n",
              " 'Ankle boot')"
            ]
          },
          "metadata": {},
          "execution_count": 19
        }
      ]
    },
    {
      "cell_type": "code",
      "source": [
        "# Convert all of the prediction probabilities into integers\n",
        "y_preds = y_probs.argmax(axis =1)\n",
        "\n",
        "# View the first 10 prediction labels\n",
        "y_preds[:10]"
      ],
      "metadata": {
        "id": "Wx1VgxH4RtTl",
        "colab": {
          "base_uri": "https://localhost:8080/"
        },
        "outputId": "8aad532a-1efe-4c2a-c232-c14d193492bb"
      },
      "execution_count": null,
      "outputs": [
        {
          "output_type": "execute_result",
          "data": {
            "text/plain": [
              "array([9, 2, 1, 1, 6, 1, 4, 6, 5, 7])"
            ]
          },
          "metadata": {},
          "execution_count": 20
        }
      ]
    },
    {
      "cell_type": "code",
      "source": [
        "test_labels"
      ],
      "metadata": {
        "id": "DoU6exStQ23B",
        "colab": {
          "base_uri": "https://localhost:8080/"
        },
        "outputId": "e59f2076-093b-46a4-b958-e648f6434bd7"
      },
      "execution_count": null,
      "outputs": [
        {
          "output_type": "execute_result",
          "data": {
            "text/plain": [
              "array([9, 2, 1, ..., 8, 1, 5], dtype=uint8)"
            ]
          },
          "metadata": {},
          "execution_count": 21
        }
      ]
    },
    {
      "cell_type": "code",
      "source": [
        "from sklearn.metrics import confusion_matrix\n",
        "confusion_matrix(y_true = test_labels,\n",
        "                 y_pred = y_preds)"
      ],
      "metadata": {
        "id": "iDfuuFMxSsZs",
        "colab": {
          "base_uri": "https://localhost:8080/"
        },
        "outputId": "3180868b-9834-4968-c319-dfc522dda3c7"
      },
      "execution_count": null,
      "outputs": [
        {
          "output_type": "execute_result",
          "data": {
            "text/plain": [
              "array([[828,   2,  10,  22,   6,   1, 125,   0,   6,   0],\n",
              "       [  1, 982,   1,   9,   4,   0,   3,   0,   0,   0],\n",
              "       [ 14,   1, 775,   7, 131,   0,  72,   0,   0,   0],\n",
              "       [ 15,   4,   7, 893,  52,   0,  25,   0,   4,   0],\n",
              "       [  0,   0,  58,  17, 888,   0,  37,   0,   0,   0],\n",
              "       [  0,   0,   0,   1,   0, 966,   0,  14,   0,  19],\n",
              "       [ 96,   2,  70,  22,  93,   0, 712,   0,   5,   0],\n",
              "       [  0,   0,   0,   1,   0,  39,   0, 951,   1,   8],\n",
              "       [  4,   0,   4,   1,  12,   3,   6,   1, 969,   0],\n",
              "       [  1,   0,   1,   1,   0,  10,   0,  79,   1, 907]])"
            ]
          },
          "metadata": {},
          "execution_count": 22
        }
      ]
    },
    {
      "cell_type": "code",
      "source": [
        "import seaborn as sns"
      ],
      "metadata": {
        "id": "LDOPyXWZPUWS"
      },
      "execution_count": null,
      "outputs": []
    },
    {
      "cell_type": "code",
      "source": [
        "class_names"
      ],
      "metadata": {
        "colab": {
          "base_uri": "https://localhost:8080/"
        },
        "id": "l_2J2REdPfLz",
        "outputId": "c65c586e-8381-4965-e737-7d5afd3ba06e"
      },
      "execution_count": null,
      "outputs": [
        {
          "output_type": "execute_result",
          "data": {
            "text/plain": [
              "['T-shirt/top',\n",
              " 'Trouser',\n",
              " 'Pullover',\n",
              " 'Dress',\n",
              " 'Coat',\n",
              " 'Sandal',\n",
              " 'Shirt',\n",
              " 'Sneaker',\n",
              " 'Bag',\n",
              " 'Ankle boot']"
            ]
          },
          "metadata": {},
          "execution_count": 24
        }
      ]
    },
    {
      "cell_type": "code",
      "source": [
        "cm = confusion_matrix(y_true = test_labels,y_pred=y_preds)\n",
        "plt.figure(figsize=(15,15))\n",
        "sns.heatmap(cm/len(class_names),annot=True,cbar=False,fmt='.2f',cmap='Accent_r')"
      ],
      "metadata": {
        "colab": {
          "base_uri": "https://localhost:8080/",
          "height": 881
        },
        "id": "vm1Be7vUPLBd",
        "outputId": "895f202b-fa07-487f-862c-71e06a43968e"
      },
      "execution_count": null,
      "outputs": [
        {
          "output_type": "execute_result",
          "data": {
            "text/plain": [
              "<matplotlib.axes._subplots.AxesSubplot at 0x7f53e3817990>"
            ]
          },
          "metadata": {},
          "execution_count": 25
        },
        {
          "output_type": "display_data",
          "data": {
            "text/plain": [
              "<Figure size 1080x1080 with 1 Axes>"
            ],
            "image/png": "[encoded data removed]"
          },
          "metadata": {
            "needs_background": "light"
          }
        }
      ]
    },
    {
      "cell_type": "markdown",
      "source": [
        "**Note:** Often when working with images and other forms of visual data, it's a good idea to visualize as much as possible to develop a further understanding of the data and the inputs and outputs of your model\n",
        "\n",
        "* plot a random image\n",
        "* Make a prediction on said image\n",
        "* Label the plot with truth label & predicted label"
      ],
      "metadata": {
        "id": "OTCalmhOQGn1"
      }
    },
    {
      "cell_type": "code",
      "source": [
        "import random\n",
        "\n",
        "# Create a function for plotting a random image along with its prediction\n",
        "def plot_random_image(model, images, true_labels, classes):\n",
        "  \"\"\"Picks a random image, plots it and labels it with a predicted and truth label.\n",
        "\n",
        "  Args:\n",
        "    model: a trained model (trained on data similar to what's in images).\n",
        "    images: a set of random images (in tensor form).\n",
        "    true_labels: array of ground truth labels for images.\n",
        "    classes: array of class names for images.\n",
        "  \n",
        "  Returns:\n",
        "    A plot of a random image from `images` with a predicted class label from `model`\n",
        "    as well as the truth class label from `true_labels`.\n",
        "  \"\"\" \n",
        "  # Setup random integer\n",
        "  i = random.randint(0, len(images))\n",
        "  \n",
        "  # Create predictions and targets\n",
        "  target_image = images[i]\n",
        "  pred_probs = model.predict(target_image.reshape(1, 28, 28)) # have to reshape to get into right size for model\n",
        "  pred_label = classes[pred_probs.argmax()]\n",
        "  true_label = classes[true_labels[i]]\n",
        "\n",
        "  # Plot the target image\n",
        "  plt.imshow(target_image, cmap=plt.cm.binary)\n",
        "\n",
        "  # Change the color of the titles depending on if the prediction is right or wrong\n",
        "  if pred_label == true_label:\n",
        "    color = \"green\"\n",
        "  else:\n",
        "    color = \"red\"\n",
        "\n",
        "  # Add xlabel information (prediction/true label)\n",
        "  plt.xlabel(\"Pred: {} {:2.0f}% (True: {})\".format(pred_label,\n",
        "                                                   100*tf.reduce_max(pred_probs),\n",
        "                                                   true_label),\n",
        "             color=color) # set the color to green or red\n",
        "\n",
        "\n",
        "\n",
        "\n"
      ],
      "metadata": {
        "id": "46dlxX3NPWIn"
      },
      "execution_count": null,
      "outputs": []
    },
    {
      "cell_type": "code",
      "source": [
        "# Check out a random image as well as its prediction\n",
        "plot_random_image(model=model_2, \n",
        "                  images=test_data, \n",
        "                  true_labels=test_labels, \n",
        "                  classes=class_names)"
      ],
      "metadata": {
        "colab": {
          "base_uri": "https://localhost:8080/",
          "height": 279
        },
        "id": "aP_Hw-d2RbKD",
        "outputId": "13fd1be6-0381-42d4-bd2d-d52bf6356655"
      },
      "execution_count": null,
      "outputs": [
        {
          "output_type": "display_data",
          "data": {
            "text/plain": [
              "<Figure size 432x288 with 1 Axes>"
            ],
            "image/png": "[encoded data removed]"
          },
          "metadata": {
            "needs_background": "light"
          }
        }
      ]
    },
    {
      "cell_type": "markdown",
      "source": [
        "## What patterns is our model learning?"
      ],
      "metadata": {
        "id": "BNSNNSXgHX-M"
      }
    },
    {
      "cell_type": "code",
      "source": [
        "# Find the layers of our most recent model\n",
        "model_2.layers"
      ],
      "metadata": {
        "colab": {
          "base_uri": "https://localhost:8080/"
        },
        "id": "NTou6EWaSYQe",
        "outputId": "bd935322-8a9e-4844-8199-65c5be0d60da"
      },
      "execution_count": null,
      "outputs": [
        {
          "output_type": "execute_result",
          "data": {
            "text/plain": [
              "[<keras.layers.core.flatten.Flatten at 0x7f53e190ca90>,\n",
              " <keras.layers.core.dense.Dense at 0x7f53e38894d0>,\n",
              " <keras.layers.core.dense.Dense at 0x7f53e36b8250>,\n",
              " <keras.layers.core.dense.Dense at 0x7f53e37d7150>]"
            ]
          },
          "metadata": {},
          "execution_count": 28
        }
      ]
    },
    {
      "cell_type": "code",
      "source": [
        "# Extract a particular layers\n",
        "model_2.layers[1]"
      ],
      "metadata": {
        "colab": {
          "base_uri": "https://localhost:8080/"
        },
        "id": "m_GcPSFVHirC",
        "outputId": "737d6839-f4ea-475c-fbdc-d3850250eb82"
      },
      "execution_count": null,
      "outputs": [
        {
          "output_type": "execute_result",
          "data": {
            "text/plain": [
              "<keras.layers.core.dense.Dense at 0x7f53e38894d0>"
            ]
          },
          "metadata": {},
          "execution_count": 30
        }
      ]
    },
    {
      "cell_type": "code",
      "source": [
        "# Get the patterns of a layer in our network\n",
        "weights, biases = model_2.layers[1].get_weights()\n",
        "\n",
        "# Shapes\n",
        "weights, weights.shape"
      ],
      "metadata": {
        "colab": {
          "base_uri": "https://localhost:8080/"
        },
        "id": "Zu04D8dKIw3k",
        "outputId": "83aba44b-d1b5-4aa0-b83d-7ea03e85f304"
      },
      "execution_count": null,
      "outputs": [
        {
          "output_type": "execute_result",
          "data": {
            "text/plain": [
              "(array([[ 1.3735651e-02, -5.5617895e-02,  3.4672230e-02, ...,\n",
              "         -1.0573998e-02, -2.7622813e-01,  1.8030779e-01],\n",
              "        [-5.1692586e-02, -1.4827408e-02,  1.1026428e-01, ...,\n",
              "          2.0139857e-01, -2.1906467e-01,  4.1712171e-01],\n",
              "        [-3.2609656e-02, -2.9528341e-01,  9.8754704e-02, ...,\n",
              "          2.1998255e-01, -1.2110328e-01, -1.1992492e-01],\n",
              "        ...,\n",
              "        [ 1.5029107e-01, -6.4634204e-01,  1.5647873e-01, ...,\n",
              "          7.4168637e-02, -9.0834558e-02,  2.3298357e-01],\n",
              "        [-3.8621999e-02,  6.4346865e-02, -1.3832015e-01, ...,\n",
              "          1.2737083e-01, -9.3191452e-02,  3.8834751e-01],\n",
              "        [ 2.8987657e-04, -2.0032384e-01,  4.2470988e-02, ...,\n",
              "         -4.2389121e-02, -2.3323387e-01,  7.9737037e-01]], dtype=float32),\n",
              " (784, 300))"
            ]
          },
          "metadata": {},
          "execution_count": 29
        }
      ]
    },
    {
      "cell_type": "code",
      "source": [
        "28*28"
      ],
      "metadata": {
        "colab": {
          "base_uri": "https://localhost:8080/"
        },
        "id": "BoTKcjCAJKpk",
        "outputId": "e9b0c184-778f-4495-f9a8-bc2f42ec927a"
      },
      "execution_count": null,
      "outputs": [
        {
          "output_type": "execute_result",
          "data": {
            "text/plain": [
              "784"
            ]
          },
          "metadata": {},
          "execution_count": 31
        }
      ]
    },
    {
      "cell_type": "code",
      "source": [
        "model_2.summary()"
      ],
      "metadata": {
        "colab": {
          "base_uri": "https://localhost:8080/"
        },
        "id": "Pp5MOewFJMP3",
        "outputId": "7b483353-a626-4bfd-8000-aab3ca6af085"
      },
      "execution_count": null,
      "outputs": [
        {
          "output_type": "stream",
          "name": "stdout",
          "text": [
            "Model: \"sequential_1\"\n",
            "_________________________________________________________________\n",
            " Layer (type)                Output Shape              Param #   \n",
            "=================================================================\n",
            " flatten_1 (Flatten)         (None, 784)               0         \n",
            "                                                                 \n",
            " dense_4 (Dense)             (None, 300)               235500    \n",
            "                                                                 \n",
            " dense_5 (Dense)             (None, 100)               30100     \n",
            "                                                                 \n",
            " dense_6 (Dense)             (None, 10)                1010      \n",
            "                                                                 \n",
            "=================================================================\n",
            "Total params: 266,610\n",
            "Trainable params: 266,610\n",
            "Non-trainable params: 0\n",
            "_________________________________________________________________\n"
          ]
        }
      ]
    },
    {
      "cell_type": "markdown",
      "source": [
        "Let's check the bias vector"
      ],
      "metadata": {
        "id": "kYsTbjOIKifo"
      }
    },
    {
      "cell_type": "code",
      "source": [
        "# Bias and biases shapes\n",
        "biases, biases.shape\n"
      ],
      "metadata": {
        "colab": {
          "base_uri": "https://localhost:8080/"
        },
        "id": "F6i0t4-GJOVj",
        "outputId": "d84cf26d-22c9-4dd0-dadf-9f0ef4a477a6"
      },
      "execution_count": null,
      "outputs": [
        {
          "output_type": "execute_result",
          "data": {
            "text/plain": [
              "(array([ 2.32711241e-01, -3.63418132e-01,  2.22385004e-01, -1.30983097e-02,\n",
              "        -4.09885526e-01,  8.21472798e-03,  8.22735205e-02,  3.50489765e-01,\n",
              "        -2.24745616e-01,  9.32863951e-02,  2.81551510e-01,  1.34812996e-01,\n",
              "         5.80637515e-01, -5.35566390e-01, -2.97746360e-01,  4.49431747e-01,\n",
              "         3.67448753e-04,  1.76125541e-01, -2.08743826e-01,  2.74972260e-01,\n",
              "        -1.74435768e-02,  1.18248813e-01,  1.76448897e-01, -5.85912392e-02,\n",
              "         4.56313342e-01, -1.44106776e-01,  3.38927917e-02,  5.49016714e-01,\n",
              "         5.10814786e-01,  1.72482524e-02, -4.28212769e-02,  5.56761503e-01,\n",
              "        -1.22431032e-01,  3.59160721e-01,  4.74237315e-02,  2.64332712e-01,\n",
              "         2.72575557e-01,  1.46532014e-01,  2.38818169e-01,  1.21581465e-01,\n",
              "         1.29785389e-01,  2.06330374e-01,  3.89858514e-01,  8.72791469e-01,\n",
              "         4.07400757e-01,  2.14567155e-01,  7.23676849e-03,  4.39496696e-01,\n",
              "         1.32395606e-02, -1.56006310e-02, -1.09528497e-01,  3.65789413e-01,\n",
              "         1.99616536e-01, -3.56384963e-02,  1.55930310e-01,  9.59514827e-02,\n",
              "        -2.24358235e-02,  2.86027879e-01,  1.79864690e-01,  4.85862702e-01,\n",
              "         3.81400366e-03,  3.41505222e-02,  4.65049148e-01,  4.44897473e-01,\n",
              "         3.47030163e-01, -2.30666026e-01,  1.59132127e-02,  3.51856798e-01,\n",
              "         9.04158130e-02,  4.43251789e-01,  3.54558289e-01,  4.87988114e-01,\n",
              "        -7.78979361e-02, -3.70463505e-02, -1.30447656e-01,  1.73306674e-01,\n",
              "        -2.77737200e-01, -1.67339191e-01,  4.67777133e-01, -1.50889653e-04,\n",
              "        -6.10862710e-02,  3.78052384e-01,  2.09409773e-01,  1.26806331e+00,\n",
              "         3.65363151e-01,  2.53615201e-01, -3.89841907e-02,  2.22451463e-01,\n",
              "         3.22031155e-02, -2.07902752e-02,  2.48472616e-01,  4.70503390e-01,\n",
              "        -1.40425358e-02,  3.41553986e-01,  5.95151186e-01, -1.43881261e-01,\n",
              "         2.48389661e-01,  5.23251772e-01, -5.12604564e-02,  3.43111813e-01,\n",
              "         2.55385250e-01, -4.32184100e-01,  3.32843602e-01,  5.38549274e-02,\n",
              "         3.63816470e-02,  3.65661830e-01,  1.64025575e-01,  2.45802566e-01,\n",
              "         5.96162379e-01,  1.44749403e-01,  4.67187315e-01,  1.61060676e-01,\n",
              "         2.33807594e-01,  2.17113779e-06,  1.80099025e-01,  3.37980121e-01,\n",
              "         1.30930573e-01,  3.36912870e-01,  5.86809576e-01,  4.21381861e-01,\n",
              "         1.27546743e-01,  5.22053063e-01, -3.34891081e-01,  4.58975911e-01,\n",
              "         2.38811061e-01, -1.02082625e-01, -1.45568907e-01, -1.56107009e-04,\n",
              "         2.78352708e-01,  1.07324041e-01, -1.97780341e-01,  6.25368476e-01,\n",
              "         5.22288561e-01, -2.85583679e-02,  1.68506086e-01, -3.05267163e-02,\n",
              "         6.66106343e-01,  6.49750531e-01, -1.23895407e-02, -1.13612309e-01,\n",
              "        -1.96370203e-02,  2.15316534e-01,  1.49679333e-01, -5.82958877e-01,\n",
              "         5.83756208e-01,  2.51024254e-02, -1.37866996e-02,  2.51456589e-01,\n",
              "        -3.18748690e-02,  2.34896481e-01,  3.56025845e-01,  2.91573614e-01,\n",
              "        -4.71398188e-03,  3.69711523e-03,  8.05387124e-02,  4.17129174e-02,\n",
              "         2.80578524e-01, -1.29500702e-01,  1.95797488e-01, -1.47463884e-02,\n",
              "         4.07438278e-01, -8.43159318e-01,  2.27375448e-01,  3.10672462e-01,\n",
              "        -3.57386053e-01,  2.63756644e-02,  2.34052971e-01,  1.55688405e-01,\n",
              "         8.98866281e-02, -6.93659335e-02, -5.33982515e-01,  2.50462115e-01,\n",
              "        -1.17142005e-02,  1.27199814e-01, -2.30922047e-02,  4.59081471e-01,\n",
              "         3.23483676e-01, -1.09396052e+00,  3.26017946e-01,  2.62161195e-01,\n",
              "         3.89161378e-01,  4.84484583e-01, -4.68038678e-01,  4.03916508e-01,\n",
              "         7.59710073e-01,  5.90407193e-01,  4.54111129e-01,  6.27525896e-02,\n",
              "         3.54219466e-01, -1.75193306e-02,  8.83615986e-02,  2.70526141e-01,\n",
              "         3.65903556e-01, -2.12783851e-02,  3.72846752e-01, -1.07423589e-01,\n",
              "         1.46401480e-01,  1.13590853e-02, -8.83560106e-02,  7.09929764e-02,\n",
              "         1.96657658e-01,  1.42906591e-01, -1.48993745e-01, -1.75028145e-01,\n",
              "         8.73538330e-02,  1.33082882e-01, -3.59038860e-01,  4.93754566e-01,\n",
              "         1.09858356e-01,  1.45655155e-01,  2.62355298e-01, -1.07432995e-02,\n",
              "         5.13841026e-02,  5.87301195e-01,  2.56582201e-02, -4.76463825e-01,\n",
              "        -1.80996373e-01, -1.17505183e-02, -2.90920865e-02,  5.61052084e-01,\n",
              "         2.85002351e-01,  3.41475070e-01,  9.18804631e-02,  2.73855746e-01,\n",
              "        -2.41896376e-01,  4.24748734e-02,  1.53708562e-01, -2.40253106e-01,\n",
              "        -2.17389911e-02, -1.38576731e-01,  7.71345720e-02,  7.61219487e-02,\n",
              "        -3.52660030e-01,  2.89668828e-01,  5.12762927e-02,  1.49269998e-01,\n",
              "         2.53451109e-01, -4.08286810e-01,  3.68152738e-01, -1.02986200e-02,\n",
              "         2.49375496e-02,  1.44747376e-01, -7.08504692e-02, -2.00318813e-01,\n",
              "         3.87512654e-01, -1.89906925e-01, -1.60439402e-01,  2.30917975e-01,\n",
              "         1.56662002e-01,  2.39193454e-01,  6.48594722e-02,  1.29418910e-01,\n",
              "         1.62644774e-01, -2.14615911e-02, -5.61798751e-01,  7.17532262e-02,\n",
              "        -1.23806708e-01, -2.14907471e-02,  2.37464868e-02,  1.09900255e-02,\n",
              "         1.06631234e-01, -1.18697742e-02, -6.38974532e-02,  3.51089574e-02,\n",
              "        -1.01874538e-01,  3.63018721e-01,  3.13758850e-01, -2.16852222e-02,\n",
              "        -1.89573448e-02, -1.89497620e-02,  3.10664475e-01,  4.47538525e-01,\n",
              "        -1.79657508e-02,  4.00489599e-01,  3.41436490e-02,  3.29620212e-01,\n",
              "         3.44054371e-01, -1.04330480e-01, -3.09044309e-03,  1.14854068e-01,\n",
              "         2.62664944e-01,  2.83213347e-01, -4.19811338e-01,  2.65299588e-01,\n",
              "         1.82637379e-01, -8.16365182e-02, -1.60394177e-01,  1.57248870e-01,\n",
              "         3.19082618e-01,  2.45314881e-01,  4.17038538e-02,  2.11715885e-02,\n",
              "         6.43310472e-02, -1.77336976e-01,  2.16272652e-01,  1.03877723e-01,\n",
              "        -1.37577876e-02,  2.03294128e-01, -1.02542434e-03,  9.34650302e-01],\n",
              "       dtype=float32), (300,))"
            ]
          },
          "metadata": {},
          "execution_count": 33
        }
      ]
    },
    {
      "cell_type": "markdown",
      "source": [
        "Every neuron has a bias vector. each of these is paired with a weights matrix.\n",
        "\n",
        "The bias vector gets initialized as zeros.\n",
        "\n",
        "The bias vector dictates how much the patterns within the corresponding weights matrix should influence the next layer"
      ],
      "metadata": {
        "id": "cHrz4TTLK2eY"
      }
    },
    {
      "cell_type": "code",
      "source": [
        "from tensorflow.keras.utils import plot_model\n",
        "plot_model(model_2, show_shapes = True)"
      ],
      "metadata": {
        "colab": {
          "base_uri": "https://localhost:8080/",
          "height": 533
        },
        "id": "XlFzcO9sKp74",
        "outputId": "dbbb32e3-525e-418c-f9f5-0a585b104c02"
      },
      "execution_count": null,
      "outputs": [
        {
          "output_type": "execute_result",
          "data": {
            "image/png": "[encoded data removed]",
            "text/plain": [
              "<IPython.core.display.Image object>"
            ]
          },
          "metadata": {},
          "execution_count": 35
        }
      ]
    },
    {
      "cell_type": "code",
      "source": [],
      "metadata": {
        "id": "gmshKTh5MB6V"
      },
      "execution_count": null,
      "outputs": []
    }
  ]
}